{
 "cells": [
  {
   "cell_type": "code",
   "execution_count": null,
   "metadata": {},
   "outputs": [],
   "source": [
    "import torch\n",
    "import torchvision\n",
    "import torch.nn as nn\n",
    "import torch_geometric as pyg\n",
    "import torch.utils\n",
    "\n",
    "class InteractionNetwork(pyg.nn.MessagePassing):\n",
    "    def __init__(self, hidden_size, layers=3):\n",
    "        super().__init__()\n",
    "        self.lin_edge = torchvision.ops.MLP(hidden_size*3, hidden_size, layers)\n",
    "        torch.nn.MLP()"
   ]
  },
  {
   "cell_type": "code",
   "execution_count": null,
   "metadata": {},
   "outputs": [],
   "source": []
  }
 ],
 "metadata": {
  "language_info": {
   "name": "python"
  }
 },
 "nbformat": 4,
 "nbformat_minor": 2
}
