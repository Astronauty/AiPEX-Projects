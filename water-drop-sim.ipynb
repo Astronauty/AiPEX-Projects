{
 "cells": [
  {
   "cell_type": "code",
   "execution_count": 1,
   "metadata": {},
   "outputs": [
    {
     "ename": "ModuleNotFoundError",
     "evalue": "No module named 'torch_scatter'",
     "output_type": "error",
     "traceback": [
      "\u001b[0;31m---------------------------------------------------------------------------\u001b[0m",
      "\u001b[0;31mModuleNotFoundError\u001b[0m                       Traceback (most recent call last)",
      "\u001b[1;32m/Users/daniel/Documents/Python Projects/pytorchgeometric_tutorial/water-drop-sim.ipynb Cell 1\u001b[0m line \u001b[0;36m3\n\u001b[1;32m      <a href='vscode-notebook-cell:/Users/daniel/Documents/Python%20Projects/pytorchgeometric_tutorial/water-drop-sim.ipynb#W0sZmlsZQ%3D%3D?line=0'>1</a>\u001b[0m \u001b[39mimport\u001b[39;00m \u001b[39mos\u001b[39;00m\n\u001b[1;32m      <a href='vscode-notebook-cell:/Users/daniel/Documents/Python%20Projects/pytorchgeometric_tutorial/water-drop-sim.ipynb#W0sZmlsZQ%3D%3D?line=1'>2</a>\u001b[0m \u001b[39mimport\u001b[39;00m \u001b[39mtorch\u001b[39;00m\n\u001b[0;32m----> <a href='vscode-notebook-cell:/Users/daniel/Documents/Python%20Projects/pytorchgeometric_tutorial/water-drop-sim.ipynb#W0sZmlsZQ%3D%3D?line=2'>3</a>\u001b[0m \u001b[39mimport\u001b[39;00m \u001b[39mtorch_scatter\u001b[39;00m\n\u001b[1;32m      <a href='vscode-notebook-cell:/Users/daniel/Documents/Python%20Projects/pytorchgeometric_tutorial/water-drop-sim.ipynb#W0sZmlsZQ%3D%3D?line=3'>4</a>\u001b[0m \u001b[39mimport\u001b[39;00m \u001b[39mtorch_sparse\u001b[39;00m\n\u001b[1;32m      <a href='vscode-notebook-cell:/Users/daniel/Documents/Python%20Projects/pytorchgeometric_tutorial/water-drop-sim.ipynb#W0sZmlsZQ%3D%3D?line=4'>5</a>\u001b[0m \u001b[39mimport\u001b[39;00m \u001b[39mtorchvision\u001b[39;00m\n",
      "\u001b[0;31mModuleNotFoundError\u001b[0m: No module named 'torch_scatter'"
     ]
    }
   ],
   "source": [
    "import os\n",
    "import torch\n",
    "import torch_scatter\n",
    "import torch_sparse\n",
    "import torchvision\n",
    "import torch.nn as nn\n",
    "import torch_geometric as pyg\n",
    "from torch.utils.data import Dataset, DataLoader\n",
    "import torchdata.datapipes as dp\n",
    "import pandas as pd\n",
    "import requests\n",
    "import stat\n",
    "from tqdm import tqdm\n",
    "from pathlib import Path\n",
    "import numpy as np\n",
    "\n",
    "\n",
    "print(f\"PyTorch has version {torch.__version__} with cuda {torch.version.cuda}\")\n"
   ]
  },
  {
   "cell_type": "code",
   "execution_count": 11,
   "metadata": {},
   "outputs": [],
   "source": [
    "## Import dataset\n",
    "\n",
    "BASE_URL=\"https://storage.googleapis.com/learning-to-simulate-complex-physics/Datasets/${DATASET_NAME}/\"\n",
    "\n",
    "\n",
    "\n",
    "class LearningToSimulateDataset(Dataset):\n",
    "    def __init__(self, dataset_name, base_url=\"https://storage.googleapis.com/learning-to-simulate-complex-physics/Datasets/\"):\n",
    "        self.dataset_name = dataset_name\n",
    "        self.base_url = base_url\n",
    "\n",
    "        # Download the dataset if it does not exist.\n",
    "        if not os.path.exists(f\"{dataset_name}.npz\"):\n",
    "            print(\"Downloading dataset...\")\n",
    "            response = requests.get(f\"{base_url}{dataset_name}/train_v1.npz\")\n",
    "            open(f\"{dataset_name}.npz\", \"wb\").write(response.content)\n",
    "            print(\"Dataset downloaded.\")\n",
    "\n",
    "        # Load the dataset.\n",
    "        with open(f\"{dataset_name}.npz\", \"rb\") as f:\n",
    "            data = np.load(f)[\"data\"]\n",
    "\n",
    "        # Convert the data to PyTorch tensors.\n",
    "        self.inputs = torch.from_numpy(data[\"input\"])\n",
    "        self.targets = torch.from_numpy(data[\"target\"])\n",
    "\n",
    "    def __len__(self):\n",
    "        return len(self.inputs)\n",
    "\n",
    "    def __getitem__(self, index):\n",
    "        return self.inputs[index], self.targets[index]\n"
   ]
  },
  {
   "cell_type": "code",
   "execution_count": 9,
   "metadata": {},
   "outputs": [
    {
     "name": "stderr",
     "output_type": "stream",
     "text": [
      "100%|██████████| 4/4 [03:03<00:00, 45.84s/it] \n"
     ]
    }
   ],
   "source": [
    "url = \"https://storage.googleapis.com/learning-to-simulate-complex-physics/Datasets/WaterDropSample/metadata.json\"\n",
    "# response = requests.get(url)\n",
    "# print(response.ok)\n",
    "# print(response.status_code)\n",
    "\n",
    "\n",
    "DATASET_NAME = 'WaterDrop'\n",
    "\n",
    "\n",
    "BASE_URL = f\"https://storage.googleapis.com/learning-to-simulate-complex-physics/Datasets/{DATASET_NAME}\"\n",
    "\n",
    "# os.chmod(OUTPUT_DIR, stat.S_IRWXU)\n",
    "# os.makedirs(OUTPUT_DIR, exist_ok=True)\n",
    "# print(BASE_URL)\n",
    "\n",
    "\n",
    "\n",
    "\n",
    "file_types = [\"metadata.json\", \"train.tfrecord\", \"valid.tfrecord\", \"test.tfrecord\"]\n",
    "for file_type in tqdm(file_types):\n",
    "    response = requests.get(f\"{BASE_URL}/{file_type}\")\n",
    "    output_file = Path(f'/Users/daniel/Documents/Python Projects/pytorchgeometric_tutorial/data/{DATASET_NAME}/{file_type}')\n",
    "    if not os.path.exists(output_file.parent):\n",
    "        os.makedirs(output_file.parent)\n",
    "    with open(output_file, mode='wb') as file:\n",
    "        file.write(response.content)\n",
    "        \n",
    "        \n"
   ]
  },
  {
   "cell_type": "markdown",
   "metadata": {},
   "source": [
    "# Data Preprocessing"
   ]
  },
  {
   "cell_type": "code",
   "execution_count": 26,
   "metadata": {},
   "outputs": [
    {
     "name": "stdout",
     "output_type": "stream",
     "text": [
      "[1 2 3]\n"
     ]
    }
   ],
   "source": [
    "def generate_noise(position_seq, noise_std):\n",
    "    velocity_seq = position_seq[:, 1:] - position_seq[:, :-1]\n",
    "    time_steps = velocity_seq.size(1)\n",
    "    velocity_noise = torch.randn_like(velocity_seq) * (noise_std/time_steps ** 0.5)\n",
    "    "
   ]
  },
  {
   "cell_type": "code",
   "execution_count": null,
   "metadata": {},
   "outputs": [],
   "source": [
    "\n",
    "class InteractionNetwork(pyg.nn.MessagePassing):\n",
    "    def __init__(self, hidden_size, layers=3):\n",
    "        super().__init__()\n",
    "        self.lin_edge = torchvision.ops.MLP(hidden_size*3, hidden_size, layers)\n",
    "        self.lin_node = torchvision.ops.MLP(hidden_size*2, hidden_size,layers)\n",
    "        return x\n",
    "\n",
    "    \n",
    "    def message(self, x_i, x_j, edge_feature):\n",
    "        x = torch.cat((x_i, x_j, edge_feature), dim=1)\n",
    "        x = self.lin_edge(x)\n",
    "        \n",
    "    def aggregate(self, inputs, index):\n",
    "        out = torch_sc"
   ]
  },
  {
   "cell_type": "code",
   "execution_count": null,
   "metadata": {},
   "outputs": [],
   "source": []
  }
 ],
 "metadata": {
  "kernelspec": {
   "display_name": "Python 3",
   "language": "python",
   "name": "python3"
  },
  "language_info": {
   "codemirror_mode": {
    "name": "ipython",
    "version": 3
   },
   "file_extension": ".py",
   "mimetype": "text/x-python",
   "name": "python",
   "nbconvert_exporter": "python",
   "pygments_lexer": "ipython3",
   "version": "3.11.5"
  }
 },
 "nbformat": 4,
 "nbformat_minor": 2
}
