{
 "cells": [
  {
   "cell_type": "code",
   "execution_count": null,
   "metadata": {},
   "outputs": [
    {
     "ename": "",
     "evalue": "",
     "output_type": "error",
     "traceback": [
      "\u001b[1;31mRunning cells with 'c:\\Program Files\\Python311\\python.exe' requires the ipykernel package.\n",
      "\u001b[1;31mRun the following command to install 'ipykernel' into the Python environment. \n",
      "\u001b[1;31mCommand: '\"c:/Program Files/Python311/python.exe\" -m pip install ipykernel -U --user --force-reinstall'"
     ]
    }
   ],
   "source": [
    "import os\n",
    "import torch\n",
    "import torch_scatter\n",
    "import torch_sparse\n",
    "import torchvision\n",
    "import torch.nn as nn\n",
    "import torch_geometric as pyg\n",
    "from torch.utils.data import Dataset, DataLoader\n",
    "import pandas as pd\n",
    "import requests\n",
    "\n",
    "print(f\"PyTorch has version {torch.__version__} with cuda {torch.version.cuda}\")\n"
   ]
  },
  {
   "cell_type": "code",
   "execution_count": null,
   "metadata": {},
   "outputs": [
    {
     "ename": "",
     "evalue": "",
     "output_type": "error",
     "traceback": [
      "\u001b[1;31mRunning cells with 'GNN' requires the ipykernel package.\n",
      "\u001b[1;31mRun the following command to install 'ipykernel' into the Python environment. \n",
      "\u001b[1;31mCommand: 'conda install -n GNN ipykernel --update-deps --force-reinstall'"
     ]
    }
   ],
   "source": [
    "## Import dataset\n",
    "\n",
    "BASE_URL=\"https://storage.googleapis.com/learning-to-simulate-complex-physics/Datasets/${DATASET_NAME}/\"\n",
    "\n",
    "import torch\n",
    "from torch.utils.data import Dataset\n",
    "import requests\n",
    "import numpy as np\n",
    "\n",
    "class LearningToSimulateDataset(Dataset):\n",
    "    def __init__(self, dataset_name, base_url=\"https://storage.googleapis.com/learning-to-simulate-complex-physics/Datasets/\"):\n",
    "        self.dataset_name = dataset_name\n",
    "        self.base_url = base_url\n",
    "\n",
    "        # Download the dataset if it does not exist.\n",
    "        if not os.path.exists(f\"{dataset_name}.npz\"):\n",
    "            print(\"Downloading dataset...\")\n",
    "            response = requests.get(f\"{base_url}{dataset_name}/train_v1.npz\")\n",
    "            open(f\"{dataset_name}.npz\", \"wb\").write(response.content)\n",
    "            print(\"Dataset downloaded.\")\n",
    "\n",
    "        # Load the dataset.\n",
    "        with open(f\"{dataset_name}.npz\", \"rb\") as f:\n",
    "            data = np.load(f)[\"data\"]\n",
    "\n",
    "        # Convert the data to PyTorch tensors.\n",
    "        self.inputs = torch.from_numpy(data[\"input\"])\n",
    "        self.targets = torch.from_numpy(data[\"target\"])\n",
    "\n",
    "    def __len__(self):\n",
    "        return len(self.inputs)\n",
    "\n",
    "    def __getitem__(self, index):\n",
    "        return self.inputs[index], self.targets[index]\n"
   ]
  },
  {
   "cell_type": "code",
   "execution_count": null,
   "metadata": {},
   "outputs": [
    {
     "ename": "",
     "evalue": "",
     "output_type": "error",
     "traceback": [
      "\u001b[1;31mRunning cells with 'GNN' requires the ipykernel package.\n",
      "\u001b[1;31mRun the following command to install 'ipykernel' into the Python environment. \n",
      "\u001b[1;31mCommand: 'conda install -n GNN ipykernel --update-deps --force-reinstall'"
     ]
    }
   ],
   "source": [
    "url = \"https://storage.googleapis.com/learning-to-simulate-complex-physics/Datasets/WaterRamps/test.tfrecord\"\n",
    "response = requests.get(url).content\n",
    "print(response)\n",
    "print(response[2])\n"
   ]
  },
  {
   "cell_type": "markdown",
   "metadata": {},
   "source": [
    "# Data Preprocessing"
   ]
  },
  {
   "cell_type": "code",
   "execution_count": 26,
   "metadata": {},
   "outputs": [
    {
     "name": "stdout",
     "output_type": "stream",
     "text": [
      "[1 2 3]\n"
     ]
    }
   ],
   "source": [
    "def generate_noise(position_seq, noise_std):\n",
    "    velocity_seq = position_seq[:, 1:] - position_seq[:, :-1]\n",
    "    time_steps = velocity_seq.size(1)\n",
    "    velocity_noise = torch.randn_like(velocity_seq) * (noise_std/time_steps ** 0.5)\n",
    "    "
   ]
  },
  {
   "cell_type": "code",
   "execution_count": null,
   "metadata": {},
   "outputs": [],
   "source": [
    "\n",
    "class InteractionNetwork(pyg.nn.MessagePassing):\n",
    "    def __init__(self, hidden_size, layers=3):\n",
    "        super().__init__()\n",
    "        self.lin_edge = torchvision.ops.MLP(hidden_size*3, hidden_size, layers)\n",
    "        self.lin_node = torchvision.ops.MLP(hidden_size*2, hidden_size,layers)\n",
    "        return x\n",
    "\n",
    "    \n",
    "    def message(self, x_i, x_j, edge_feature):\n",
    "        x = torch.cat((x_i, x_j, edge_feature), dim=1)\n",
    "        x = self.lin_edge(x)\n",
    "        \n",
    "    def aggregate(self, inputs, index):\n",
    "        out = torch_sc"
   ]
  },
  {
   "cell_type": "code",
   "execution_count": null,
   "metadata": {},
   "outputs": [],
   "source": []
  }
 ],
 "metadata": {
  "kernelspec": {
   "display_name": "Python 3",
   "language": "python",
   "name": "python3"
  },
  "language_info": {
   "codemirror_mode": {
    "name": "ipython",
    "version": 3
   },
   "file_extension": ".py",
   "mimetype": "text/x-python",
   "name": "python",
   "nbconvert_exporter": "python",
   "pygments_lexer": "ipython3",
   "version": "3.11.1"
  }
 },
 "nbformat": 4,
 "nbformat_minor": 2
}
