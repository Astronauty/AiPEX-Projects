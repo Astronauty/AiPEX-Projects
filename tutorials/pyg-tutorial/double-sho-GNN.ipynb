{
 "cells": [
  {
   "cell_type": "code",
   "execution_count": 1,
   "metadata": {},
   "outputs": [
    {
     "name": "stdout",
     "output_type": "stream",
     "text": [
      "   SimNum        t       x1       x2       v1     v2\n",
      "0     1.0  0.60232  0.36285  0.13353  0.91389  0.001\n",
      "1     1.0  0.60246  0.36376  0.13214  0.91397  0.002\n",
      "2     1.0  0.60259  0.36467  0.13074  0.91405  0.003\n",
      "3     1.0  0.60272  0.36559  0.12935  0.91413  0.004\n",
      "4     1.0  0.60285  0.36650  0.12796  0.91421  0.005\n",
      "DB Memory Size:  0.240026532 GB\n"
     ]
    }
   ],
   "source": [
    "import os\n",
    "import torch\n",
    "import scipy.io\n",
    "import numpy as np\n",
    "import pandas as pd\n",
    "import torch_geometric as pyg\n",
    "import torch\n",
    "import matplotlib.pyplot as plt\n",
    "import networkx as nx\n",
    "import tqdm\n",
    "\n",
    "from torch_geometric.data import Data, Dataset\n",
    "from torch_geometric.loader import DataLoader\n",
    "\n",
    "df = pd.read_csv('/Users/daniel/Documents/MATLAB/double_sho_data.csv')\n",
    "df.columns = ('SimNum', 't', 'x1', 'x2', 'v1', 'v2')\n",
    "print(df.head())\n",
    "print(\"DB Memory Size: \",df.memory_usage(index=True).sum()/1E9, \"GB\")"
   ]
  },
  {
   "cell_type": "code",
   "execution_count": null,
   "metadata": {},
   "outputs": [],
   "source": [
    "class SHO_Dataset(Dataset):\n",
    "    def __init__(self, root, transform=None, pre_transform=None, pre_filter=None):\n",
    "        super().__init__(root, transform, pre_transform, pre_filter)\n",
    "\n",
    "    @property\n",
    "    def raw_file_names(self):\n",
    "        return '/Users/daniel/Documents/MATLAB/double_sho_data.csv'\n",
    "\n",
    "    @property\n",
    "    def processed_file_names(self):\n",
    "        return 'not_implemented.pt'\n",
    "\n",
    "    def download(self):\n",
    "        pass\n",
    "\n",
    "    def process(self):\n",
    "        self.data = pd.read_csv(self.raw_paths[0])\n",
    "        df.columns = ('SimNum', 't', 'x1', 'x2', 'v1', 'v2')\n",
    "        \n",
    "        for index in tqdm(self.data.iterrows(), total=self.data.shape[0]):\n",
    "            \n",
    "        ### Graph Structure\n",
    "        # 2 nodes (corresponding to each mass)\n",
    "        # 1 edge (relative velocity)\n",
    "        \n",
    "        ###\n",
    "        # Initialize node features to zero\n",
    "        node_feats = np.zeros(2)\n",
    "        \n",
    "        # Initialize edge features to zero\n",
    "        \n",
    "        \n",
    "        # Set manual adjacency matrix\n",
    "                    \n",
    "        data = Data(x = node_features,\n",
    "                    edge_index=edge_features,\n",
    "                    y = label)\n",
    "        \n",
    "        torch.save(data, os.path.joint(self.processed_dir, f'data_index'))\n",
    "        torch.save(data, os.join(self.processed_dir, f'data_{index}.pt'))\n",
    "        \n",
    "\n",
    "\n",
    "    def len(self):\n",
    "        return len(self.processed_file_names)\n",
    "\n",
    "    def get(self, idx):\n",
    "        data = torch.load(os.join(self.processed_dir, f'data_{idx}.pt'))\n",
    "        return data\n",
    "\n",
    "dataset = SHO_Dataset(root=\"data/\")"
   ]
  },
  {
   "cell_type": "code",
   "execution_count": null,
   "metadata": {},
   "outputs": [],
   "source": [
    "# def prepreocess():\n",
    "#     # Convert state velocities to relative velocities that correspond to that of the dampers\n",
    "    \n",
    "#     # Predefine causality and connectivity for now\n",
    "    \n",
    "#     graph = pyg.data.Data()\n",
    "    \n",
    "# class InteractionNetwork(pyg.nn):\n",
    "\n",
    "class SHO_Simulator(torch.nn.Module):\n",
    "    def __init__(self, *args, **kwargs) -> None:\n",
    "        super().__init__()\n",
    "        \n",
    "        # GNN layers\n",
    "        self.linear1 = torch.nn.Linear()\n",
    "        \n",
    "    def forward(self, )\n",
    "\n",
    "def train():\n",
    "    loss = torch.nn.MSELoss()\n",
    "    optimizer = torch.optim.Adam(simulator.parameters())\n",
    "        "
   ]
  }
 ],
 "metadata": {
  "kernelspec": {
   "display_name": "Python 3",
   "language": "python",
   "name": "python3"
  },
  "language_info": {
   "codemirror_mode": {
    "name": "ipython",
    "version": 3
   },
   "file_extension": ".py",
   "mimetype": "text/x-python",
   "name": "python",
   "nbconvert_exporter": "python",
   "pygments_lexer": "ipython3",
   "version": "3.11.5"
  },
  "orig_nbformat": 4
 },
 "nbformat": 4,
 "nbformat_minor": 2
}
