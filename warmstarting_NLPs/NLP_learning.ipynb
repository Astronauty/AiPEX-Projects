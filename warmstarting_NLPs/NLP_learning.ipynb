{
 "cells": [
  {
   "cell_type": "code",
   "execution_count": 127,
   "metadata": {},
   "outputs": [
    {
     "name": "stdout",
     "output_type": "stream",
     "text": [
      "The tensorboard extension is already loaded. To reload it, use:\n",
      "  %reload_ext tensorboard\n",
      "Using device: cuda\n"
     ]
    }
   ],
   "source": [
    "import os\n",
    "import pandas as pd\n",
    "import pathlib\n",
    "import numpy as np\n",
    "import torch\n",
    "import matplotlib.pyplot as plt\n",
    "import time\n",
    "\n",
    "\n",
    "from tqdm import tqdm\n",
    "from sklearn.model_selection import train_test_split\n",
    "from ast import literal_eval\n",
    "from torch import nn\n",
    "from torch.optim import lr_scheduler\n",
    "from torch.utils.data import Dataset, DataLoader\n",
    "from torch.utils.tensorboard import SummaryWriter\n",
    "\n",
    "%load_ext tensorboard\n",
    "device = 'cuda' if torch.cuda.is_available() else 'cpu'\n",
    "print(f\"Using device: {device}\")"
   ]
  },
  {
   "cell_type": "code",
   "execution_count": 128,
   "metadata": {},
   "outputs": [],
   "source": [
    "# f'cartpole-{time.strftime(\"%Y%m%d-%H%M%S\")}'"
   ]
  },
  {
   "cell_type": "code",
   "execution_count": 129,
   "metadata": {},
   "outputs": [
    {
     "data": {
      "text/plain": [
       "Reusing TensorBoard on port 6006 (pid 1515880), started 1:07:06 ago. (Use '!kill 1515880' to kill it.)"
      ]
     },
     "metadata": {},
     "output_type": "display_data"
    },
    {
     "data": {
      "text/html": [
       "\n",
       "      <iframe id=\"tensorboard-frame-bd9cc8883c334d87\" width=\"100%\" height=\"800\" frameborder=\"0\">\n",
       "      </iframe>\n",
       "      <script>\n",
       "        (function() {\n",
       "          const frame = document.getElementById(\"tensorboard-frame-bd9cc8883c334d87\");\n",
       "          const url = new URL(\"http://localhost\");\n",
       "          const port = 6006;\n",
       "          if (port) {\n",
       "            url.port = port;\n",
       "          }\n",
       "          frame.src = url;\n",
       "        })();\n",
       "      </script>\n",
       "    "
      ],
      "text/plain": [
       "<IPython.core.display.HTML object>"
      ]
     },
     "metadata": {},
     "output_type": "display_data"
    }
   ],
   "source": [
    "writer = SummaryWriter(f'runs/cartpole-{time.strftime(\"%Y%m%d-%H%M%S\")}')\n",
    "%tensorboard --logdir=runs"
   ]
  },
  {
   "cell_type": "markdown",
   "metadata": {},
   "source": [
    "## Define Dataset and DataLoader"
   ]
  },
  {
   "cell_type": "code",
   "execution_count": 130,
   "metadata": {},
   "outputs": [],
   "source": [
    "class CartpoleNLPDataset(Dataset):\n",
    "    def __init__(self, nlp_results_path, train):\n",
    "        self.df = pd.read_csv(path)\n",
    "\n",
    "        # Process columns of the dataframe that contain arrays that are formatted as strings in the csv\n",
    "        array_elements = ['params', 'X', 'U']\n",
    "        for elem in array_elements:\n",
    "            self.df[elem] = self.df[elem].apply(literal_eval) # Convert strings into lists \n",
    "            self.df[elem] = self.df[elem].apply(lambda x: np.array(x, dtype=np.float64)) # Convert lists into np arrays of type np.float64\n",
    "\n",
    "        # Split the data into training and testing sets\n",
    "        train_df, test_df = train_test_split(self.df, test_size=0.2)\n",
    "\n",
    "        if train:\n",
    "            self.df = train_df\n",
    "        else:\n",
    "            self.df = test_df\n",
    "\n",
    "        # Store the number of params (NN inputs) and length of trajectory (NN outputs)\n",
    "        self.n_params = len(self.df['params'].iloc[0])\n",
    "        N = self.df['X'].iloc[0].shape[0] # number of timesteps\n",
    "        n_states = len(self.df['X'].iloc[0][0])\n",
    "        n_controls = len(self.df['U'].iloc[0][0])\n",
    "\n",
    "        # print(n_states)\n",
    "        # print(n_controls)\n",
    "        # print(N)\n",
    "        self.n_traj = n_states*N + n_controls*(N-1)\n",
    "\n",
    "    def __len__(self):\n",
    "        return self.df.shape[0]\n",
    "    \n",
    "    def __getitem__(self, idx):\n",
    "        params = self.df.iloc[idx].params\n",
    "        X = self.df.iloc[idx].X\n",
    "        U = self.df.iloc[idx].U\n",
    "        \n",
    "        Z = np.array([np.hstack((X[i], U[i])) for i in range(len(U))], dtype=np.float64) # create the trajectory vector where element z_i = [x_i, u_i]\n",
    "        Z = Z.flatten()\n",
    "        # print(Z[-6:])\n",
    "        # print(Z.shape)\n",
    "        Z = np.concatenate((Z, X[-1])) # add the final state to the end of the trajectory\n",
    "        # print(Z[-6:])\n",
    "        # print(Z.shape)\n",
    "        # print()\n",
    "\n",
    "        return params, Z\n",
    "    def getitem(self, idx):\n",
    "        params = self.df.iloc[idx].params\n",
    "        X = self.df.iloc[idx].X\n",
    "        U = self.df.iloc[idx].U\n",
    "        \n",
    "        Z = np.array([np.hstack((X[i], U[i])) for i in range(len(U))]) # create the trajectory vector where element z_i = [x_i, u_i]\n",
    "        \n",
    "        return params, Z\n",
    "\n",
    "    "
   ]
  },
  {
   "cell_type": "code",
   "execution_count": 131,
   "metadata": {},
   "outputs": [
    {
     "name": "stdout",
     "output_type": "stream",
     "text": [
      "204\n"
     ]
    }
   ],
   "source": [
    "path = 'data/cartpole_DIRCOL_5000.csv'\n",
    "train_data = CartpoleNLPDataset(path, train=True)\n",
    "test_data = CartpoleNLPDataset(path, train=False)\n",
    "# print(train_data.getitem(0)[1].dtype)\n",
    "print(train_data.n_traj)\n",
    "\n",
    "train_dataloader = DataLoader(train_data, batch_size=16, shuffle=True)\n",
    "test_dataloader = DataLoader(test_data, batch_size=16, shuffle=True)\n",
    "\n",
    "params, Z = next(iter(train_dataloader))\n",
    "# print(params.shape)\n",
    "# print(Z.shape)\n"
   ]
  },
  {
   "cell_type": "code",
   "execution_count": 132,
   "metadata": {},
   "outputs": [
    {
     "data": {
      "text/plain": [
       "204"
      ]
     },
     "execution_count": 132,
     "metadata": {},
     "output_type": "execute_result"
    }
   ],
   "source": [
    "cartpole_data = CartpoleNLPDataset(path, train=True)\n",
    "cartpole_data.n_params\n",
    "cartpole_data.n_traj\n",
    "# cartpole_data.df['X'].iloc[0].shape[0]"
   ]
  },
  {
   "cell_type": "markdown",
   "metadata": {},
   "source": [
    "## Define the NN"
   ]
  },
  {
   "cell_type": "code",
   "execution_count": 133,
   "metadata": {},
   "outputs": [],
   "source": [
    "class CartpoleNN(nn.Module):\n",
    "    def __init__(self, n_params, n_traj):\n",
    "        super().__init__()\n",
    "        self.flatten = nn.Flatten()\n",
    "        self.linear_relu_stack = nn.Sequential(\n",
    "            nn.Linear(n_params, 128),\n",
    "            nn.ReLU(),\n",
    "            nn.Linear(128, 128),\n",
    "            nn.ReLU(),\n",
    "            nn.Linear(128, n_traj)\n",
    "        )\n",
    "        self.linear_relu_stack = self.linear_relu_stack.double()\n",
    "\n",
    "        \n",
    "    def forward(self, params):\n",
    "        # params = self.flatten(params)\n",
    "        traj = self.linear_relu_stack(params)\n",
    "        return traj\n"
   ]
  },
  {
   "cell_type": "code",
   "execution_count": 134,
   "metadata": {},
   "outputs": [
    {
     "name": "stdout",
     "output_type": "stream",
     "text": [
      "Model structure: CartpoleNN(\n",
      "  (flatten): Flatten(start_dim=1, end_dim=-1)\n",
      "  (linear_relu_stack): Sequential(\n",
      "    (0): Linear(in_features=2, out_features=128, bias=True)\n",
      "    (1): ReLU()\n",
      "    (2): Linear(in_features=128, out_features=128, bias=True)\n",
      "    (3): ReLU()\n",
      "    (4): Linear(in_features=128, out_features=204, bias=True)\n",
      "  )\n",
      ")\n",
      "\n",
      "\n"
     ]
    }
   ],
   "source": [
    "model = CartpoleNN(cartpole_data.n_params, cartpole_data.n_traj).to(device)\n",
    "print(f\"Model structure: {model}\\n\\n\")\n",
    "\n",
    "# for name, param in model.named_parameters():\n",
    "#     print(f\"Layer: {name} | Size: {param.size()} | Values : {param[:2]} \\n\")\n"
   ]
  },
  {
   "cell_type": "markdown",
   "metadata": {},
   "source": [
    "## Training Loop"
   ]
  },
  {
   "cell_type": "code",
   "execution_count": 135,
   "metadata": {},
   "outputs": [],
   "source": [
    "def train_loop(dataloader, model, loss_fn, optimizer):\n",
    "    size = len(dataloader.dataset)\n",
    "    model.train()\n",
    "\n",
    "    for batch, (X,y) in enumerate(dataloader):\n",
    "        X = X.to(device)\n",
    "        y = y.to(device)\n",
    "\n",
    "\n",
    "\n",
    "        pred = model(X)\n",
    "        loss = loss_fn(pred, y)\n",
    "\n",
    "        # Backprop\n",
    "        loss.backward()\n",
    "        optimizer.step()\n",
    "        optimizer.zero_grad()\n",
    "\n",
    "        if batch % 50 == 0:\n",
    "            writer.add_scalar('train loss x batch', loss, batch)\n",
    "            loss, current = loss.item(), batch * len(X)\n",
    "            # print(f\"loss: {loss:>7f}  [{current:>5d}/{size:>5d}]\")\n",
    "            \n",
    "\n",
    "\n",
    "def test_loop(dataloader, model, loss_fn):\n",
    "    model.eval()\n",
    "    size = len(dataloader.dataset)\n",
    "    num_batches = len(dataloader)\n",
    "    test_loss = 0\n",
    "\n",
    "    with torch.no_grad():\n",
    "        for X, y in dataloader:\n",
    "            X = X.to(device)\n",
    "            y = y.to(device)\n",
    "            \n",
    "            pred = model(X)\n",
    "            test_loss += loss_fn(pred, y).item()\n",
    "\n",
    "    test_loss /= num_batches # average loss per batch\n",
    "    # print(f\"Test Error: \\n Avg loss: {test_loss:>8f} \\n\")\n",
    "\n",
    "\n",
    "    return test_loss\n",
    "\n",
    "\n"
   ]
  },
  {
   "cell_type": "code",
   "execution_count": 136,
   "metadata": {},
   "outputs": [
    {
     "name": "stderr",
     "output_type": "stream",
     "text": [
      "100%|██████████| 100/100 [01:38<00:00,  1.02it/s]"
     ]
    },
    {
     "name": "stdout",
     "output_type": "stream",
     "text": [
      "Done!\n"
     ]
    },
    {
     "name": "stderr",
     "output_type": "stream",
     "text": [
      "\n"
     ]
    }
   ],
   "source": [
    "learning_rate = 5e-3\n",
    "batch_size = 64\n",
    "epochs = 100\n",
    "\n",
    "loss_fn = nn.MSELoss()\n",
    "optimizer = torch.optim.SGD(model.parameters(), lr=learning_rate, weight_decay=1e-5)\n",
    "scheduler = torch.optim.lr_scheduler.ExponentialLR(optimizer, gamma=0.9)\n",
    "\n",
    "for t in tqdm(range(epochs)):\n",
    "    # print(f\"Epoch {t+1}\\n-------------------------------\")\n",
    "    train_loop(train_dataloader, model, loss_fn, optimizer)\n",
    "    scheduler.step()\n",
    "\n",
    "    test_loss = test_loop(test_dataloader, model, loss_fn)\n",
    "    writer.add_scalar('test loss x epoch', test_loss, t)\n",
    "\n",
    "\n",
    "\n",
    "writer.flush()\n",
    "writer.close()\n",
    "print(\"Done!\")\n"
   ]
  },
  {
   "cell_type": "markdown",
   "metadata": {},
   "source": [
    "## Visualize and Track Trajectory"
   ]
  },
  {
   "cell_type": "code",
   "execution_count": 142,
   "metadata": {},
   "outputs": [
    {
     "name": "stdout",
     "output_type": "stream",
     "text": [
      "0.00028923200000008364\n"
     ]
    }
   ],
   "source": [
    "# model = torch.load('models/cartpole_model1.pth')\n",
    "model.eval()\n",
    "# rand_param = torch.rand()\n",
    "\n",
    "param_lower = [0.0, 0.0]\n",
    "param_upper = [0.2, np.pi/2]\n",
    "\n",
    "rand_param = torch.rand(len(param_lower)) * (torch.tensor(param_upper) - torch.tensor(param_lower)) + torch.tensor(param_lower)\n",
    "rand_param = rand_param.double()\n",
    "\n",
    "Z = None\n",
    "with torch.no_grad():\n",
    "    rand_param = rand_param.to(device)\n",
    "    start = time.process_time()\n",
    "    Z = model(rand_param)\n",
    "    end = time.process_time()\n",
    "Z = Z.detach().cpu().numpy()\n",
    "\n",
    "print(end-start)\n"
   ]
  },
  {
   "cell_type": "code",
   "execution_count": 138,
   "metadata": {},
   "outputs": [
    {
     "name": "stdout",
     "output_type": "stream",
     "text": [
      "(204,)\n",
      "(41, 4)\n"
     ]
    },
    {
     "data": {
      "text/plain": [
       "<matplotlib.legend.Legend at 0x7cbbbbc41cd0>"
      ]
     },
     "execution_count": 138,
     "metadata": {},
     "output_type": "execute_result"
    },
    {
     "data": {
      "image/png": "[encoded data removed]",
      "text/plain": [
       "<Figure size 640x480 with 1 Axes>"
      ]
     },
     "metadata": {},
     "output_type": "display_data"
    }
   ],
   "source": [
    "from utils.trajectory_utils import create_idx\n",
    "nx, nu, N = 4, 1, 41\n",
    "# nx, nu, N, nz, nc, x, u, c= create_idx(nx, nu, N)\n",
    "idx = create_idx(nx, nu, N)\n",
    "idx.x\n",
    "\n",
    "print(Z.shape)\n",
    "print(Z[idx.x].shape)\n",
    "plt.plot(Z[idx.x][:,:2])\n",
    "\n",
    "plt.xlabel('Time Step')\n",
    "plt.ylabel('State')\n",
    "plt.legend(['x', 'theta'])"
   ]
  },
  {
   "cell_type": "code",
   "execution_count": 139,
   "metadata": {},
   "outputs": [
    {
     "data": {
      "text/plain": [
       "(40, 5)"
      ]
     },
     "execution_count": 139,
     "metadata": {},
     "output_type": "execute_result"
    }
   ],
   "source": [
    "params, traj = cartpole_data.getitem(0)\n",
    "\n",
    "traj.shape"
   ]
  }
 ],
 "metadata": {
  "kernelspec": {
   "display_name": "ocrl-piano",
   "language": "python",
   "name": "python3"
  },
  "language_info": {
   "codemirror_mode": {
    "name": "ipython",
    "version": 3
   },
   "file_extension": ".py",
   "mimetype": "text/x-python",
   "name": "python",
   "nbconvert_exporter": "python",
   "pygments_lexer": "ipython3",
   "version": "3.11.9"
  }
 },
 "nbformat": 4,
 "nbformat_minor": 2
}
