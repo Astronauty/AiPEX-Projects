{
 "cells": [
  {
   "cell_type": "code",
   "execution_count": 319,
   "metadata": {},
   "outputs": [
    {
     "name": "stdout",
     "output_type": "stream",
     "text": [
      "The tensorboard extension is already loaded. To reload it, use:\n",
      "  %reload_ext tensorboard\n",
      "The autoreload extension is already loaded. To reload it, use:\n",
      "  %reload_ext autoreload\n",
      "Using device: cuda\n"
     ]
    }
   ],
   "source": [
    "import os\n",
    "import pandas as pd\n",
    "import pathlib\n",
    "import numpy as np\n",
    "import torch\n",
    "import matplotlib as mpl\n",
    "import matplotlib.pyplot as plt\n",
    "import time\n",
    "import seaborn as sns\n",
    "\n",
    "from tqdm import tqdm\n",
    "from sklearn.model_selection import train_test_split\n",
    "from ast import literal_eval\n",
    "from torch import nn\n",
    "from torch.optim import lr_scheduler\n",
    "from torch.utils.data import Dataset, DataLoader\n",
    "from torch.utils.tensorboard import SummaryWriter\n",
    "\n",
    "%load_ext tensorboard\n",
    "%load_ext autoreload\n",
    "%autoreload 2\n",
    "\n",
    "device = 'cuda' if torch.cuda.is_available() else 'cpu'\n",
    "print(f\"Using device: {device}\")"
   ]
  },
  {
   "cell_type": "code",
   "execution_count": 298,
   "metadata": {},
   "outputs": [],
   "source": [
    "# f'cartpole-{time.strftime(\"%Y%m%d-%H%M%S\")}'"
   ]
  },
  {
   "cell_type": "code",
   "execution_count": 299,
   "metadata": {},
   "outputs": [
    {
     "data": {
      "text/plain": [
       "Reusing TensorBoard on port 6006 (pid 1515880), started 1 day, 1:00:25 ago. (Use '!kill 1515880' to kill it.)"
      ]
     },
     "metadata": {},
     "output_type": "display_data"
    },
    {
     "data": {
      "text/html": [
       "\n",
       "      <iframe id=\"tensorboard-frame-5627b42dfde0fbee\" width=\"100%\" height=\"800\" frameborder=\"0\">\n",
       "      </iframe>\n",
       "      <script>\n",
       "        (function() {\n",
       "          const frame = document.getElementById(\"tensorboard-frame-5627b42dfde0fbee\");\n",
       "          const url = new URL(\"http://localhost\");\n",
       "          const port = 6006;\n",
       "          if (port) {\n",
       "            url.port = port;\n",
       "          }\n",
       "          frame.src = url;\n",
       "        })();\n",
       "      </script>\n",
       "    "
      ],
      "text/plain": [
       "<IPython.core.display.HTML object>"
      ]
     },
     "metadata": {},
     "output_type": "display_data"
    }
   ],
   "source": [
    "writer = SummaryWriter(f'runs/cartpole-{time.strftime(\"%Y%m%d-%H%M%S\")}')\n",
    "%tensorboard --logdir=runs"
   ]
  },
  {
   "cell_type": "markdown",
   "metadata": {},
   "source": [
    "## Define Dataset and DataLoader"
   ]
  },
  {
   "cell_type": "code",
   "execution_count": 300,
   "metadata": {},
   "outputs": [],
   "source": [
    "class CartpoleNLPDataset(Dataset):\n",
    "    def __init__(self, nlp_results_path, train):\n",
    "        self.df = pd.read_csv(path)\n",
    "\n",
    "        # Process columns of the dataframe that contain arrays that are formatted as strings in the csv\n",
    "        array_elements = ['params', 'X', 'U']\n",
    "        for elem in array_elements:\n",
    "            self.df[elem] = self.df[elem].apply(literal_eval) # Convert strings into lists \n",
    "            self.df[elem] = self.df[elem].apply(lambda x: np.array(x, dtype=np.float64)) # Convert lists into np arrays of type np.float64\n",
    "\n",
    "        # Split the data into training and testing sets\n",
    "        train_df, test_df = train_test_split(self.df, test_size=0.2)\n",
    "\n",
    "        if train:\n",
    "            self.df = train_df\n",
    "        else:\n",
    "            self.df = test_df\n",
    "\n",
    "        # Store the number of params (NN inputs) and length of trajectory (NN outputs)\n",
    "        self.n_params = len(self.df['params'].iloc[0])\n",
    "        N = self.df['X'].iloc[0].shape[0] # number of timesteps\n",
    "        n_states = len(self.df['X'].iloc[0][0])\n",
    "        n_controls = len(self.df['U'].iloc[0][0])\n",
    "\n",
    "        # print(n_states)\n",
    "        # print(n_controls)\n",
    "        # print(N)\n",
    "        self.n_traj = n_states*N + n_controls*(N-1)\n",
    "\n",
    "    def __len__(self):\n",
    "        return self.df.shape[0]\n",
    "    \n",
    "    def __getitem__(self, idx):\n",
    "        params = self.df.iloc[idx].params\n",
    "        X = self.df.iloc[idx].X\n",
    "        U = self.df.iloc[idx].U\n",
    "        \n",
    "        Z = np.array([np.hstack((X[i], U[i])) for i in range(len(U))], dtype=np.float64) # create the trajectory vector where element z_i = [x_i, u_i]\n",
    "        Z = Z.flatten()\n",
    "        # print(Z[-6:])\n",
    "        # print(Z.shape)\n",
    "        Z = np.concatenate((Z, X[-1])) # add the final state to the end of the trajectory\n",
    "        # print(Z[-6:])\n",
    "        # print(Z.shape)\n",
    "        # print()\n",
    "\n",
    "        return params, Z\n",
    "    def getitem(self, idx):\n",
    "        params = self.df.iloc[idx].params\n",
    "        X = self.df.iloc[idx].X\n",
    "        U = self.df.iloc[idx].U\n",
    "        \n",
    "        Z = np.array([np.hstack((X[i], U[i])) for i in range(len(U))]) # create the trajectory vector where element z_i = [x_i, u_i]\n",
    "        \n",
    "        return params, Z\n",
    "\n",
    "    "
   ]
  },
  {
   "cell_type": "code",
   "execution_count": 301,
   "metadata": {},
   "outputs": [
    {
     "name": "stdout",
     "output_type": "stream",
     "text": [
      "204\n"
     ]
    }
   ],
   "source": [
    "path = 'data/cartpole_DIRCOL_5000.csv'\n",
    "train_data = CartpoleNLPDataset(path, train=True)\n",
    "test_data = CartpoleNLPDataset(path, train=False)\n",
    "# print(train_data.getitem(0)[1].dtype)\n",
    "print(train_data.n_traj)\n",
    "\n",
    "train_dataloader = DataLoader(train_data, batch_size=16, shuffle=True)\n",
    "test_dataloader = DataLoader(test_data, batch_size=16, shuffle=True)\n",
    "\n",
    "params, Z = next(iter(train_dataloader))\n",
    "# print(params.shape)\n",
    "# print(Z.shape)\n"
   ]
  },
  {
   "cell_type": "code",
   "execution_count": 302,
   "metadata": {},
   "outputs": [
    {
     "data": {
      "text/plain": [
       "204"
      ]
     },
     "execution_count": 302,
     "metadata": {},
     "output_type": "execute_result"
    }
   ],
   "source": [
    "cartpole_data = CartpoleNLPDataset(path, train=True)\n",
    "cartpole_data.n_params\n",
    "cartpole_data.n_traj\n",
    "# cartpole_data.df['X'].iloc[0].shape[0]"
   ]
  },
  {
   "cell_type": "markdown",
   "metadata": {},
   "source": [
    "## Define the NN"
   ]
  },
  {
   "cell_type": "code",
   "execution_count": 303,
   "metadata": {},
   "outputs": [],
   "source": [
    "class CartpoleNN(nn.Module):\n",
    "    def __init__(self, n_params, n_traj):\n",
    "        super().__init__()\n",
    "        self.flatten = nn.Flatten()\n",
    "        self.linear_relu_stack = nn.Sequential(\n",
    "            nn.Linear(n_params, 256),\n",
    "            nn.ReLU(),\n",
    "            nn.Linear(256, 256),\n",
    "            nn.ReLU(),\n",
    "            nn.Linear(256, n_traj)\n",
    "        )\n",
    "        self.linear_relu_stack = self.linear_relu_stack.double()\n",
    "\n",
    "        \n",
    "    def forward(self, params):\n",
    "        # params = self.flatten(params)\n",
    "        traj = self.linear_relu_stack(params)\n",
    "        return traj\n"
   ]
  },
  {
   "cell_type": "code",
   "execution_count": 304,
   "metadata": {},
   "outputs": [
    {
     "name": "stdout",
     "output_type": "stream",
     "text": [
      "Model structure: CartpoleNN(\n",
      "  (flatten): Flatten(start_dim=1, end_dim=-1)\n",
      "  (linear_relu_stack): Sequential(\n",
      "    (0): Linear(in_features=2, out_features=256, bias=True)\n",
      "    (1): ReLU()\n",
      "    (2): Linear(in_features=256, out_features=256, bias=True)\n",
      "    (3): ReLU()\n",
      "    (4): Linear(in_features=256, out_features=204, bias=True)\n",
      "  )\n",
      ")\n",
      "\n",
      "\n"
     ]
    }
   ],
   "source": [
    "model = CartpoleNN(cartpole_data.n_params, cartpole_data.n_traj).to(device)\n",
    "print(f\"Model structure: {model}\\n\\n\")\n",
    "\n",
    "# for name, param in model.named_parameters():\n",
    "#     print(f\"Layer: {name} | Size: {param.size()} | Values : {param[:2]} \\n\")\n"
   ]
  },
  {
   "cell_type": "markdown",
   "metadata": {},
   "source": [
    "## Training Loop"
   ]
  },
  {
   "cell_type": "code",
   "execution_count": 305,
   "metadata": {},
   "outputs": [],
   "source": [
    "def train_loop(dataloader, model, loss_fn, optimizer):\n",
    "    size = len(dataloader.dataset)\n",
    "    model.train()\n",
    "\n",
    "    train_loss = 0\n",
    "    for batch, (X,y) in enumerate(dataloader):\n",
    "        X = X.to(device)\n",
    "        y = y.to(device)\n",
    "\n",
    "\n",
    "\n",
    "        pred = model(X)\n",
    "        loss = loss_fn(pred, y)\n",
    "\n",
    "        # Backprop\n",
    "        loss.backward()\n",
    "        optimizer.step()\n",
    "        optimizer.zero_grad()\n",
    "\n",
    "        train_loss += loss.item()\n",
    "\n",
    "    train_loss /= len(dataloader)\n",
    "    # loss, current = loss.item(), batch * len(X)\n",
    "    # print(f\"loss: {loss:>7f}  [{current:>5d}/{size:>5d}]\")\n",
    "    return train_loss\n",
    "            \n",
    "\n",
    "\n",
    "def test_loop(dataloader, model, loss_fn):\n",
    "    model.eval()\n",
    "    size = len(dataloader.dataset)\n",
    "    num_batches = len(dataloader)\n",
    "    test_loss = 0\n",
    "\n",
    "    with torch.no_grad():\n",
    "        for X, y in dataloader:\n",
    "            X = X.to(device)\n",
    "            y = y.to(device)\n",
    "            \n",
    "            pred = model(X)\n",
    "            test_loss += loss_fn(pred, y).item()\n",
    "\n",
    "    test_loss /= num_batches # average loss per batch\n",
    "    # print(f\"Test Error: \\n Avg loss: {test_loss:>8f} \\n\")\n",
    "\n",
    "\n",
    "    return test_loss\n",
    "\n"
   ]
  },
  {
   "cell_type": "code",
   "execution_count": 306,
   "metadata": {},
   "outputs": [
    {
     "name": "stderr",
     "output_type": "stream",
     "text": [
      "100%|██████████| 100/100 [01:39<00:00,  1.01it/s]"
     ]
    },
    {
     "name": "stdout",
     "output_type": "stream",
     "text": [
      "Done!\n"
     ]
    },
    {
     "name": "stderr",
     "output_type": "stream",
     "text": [
      "\n"
     ]
    }
   ],
   "source": [
    "learning_rate = 5e-3\n",
    "batch_size = 64\n",
    "epochs = 100\n",
    "\n",
    "loss_fn = nn.MSELoss()\n",
    "optimizer = torch.optim.SGD(model.parameters(), lr=learning_rate, weight_decay=1e-5)\n",
    "scheduler = torch.optim.lr_scheduler.ExponentialLR(optimizer, gamma=0.9)\n",
    "\n",
    "for t in tqdm(range(epochs)):\n",
    "    # print(f\"Epoch {t+1}\\n-------------------------------\")\n",
    "    train_loss = train_loop(train_dataloader, model, loss_fn, optimizer)\n",
    "    scheduler.step()\n",
    "    writer.add_scalar('train loss x epoch', train_loss, t)\n",
    "\n",
    "    test_loss = test_loop(test_dataloader, model, loss_fn)\n",
    "    writer.add_scalar('test loss x epoch', test_loss, t)\n",
    "\n",
    "\n",
    "\n",
    "writer.flush()\n",
    "writer.close()\n",
    "print(\"Done!\")\n"
   ]
  },
  {
   "cell_type": "markdown",
   "metadata": {},
   "source": [
    "## Visualize the MLP Generated Warm-Start"
   ]
  },
  {
   "cell_type": "code",
   "execution_count": 307,
   "metadata": {},
   "outputs": [
    {
     "name": "stdout",
     "output_type": "stream",
     "text": [
      "0.0002463539999553177\n"
     ]
    }
   ],
   "source": [
    "# model = torch.load('models/cartpole_model1.pth')\n",
    "model.eval()\n",
    "# rand_param = torch.rand()\n",
    "\n",
    "param_lower = [0.0, 0.0]\n",
    "param_upper = [0.2, np.pi/2]\n",
    "\n",
    "rand_param = torch.rand(len(param_lower)) * (torch.tensor(param_upper) - torch.tensor(param_lower)) + torch.tensor(param_lower)\n",
    "rand_param = rand_param.double()\n",
    "\n",
    "Z = None\n",
    "with torch.no_grad():\n",
    "    # rand_param = rand_param.to(device)\n",
    "    test_param  = torch.from_numpy(test_data.df.iloc[1].params)\n",
    "    test_param = test_param.to(device)\n",
    "    start = time.process_time()\n",
    "    Z = model(test_param)\n",
    "    end = time.process_time()\n",
    "Z = Z.detach().cpu().numpy()\n",
    "\n",
    "print(end-start)\n"
   ]
  },
  {
   "cell_type": "code",
   "execution_count": 318,
   "metadata": {},
   "outputs": [
    {
     "name": "stdout",
     "output_type": "stream",
     "text": [
      "0.8214461803436279\n",
      "idx(nx=4, nu=1, N=41, nz=204, nc=160, X=[array([0, 1, 2, 3]), array([5, 6, 7, 8]), array([10, 11, 12, 13]), array([15, 16, 17, 18]), array([20, 21, 22, 23]), array([25, 26, 27, 28]), array([30, 31, 32, 33]), array([35, 36, 37, 38]), array([40, 41, 42, 43]), array([45, 46, 47, 48]), array([50, 51, 52, 53]), array([55, 56, 57, 58]), array([60, 61, 62, 63]), array([65, 66, 67, 68]), array([70, 71, 72, 73]), array([75, 76, 77, 78]), array([80, 81, 82, 83]), array([85, 86, 87, 88]), array([90, 91, 92, 93]), array([95, 96, 97, 98]), array([100, 101, 102, 103]), array([105, 106, 107, 108]), array([110, 111, 112, 113]), array([115, 116, 117, 118]), array([120, 121, 122, 123]), array([125, 126, 127, 128]), array([130, 131, 132, 133]), array([135, 136, 137, 138]), array([140, 141, 142, 143]), array([145, 146, 147, 148]), array([150, 151, 152, 153]), array([155, 156, 157, 158]), array([160, 161, 162, 163]), array([165, 166, 167, 168]), array([170, 171, 172, 173]), array([175, 176, 177, 178]), array([180, 181, 182, 183]), array([185, 186, 187, 188]), array([190, 191, 192, 193]), array([195, 196, 197, 198]), array([200, 201, 202, 203])], U=[array([4]), array([9]), array([14]), array([19]), array([24]), array([29]), array([34]), array([39]), array([44]), array([49]), array([54]), array([59]), array([64]), array([69]), array([74]), array([79]), array([84]), array([89]), array([94]), array([99]), array([104]), array([109]), array([114]), array([119]), array([124]), array([129]), array([134]), array([139]), array([144]), array([149]), array([154]), array([159]), array([164]), array([169]), array([174]), array([179]), array([184]), array([189]), array([194]), array([199])], c=[array([0, 1, 2, 3]), array([4, 5, 6, 7]), array([ 8,  9, 10, 11]), array([12, 13, 14, 15]), array([16, 17, 18, 19]), array([20, 21, 22, 23]), array([24, 25, 26, 27]), array([28, 29, 30, 31]), array([32, 33, 34, 35]), array([36, 37, 38, 39]), array([40, 41, 42, 43]), array([44, 45, 46, 47]), array([48, 49, 50, 51]), array([52, 53, 54, 55]), array([56, 57, 58, 59]), array([60, 61, 62, 63]), array([64, 65, 66, 67]), array([68, 69, 70, 71]), array([72, 73, 74, 75]), array([76, 77, 78, 79]), array([80, 81, 82, 83]), array([84, 85, 86, 87]), array([88, 89, 90, 91]), array([92, 93, 94, 95]), array([96, 97, 98, 99]), array([100, 101, 102, 103]), array([104, 105, 106, 107]), array([108, 109, 110, 111]), array([112, 113, 114, 115]), array([116, 117, 118, 119]), array([120, 121, 122, 123]), array([124, 125, 126, 127]), array([128, 129, 130, 131]), array([132, 133, 134, 135]), array([136, 137, 138, 139]), array([140, 141, 142, 143]), array([144, 145, 146, 147]), array([148, 149, 150, 151]), array([152, 153, 154, 155]), array([156, 157, 158, 159])])\n"
     ]
    },
    {
     "data": {
      "text/plain": [
       "<matplotlib.legend.Legend at 0x7cbbc07a8e10>"
      ]
     },
     "execution_count": 318,
     "metadata": {},
     "output_type": "execute_result"
    },
    {
     "data": {
      "image/png": "[encoded data removed]",
      "text/plain": [
       "<Figure size 640x480 with 1 Axes>"
      ]
     },
     "metadata": {},
     "output_type": "display_data"
    }
   ],
   "source": [
    "from utils.trajectory_utils import create_idx\n",
    "nx, nu, N = 4, 1, 41\n",
    "# nx, nu, N, nz, nc, x, u, c= create_idx(nx, nu, N)\n",
    "idx = create_idx(nx, nu, N)\n",
    "\n",
    "t_vec = np.linspace(0, 2, N)\n",
    "\n",
    "print(test_data.df.iloc[2].solve_time_sec)\n",
    "\n",
    "print(idx)\n",
    "plt.plot(t_vec, Z[idx.X][:,:2], linewidth=3.0)\n",
    "plt.plot(t_vec, test_data.df.iloc[1].X[:,0], '--', linewidth=3.0, color='tab:blue')\n",
    "plt.plot(t_vec, test_data.df.iloc[1].X[:,1], '--', linewidth=3.0, color='tab:orange')\n",
    "\n",
    "font = {'family' : 'sans-serif',\n",
    "        'weight' : 'normal',\n",
    "        'size'   : 14}\n",
    "\n",
    "plt.grid(True)\n",
    "mpl.rc('font', **font)\n",
    "\n",
    "plt.xlabel('Time (s)')\n",
    "plt.ylabel('State')\n",
    "plt.legend(['x', r'$\\theta$', 'x (NLP)', r'$\\theta$ (NLP)'])"
   ]
  },
  {
   "cell_type": "code",
   "execution_count": null,
   "metadata": {},
   "outputs": [
    {
     "name": "stdout",
     "output_type": "stream",
     "text": [
      "[array([0, 1, 2, 3]), array([5, 6, 7, 8]), array([10, 11, 12, 13]), array([15, 16, 17, 18]), array([20, 21, 22, 23]), array([25, 26, 27, 28]), array([30, 31, 32, 33]), array([35, 36, 37, 38]), array([40, 41, 42, 43]), array([45, 46, 47, 48]), array([50, 51, 52, 53]), array([55, 56, 57, 58]), array([60, 61, 62, 63]), array([65, 66, 67, 68]), array([70, 71, 72, 73]), array([75, 76, 77, 78]), array([80, 81, 82, 83]), array([85, 86, 87, 88]), array([90, 91, 92, 93]), array([95, 96, 97, 98]), array([100, 101, 102, 103]), array([105, 106, 107, 108]), array([110, 111, 112, 113]), array([115, 116, 117, 118]), array([120, 121, 122, 123]), array([125, 126, 127, 128]), array([130, 131, 132, 133]), array([135, 136, 137, 138]), array([140, 141, 142, 143]), array([145, 146, 147, 148]), array([150, 151, 152, 153]), array([155, 156, 157, 158]), array([160, 161, 162, 163]), array([165, 166, 167, 168]), array([170, 171, 172, 173]), array([175, 176, 177, 178]), array([180, 181, 182, 183]), array([185, 186, 187, 188]), array([190, 191, 192, 193]), array([195, 196, 197, 198]), array([200, 201, 202, 203])]\n"
     ]
    }
   ],
   "source": [
    "print(idx.x)"
   ]
  },
  {
   "cell_type": "markdown",
   "metadata": {},
   "source": [
    "## Go through the test dataset and store the MLP generated warmstart trajectories"
   ]
  },
  {
   "cell_type": "code",
   "execution_count": 346,
   "metadata": {},
   "outputs": [
    {
     "data": {
      "text/html": [
       "<div>\n",
       "<style scoped>\n",
       "    .dataframe tbody tr th:only-of-type {\n",
       "        vertical-align: middle;\n",
       "    }\n",
       "\n",
       "    .dataframe tbody tr th {\n",
       "        vertical-align: top;\n",
       "    }\n",
       "\n",
       "    .dataframe thead th {\n",
       "        text-align: right;\n",
       "    }\n",
       "</style>\n",
       "<table border=\"1\" class=\"dataframe\">\n",
       "  <thead>\n",
       "    <tr style=\"text-align: right;\">\n",
       "      <th></th>\n",
       "      <th>params</th>\n",
       "      <th>X</th>\n",
       "      <th>U</th>\n",
       "      <th>obj</th>\n",
       "      <th>solve_time_sec</th>\n",
       "      <th>term_status</th>\n",
       "      <th>X_warmstart</th>\n",
       "      <th>U_warmstart</th>\n",
       "      <th>inference_time_sec</th>\n",
       "    </tr>\n",
       "  </thead>\n",
       "  <tbody>\n",
       "    <tr>\n",
       "      <th>1805</th>\n",
       "      <td>[0.05920853827155932, 0.3333795441858658]</td>\n",
       "      <td>[[0.05920853827155932, 0.3333795441858658, 0.0...</td>\n",
       "      <td>[[5.63592525538214], [4.1823623804612], [3.261...</td>\n",
       "      <td>404.681164</td>\n",
       "      <td>0.861292</td>\n",
       "      <td>LOCALLY_SOLVED</td>\n",
       "      <td>[[0.14375824105130586, 0.27514144917434297, 0....</td>\n",
       "      <td>[[6.161164180841104], [4.562550409297904], [3....</td>\n",
       "      <td>0.000297</td>\n",
       "    </tr>\n",
       "    <tr>\n",
       "      <th>686</th>\n",
       "      <td>[0.11343489437191655, 0.1809547309197721]</td>\n",
       "      <td>[[0.11343489437191655, 0.1809547309197721, 0.0...</td>\n",
       "      <td>[[5.775969935731567], [5.0262228806393265], [4...</td>\n",
       "      <td>399.100781</td>\n",
       "      <td>1.118433</td>\n",
       "      <td>LOCALLY_SOLVED</td>\n",
       "      <td>[[0.13252763649385063, 0.116787720809163, 0.02...</td>\n",
       "      <td>[[5.922662076198471], [4.3651864535506295], [3...</td>\n",
       "      <td>0.000161</td>\n",
       "    </tr>\n",
       "    <tr>\n",
       "      <th>1961</th>\n",
       "      <td>[0.06871706163435667, 0.8410046121793401]</td>\n",
       "      <td>[[0.06871706163435667, 0.8410046121793401, 0.0...</td>\n",
       "      <td>[[7.104233764015561], [4.466342501146422], [2....</td>\n",
       "      <td>442.142127</td>\n",
       "      <td>0.821446</td>\n",
       "      <td>LOCALLY_SOLVED</td>\n",
       "      <td>[[0.1372015737814913, 0.8683242627398952, -0.0...</td>\n",
       "      <td>[[7.062479658369358], [5.344470352835174], [3....</td>\n",
       "      <td>0.000158</td>\n",
       "    </tr>\n",
       "    <tr>\n",
       "      <th>75</th>\n",
       "      <td>[0.09423013386103428, 1.0250673331518787]</td>\n",
       "      <td>[[0.09423013386103428, 1.0250673331518787, 0.0...</td>\n",
       "      <td>[[7.533574992978043], [5.116480039480879], [2....</td>\n",
       "      <td>461.907692</td>\n",
       "      <td>0.580487</td>\n",
       "      <td>LOCALLY_SOLVED</td>\n",
       "      <td>[[0.09719764042824543, 1.0785764065550458, -0....</td>\n",
       "      <td>[[7.402523173946175], [5.6515531259772445], [3...</td>\n",
       "      <td>0.000152</td>\n",
       "    </tr>\n",
       "    <tr>\n",
       "      <th>487</th>\n",
       "      <td>[0.04949806558544421, 1.4294084221091876]</td>\n",
       "      <td>[[0.04949806558544421, 1.4294084221091876, 0.0...</td>\n",
       "      <td>[[8.499280334664922], [7.547195447676404], [5....</td>\n",
       "      <td>514.018352</td>\n",
       "      <td>0.861411</td>\n",
       "      <td>LOCALLY_SOLVED</td>\n",
       "      <td>[[0.0432343517764439, 1.4308620839258752, 0.00...</td>\n",
       "      <td>[[8.272809858857705], [6.453060338468174], [4....</td>\n",
       "      <td>0.000149</td>\n",
       "    </tr>\n",
       "  </tbody>\n",
       "</table>\n",
       "</div>"
      ],
      "text/plain": [
       "                                         params  \\\n",
       "1805  [0.05920853827155932, 0.3333795441858658]   \n",
       "686   [0.11343489437191655, 0.1809547309197721]   \n",
       "1961  [0.06871706163435667, 0.8410046121793401]   \n",
       "75    [0.09423013386103428, 1.0250673331518787]   \n",
       "487   [0.04949806558544421, 1.4294084221091876]   \n",
       "\n",
       "                                                      X  \\\n",
       "1805  [[0.05920853827155932, 0.3333795441858658, 0.0...   \n",
       "686   [[0.11343489437191655, 0.1809547309197721, 0.0...   \n",
       "1961  [[0.06871706163435667, 0.8410046121793401, 0.0...   \n",
       "75    [[0.09423013386103428, 1.0250673331518787, 0.0...   \n",
       "487   [[0.04949806558544421, 1.4294084221091876, 0.0...   \n",
       "\n",
       "                                                      U         obj  \\\n",
       "1805  [[5.63592525538214], [4.1823623804612], [3.261...  404.681164   \n",
       "686   [[5.775969935731567], [5.0262228806393265], [4...  399.100781   \n",
       "1961  [[7.104233764015561], [4.466342501146422], [2....  442.142127   \n",
       "75    [[7.533574992978043], [5.116480039480879], [2....  461.907692   \n",
       "487   [[8.499280334664922], [7.547195447676404], [5....  514.018352   \n",
       "\n",
       "      solve_time_sec     term_status  \\\n",
       "1805        0.861292  LOCALLY_SOLVED   \n",
       "686         1.118433  LOCALLY_SOLVED   \n",
       "1961        0.821446  LOCALLY_SOLVED   \n",
       "75          0.580487  LOCALLY_SOLVED   \n",
       "487         0.861411  LOCALLY_SOLVED   \n",
       "\n",
       "                                            X_warmstart  \\\n",
       "1805  [[0.14375824105130586, 0.27514144917434297, 0....   \n",
       "686   [[0.13252763649385063, 0.116787720809163, 0.02...   \n",
       "1961  [[0.1372015737814913, 0.8683242627398952, -0.0...   \n",
       "75    [[0.09719764042824543, 1.0785764065550458, -0....   \n",
       "487   [[0.0432343517764439, 1.4308620839258752, 0.00...   \n",
       "\n",
       "                                            U_warmstart inference_time_sec  \n",
       "1805  [[6.161164180841104], [4.562550409297904], [3....           0.000297  \n",
       "686   [[5.922662076198471], [4.3651864535506295], [3...           0.000161  \n",
       "1961  [[7.062479658369358], [5.344470352835174], [3....           0.000158  \n",
       "75    [[7.402523173946175], [5.6515531259772445], [3...           0.000152  \n",
       "487   [[8.272809858857705], [6.453060338468174], [4....           0.000149  "
      ]
     },
     "execution_count": 346,
     "metadata": {},
     "output_type": "execute_result"
    }
   ],
   "source": [
    "warmstart_df = test_data.df.copy()\n",
    "warmstart_df.shape\n",
    "\n",
    "warmstart_df['X_warmstart'] = None\n",
    "warmstart_df['U_warmstart'] = None\n",
    "warmstart_df['inference_time_sec'] = None\n",
    "\n",
    "\n",
    "# warmstart_df.head()\n",
    "for index, row in warmstart_df.iterrows():\n",
    "    test_param  = torch.from_numpy(row.params)\n",
    "    test_param = test_param.to(device)\n",
    "    \n",
    "    with torch.no_grad():\n",
    "        start = time.process_time()\n",
    "        Z = model(test_param)\n",
    "        end = time.process_time()\n",
    "    Z = Z.detach().cpu().numpy()\n",
    "\n",
    "    warmstart_df.at[index, 'inference_time_sec'] = end - start\n",
    "    warmstart_df.at[index, 'X_warmstart'] = Z[idx.X]\n",
    "    warmstart_df.at[index, 'U_warmstart'] = Z[idx.U]\n",
    "    # warmstart_df.['inference_time_sec'] = end-start\n",
    "    # row['X_warmstart'] = Z[idx.X]\n",
    "    # row['U_warmstart'] = Z[idx.U]\n",
    "    # print(row)\n",
    "\n",
    "\n",
    "warmstart_df.head()\n",
    "\n"
   ]
  },
  {
   "cell_type": "code",
   "execution_count": 361,
   "metadata": {},
   "outputs": [],
   "source": [
    "warmstart_df.to_csv('data/warmstart_cartpole.csv')\n"
   ]
  },
  {
   "cell_type": "markdown",
   "metadata": {},
   "source": [
    "## Visualize histograms for solve time"
   ]
  },
  {
   "cell_type": "code",
   "execution_count": 360,
   "metadata": {},
   "outputs": [
    {
     "data": {
      "image/png": "[encoded data removed]",
      "text/plain": [
       "<Figure size 1000x600 with 1 Axes>"
      ]
     },
     "metadata": {},
     "output_type": "display_data"
    }
   ],
   "source": [
    "plt.figure(figsize=(10, 6))\n",
    "sns.histplot(warmstart_df['solve_time_sec'], bins=30, kde=True)\n",
    "plt.xlabel('Solve Time (seconds)')\n",
    "plt.ylabel('Count')\n",
    "plt.title('NLP Presolve (DIRCOL w/ IPOPT)')\n",
    "plt.show()"
   ]
  }
 ],
 "metadata": {
  "kernelspec": {
   "display_name": "ocrl-piano",
   "language": "python",
   "name": "python3"
  },
  "language_info": {
   "codemirror_mode": {
    "name": "ipython",
    "version": 3
   },
   "file_extension": ".py",
   "mimetype": "text/x-python",
   "name": "python",
   "nbconvert_exporter": "python",
   "pygments_lexer": "ipython3",
   "version": "3.11.9"
  }
 },
 "nbformat": 4,
 "nbformat_minor": 2
}
