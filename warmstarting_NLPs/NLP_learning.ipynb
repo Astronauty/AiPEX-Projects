{
 "cells": [
  {
   "cell_type": "code",
   "execution_count": 65,
   "metadata": {},
   "outputs": [
    {
     "name": "stdout",
     "output_type": "stream",
     "text": [
      "<class 'pathlib.WindowsPath'>\n"
     ]
    },
    {
     "data": {
      "text/html": [
       "<div>\n",
       "<style scoped>\n",
       "    .dataframe tbody tr th:only-of-type {\n",
       "        vertical-align: middle;\n",
       "    }\n",
       "\n",
       "    .dataframe tbody tr th {\n",
       "        vertical-align: top;\n",
       "    }\n",
       "\n",
       "    .dataframe thead th {\n",
       "        text-align: right;\n",
       "    }\n",
       "</style>\n",
       "<table border=\"1\" class=\"dataframe\">\n",
       "  <thead>\n",
       "    <tr style=\"text-align: right;\">\n",
       "      <th></th>\n",
       "      <th>params</th>\n",
       "      <th>X</th>\n",
       "      <th>U</th>\n",
       "      <th>obj</th>\n",
       "      <th>solve_time_sec</th>\n",
       "      <th>term_status</th>\n",
       "    </tr>\n",
       "  </thead>\n",
       "  <tbody>\n",
       "    <tr>\n",
       "      <th>0</th>\n",
       "      <td>[0.10424275910707662, 0.9217538991461435]</td>\n",
       "      <td>[[0.10424275910707662, 0.9217538991461435, 0.0...</td>\n",
       "      <td>[[7.326611017534667], [4.745690435244592], [2....</td>\n",
       "      <td>450.375348</td>\n",
       "      <td>0.894</td>\n",
       "      <td>LOCALLY_SOLVED</td>\n",
       "    </tr>\n",
       "    <tr>\n",
       "      <th>1</th>\n",
       "      <td>[0.17817573961855623, 0.29987554159020713]</td>\n",
       "      <td>[[0.17817573961855623, 0.29987554159020713, 0....</td>\n",
       "      <td>[[4.67246737729125], [3.759376972379588], [3.2...</td>\n",
       "      <td>403.572057</td>\n",
       "      <td>1.356</td>\n",
       "      <td>LOCALLY_SOLVED</td>\n",
       "    </tr>\n",
       "    <tr>\n",
       "      <th>2</th>\n",
       "      <td>[0.10513247830840947, 0.6135346283367087]</td>\n",
       "      <td>[[0.10513247830840947, 0.6135346283367087, 0.0...</td>\n",
       "      <td>[[5.321446551481445], [3.2108134507740287], [1...</td>\n",
       "      <td>421.898648</td>\n",
       "      <td>0.845</td>\n",
       "      <td>LOCALLY_SOLVED</td>\n",
       "    </tr>\n",
       "    <tr>\n",
       "      <th>3</th>\n",
       "      <td>[0.008963601003498222, 1.4661079152569128]</td>\n",
       "      <td>[[0.008963601003498222, 1.4661079152569128, 0....</td>\n",
       "      <td>[[8.63913087981295], [7.8547705076235514], [6....</td>\n",
       "      <td>519.163244</td>\n",
       "      <td>0.636</td>\n",
       "      <td>LOCALLY_SOLVED</td>\n",
       "    </tr>\n",
       "    <tr>\n",
       "      <th>4</th>\n",
       "      <td>[0.11611199637490824, 0.5140240587239221]</td>\n",
       "      <td>[[0.11611199637490824, 0.5140240587239221, 0.0...</td>\n",
       "      <td>[[5.596123422598468], [3.611082439052256], [2....</td>\n",
       "      <td>414.549059</td>\n",
       "      <td>1.078</td>\n",
       "      <td>LOCALLY_SOLVED</td>\n",
       "    </tr>\n",
       "  </tbody>\n",
       "</table>\n",
       "</div>"
      ],
      "text/plain": [
       "                                       params  \\\n",
       "0   [0.10424275910707662, 0.9217538991461435]   \n",
       "1  [0.17817573961855623, 0.29987554159020713]   \n",
       "2   [0.10513247830840947, 0.6135346283367087]   \n",
       "3  [0.008963601003498222, 1.4661079152569128]   \n",
       "4   [0.11611199637490824, 0.5140240587239221]   \n",
       "\n",
       "                                                   X  \\\n",
       "0  [[0.10424275910707662, 0.9217538991461435, 0.0...   \n",
       "1  [[0.17817573961855623, 0.29987554159020713, 0....   \n",
       "2  [[0.10513247830840947, 0.6135346283367087, 0.0...   \n",
       "3  [[0.008963601003498222, 1.4661079152569128, 0....   \n",
       "4  [[0.11611199637490824, 0.5140240587239221, 0.0...   \n",
       "\n",
       "                                                   U         obj  \\\n",
       "0  [[7.326611017534667], [4.745690435244592], [2....  450.375348   \n",
       "1  [[4.67246737729125], [3.759376972379588], [3.2...  403.572057   \n",
       "2  [[5.321446551481445], [3.2108134507740287], [1...  421.898648   \n",
       "3  [[8.63913087981295], [7.8547705076235514], [6....  519.163244   \n",
       "4  [[5.596123422598468], [3.611082439052256], [2....  414.549059   \n",
       "\n",
       "   solve_time_sec     term_status  \n",
       "0           0.894  LOCALLY_SOLVED  \n",
       "1           1.356  LOCALLY_SOLVED  \n",
       "2           0.845  LOCALLY_SOLVED  \n",
       "3           0.636  LOCALLY_SOLVED  \n",
       "4           1.078  LOCALLY_SOLVED  "
      ]
     },
     "execution_count": 65,
     "metadata": {},
     "output_type": "execute_result"
    }
   ],
   "source": [
    "import os\n",
    "import pandas as pd\n",
    "import pathlib\n",
    "import numpy as np\n",
    "import torch\n",
    "\n",
    "from ast import literal_eval\n",
    "from torch import nn\n",
    "from torch.utils.data import Dataset, DataLoader\n",
    "\n",
    "path = pathlib.Path('data/cartpole_DIRCOL.csv')\n",
    "print(type(path))\n",
    "df = pd.read_csv(path)\n",
    "\n",
    "\n",
    "df.head()\n",
    "df.iloc[5]\n",
    "X = literal_eval(df.iloc[5].X)\n",
    "\n",
    "\n",
    "\n",
    "\n",
    "df['params'] = df['params'].apply(literal_eval)\n",
    "df['X'] = df['X'].apply(literal_eval)\n",
    "df['U'] = df['U'].apply(literal_eval)\n",
    "df['U'] = df['U'].apply(np.array)\n",
    "\n",
    "df.head()\n",
    "type(np.array(df.iloc[5].U))\n",
    "df.head()"
   ]
  },
  {
   "cell_type": "code",
   "execution_count": 69,
   "metadata": {},
   "outputs": [],
   "source": [
    "class CartpoleNLPDataset(Dataset):\n",
    "    def __init__(self, nlp_results_path):\n",
    "        self.df = pd.read_csv(path)\n",
    "        \n",
    "        array_elements = ['params', 'X', 'U']\n",
    "        \n",
    "        for elem in array_elements:\n",
    "            self.df[elem] = self.df[elem].apply(literal_eval) # Convert strings into lists \n",
    "            self.df[elem] = self.df[elem].apply(np.array) # Convert lists into np arrays\n",
    "                \n",
    "    def __len__(self):\n",
    "        return df.shape[0] \n",
    "    \n",
    "    def __getitem__(self, idx):\n",
    "        params = self.df.iloc[idx].params\n",
    "        X = self.df.iloc[idx].X\n",
    "        U = self.df.iloc[idx].U\n",
    "        \n",
    "\n",
    "        return params, X, U\n",
    "    \n",
    "    def getitem(self, idx):\n",
    "        params = self.df.iloc[idx].params\n",
    "        X = self.df.iloc[idx].X\n",
    "        U = self.df.iloc[idx].U\n",
    "\n",
    "        return params, X, U\n",
    "    "
   ]
  },
  {
   "cell_type": "code",
   "execution_count": 96,
   "metadata": {},
   "outputs": [
    {
     "name": "stdout",
     "output_type": "stream",
     "text": [
      "[0.10539918 1.31354477 0.         0.        ]\n",
      "[8.43175706]\n"
     ]
    },
    {
     "ename": "AttributeError",
     "evalue": "module 'numpy' has no attribute 'hcat'",
     "output_type": "error",
     "traceback": [
      "\u001b[1;31m---------------------------------------------------------------------------\u001b[0m",
      "\u001b[1;31mAttributeError\u001b[0m                            Traceback (most recent call last)",
      "Cell \u001b[1;32mIn[96], line 7\u001b[0m\n\u001b[0;32m      5\u001b[0m \u001b[38;5;28mprint\u001b[39m(X[\u001b[38;5;241m0\u001b[39m])\n\u001b[0;32m      6\u001b[0m \u001b[38;5;28mprint\u001b[39m(U[\u001b[38;5;241m0\u001b[39m])\n\u001b[1;32m----> 7\u001b[0m \u001b[38;5;28mprint\u001b[39m(\u001b[43mnp\u001b[49m\u001b[38;5;241;43m.\u001b[39;49m\u001b[43mhcat\u001b[49m(X[\u001b[38;5;241m0\u001b[39m], U[\u001b[38;5;241m0\u001b[39m]))\n\u001b[0;32m      8\u001b[0m \u001b[38;5;66;03m# Z = [[X[i], U[i]] for i in range(len(U))]\u001b[39;00m\n\u001b[0;32m      9\u001b[0m \u001b[38;5;66;03m# print(Z)\u001b[39;00m\n\u001b[0;32m     10\u001b[0m \n\u001b[1;32m   (...)\u001b[0m\n\u001b[0;32m     13\u001b[0m \u001b[38;5;66;03m# params, X, U = next(iter(train_dataloader))\u001b[39;00m\n\u001b[0;32m     14\u001b[0m \u001b[38;5;66;03m# print(params)\u001b[39;00m\n",
      "File \u001b[1;32mc:\\Users\\Daniel\\miniconda3\\envs\\ocrl-piano\\Lib\\site-packages\\numpy\\__init__.py:333\u001b[0m, in \u001b[0;36m__getattr__\u001b[1;34m(attr)\u001b[0m\n\u001b[0;32m    330\u001b[0m     \u001b[38;5;124m\"\u001b[39m\u001b[38;5;124mRemoved in NumPy 1.25.0\u001b[39m\u001b[38;5;124m\"\u001b[39m\n\u001b[0;32m    331\u001b[0m     \u001b[38;5;28;01mraise\u001b[39;00m \u001b[38;5;167;01mRuntimeError\u001b[39;00m(\u001b[38;5;124m\"\u001b[39m\u001b[38;5;124mTester was removed in NumPy 1.25.\u001b[39m\u001b[38;5;124m\"\u001b[39m)\n\u001b[1;32m--> 333\u001b[0m \u001b[38;5;28;01mraise\u001b[39;00m \u001b[38;5;167;01mAttributeError\u001b[39;00m(\u001b[38;5;124m\"\u001b[39m\u001b[38;5;124mmodule \u001b[39m\u001b[38;5;132;01m{!r}\u001b[39;00m\u001b[38;5;124m has no attribute \u001b[39m\u001b[38;5;124m\"\u001b[39m\n\u001b[0;32m    334\u001b[0m                      \u001b[38;5;124m\"\u001b[39m\u001b[38;5;132;01m{!r}\u001b[39;00m\u001b[38;5;124m\"\u001b[39m\u001b[38;5;241m.\u001b[39mformat(\u001b[38;5;18m__name__\u001b[39m, attr))\n",
      "\u001b[1;31mAttributeError\u001b[0m: module 'numpy' has no attribute 'hcat'"
     ]
    }
   ],
   "source": [
    "cartpole_data = CartpoleNLPDataset(path)\n",
    "X = cartpole_data.getitem(5)[1]\n",
    "U = cartpole_data.getitem(5)[2]\n",
    "\n",
    "print(X[0])\n",
    "print(U[0])\n",
    "print(np.hcat(X[0], U[0]))\n",
    "# Z = [[X[i], U[i]] for i in range(len(U))]\n",
    "# print(Z)\n",
    "\n",
    "# train_dataloader = DataLoader(cartpole_data, batch_size=32, shuffle=True)\n",
    "\n",
    "# params, X, U = next(iter(train_dataloader))\n",
    "# print(params)"
   ]
  },
  {
   "cell_type": "code",
   "execution_count": 68,
   "metadata": {},
   "outputs": [
    {
     "name": "stdout",
     "output_type": "stream",
     "text": [
      "Using device: cuda\n"
     ]
    }
   ],
   "source": [
    "device = 'cuda' if torch.cuda.is_available() else 'cpu'\n",
    "print(f\"Using device: {device}\")\n",
    "\n",
    "class CartpoleNN(nn.Module):\n",
    "    def__init__(self):\n",
    "        super().__init__()\n",
    "        self.flatten = nn.Flatten()\n",
    "        self.linear_relu_stack = nn.Sequential()\n",
    "        \n",
    "        \n",
    "    def forward(self, x):\n",
    "        \n",
    "        trajectory = self.linear\n",
    "        return None"
   ]
  }
 ],
 "metadata": {
  "kernelspec": {
   "display_name": "ocrl-piano",
   "language": "python",
   "name": "python3"
  },
  "language_info": {
   "codemirror_mode": {
    "name": "ipython",
    "version": 3
   },
   "file_extension": ".py",
   "mimetype": "text/x-python",
   "name": "python",
   "nbconvert_exporter": "python",
   "pygments_lexer": "ipython3",
   "version": "3.12.2"
  }
 },
 "nbformat": 4,
 "nbformat_minor": 2
}
