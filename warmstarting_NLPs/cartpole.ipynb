{
 "cells": [
  {
   "cell_type": "code",
   "execution_count": 10,
   "metadata": {},
   "outputs": [
    {
     "name": "stderr",
     "output_type": "stream",
     "text": [
      "\u001b[32m\u001b[1m  Activating\u001b[22m\u001b[39m project at `~/daniel/AiPEX-Projects/warmstarting_NLPs`\n"
     ]
    }
   ],
   "source": [
    "import Pkg\n",
    "Pkg.activate(@__DIR__)\n",
    "Pkg.instantiate()\n",
    "import MathOptInterface as MOI\n",
    "import Ipopt \n",
    "import FiniteDiff\n",
    "import ForwardDiff as FD\n",
    "import Convex as cvx \n",
    "import ECOS\n",
    "import MeshCat as mc\n",
    "import Distributions\n",
    "import Random\n",
    "\n",
    "using LinearAlgebra\n",
    "using Plots\n",
    "using Random\n",
    "using JLD2\n",
    "using Test\n",
    "using CSV\n",
    "using DataFrames\n"
   ]
  },
  {
   "cell_type": "code",
   "execution_count": 2,
   "metadata": {},
   "outputs": [
    {
     "data": {
      "text/plain": [
       "animate_cartpole (generic function with 1 method)"
      ]
     },
     "metadata": {},
     "output_type": "display_data"
    }
   ],
   "source": [
    "include(joinpath(@__DIR__, \"utils\",\"fmincon.jl\"))\n",
    "include(joinpath(@__DIR__, \"utils\",\"cartpole_animation.jl\"))"
   ]
  },
  {
   "cell_type": "code",
   "execution_count": 3,
   "metadata": {},
   "outputs": [
    {
     "data": {
      "text/plain": [
       "hermite_simpson (generic function with 1 method)"
      ]
     },
     "metadata": {},
     "output_type": "display_data"
    }
   ],
   "source": [
    "# cartpole \n",
    "function dynamics(params::NamedTuple, x::Vector, u)\n",
    "    # cartpole ODE, parametrized by params. \n",
    "\n",
    "    # cartpole physical parameters \n",
    "    mc, mp, l = params.mc, params.mp, params.l\n",
    "    g = 9.81\n",
    "    \n",
    "    q = x[1:2]\n",
    "    qd = x[3:4]\n",
    "\n",
    "    s = sin(q[2])\n",
    "    c = cos(q[2])\n",
    "\n",
    "    H = [mc+mp mp*l*c; mp*l*c mp*l^2]\n",
    "    C = [0 -mp*qd[2]*l*s; 0 0]\n",
    "    G = [0, mp*g*l*s]\n",
    "    B = [1, 0]\n",
    "\n",
    "    qdd = -H\\(C*qd + G - B*u[1])\n",
    "    xdot = [qd;qdd]\n",
    "    return xdot \n",
    "\n",
    "end\n",
    "\n",
    "function hermite_simpson(params::NamedTuple, x1::Vector, x2::Vector, u, dt::Real)::Vector\n",
    "    # TODO: input hermite simpson implicit integrator residual \n",
    "     x_mid = 0.5(x1 + x2) + (dt/8) * (dynamics(params, x1, u) - dynamics(params, x2, u))\n",
    "     res = x1 + (dt/6) * (dynamics(params, x1, u) + 4*dynamics(params, x_mid, u) + dynamics(params, x2, u)) - x2\n",
    "     return res\n",
    "end"
   ]
  },
  {
   "cell_type": "code",
   "execution_count": 4,
   "metadata": {},
   "outputs": [
    {
     "data": {
      "text/plain": [
       "solve_cartpole_swingup (generic function with 1 method)"
      ]
     },
     "metadata": {},
     "output_type": "display_data"
    }
   ],
   "source": [
    "function create_idx(nx,nu,N)\n",
    "    # This function creates some useful indexing tools for Z \n",
    "    # x_i = Z[idx.x[i]]\n",
    "    # u_i = Z[idx.u[i]]\n",
    "    \n",
    "    # Feel free to use/not use anything here.\n",
    "    \n",
    "    # our Z vector is [x0, u0, x1, u1, …, xN]\n",
    "    nz = (N-1) * nu + N * nx # length of Z \n",
    "    x = [(i - 1) * (nx + nu) .+ (1 : nx) for i = 1:N]\n",
    "    u = [(i - 1) * (nx + nu) .+ ((nx + 1):(nx + nu)) for i = 1:(N - 1)]\n",
    "    \n",
    "    # constraint indexing for the (N-1) dynamics constraints when stacked up\n",
    "    c = [(i - 1) * (nx) .+ (1 : nx) for i = 1:(N - 1)]\n",
    "    nc = (N - 1) * nx # (N-1)*nx \n",
    "    \n",
    "    return (nx=nx,nu=nu,N=N,nz=nz,nc=nc,x= x,u = u,c = c)\n",
    "end\n",
    "\n",
    "function cartpole_cost(params::NamedTuple, Z::Vector)::Real\n",
    "    idx, N, xg = params.idx, params.N, params.xg\n",
    "    Q, R, Qf = params.Q, params.R, params.Qf\n",
    "    \n",
    "    # TODO: input cartpole LQR cost \n",
    "    J = 0 \n",
    "\n",
    "    for i = 1:(N-1)\n",
    "        xi = Z[idx.x[i]]\n",
    "        ui = Z[idx.u[i]]\n",
    "       \n",
    "        J += 0.5*(xi-xg)'*Q*(xi-xg) + 0.5*ui'*R*ui\n",
    "    end\n",
    "    \n",
    "    # dont forget terminal cost \n",
    "    xN = Z[idx.x[N]]\n",
    "    J += 0.5*(xN-xg)'*Qf*(xN-xg)\n",
    "    return J \n",
    "end\n",
    "\n",
    "function cartpole_dynamics_constraints(params::NamedTuple, Z::Vector)::Vector\n",
    "    idx, N, dt = params.idx, params.N, params.dt\n",
    "    \n",
    "    # TODO: create dynamics constraints using hermite simpson \n",
    "\n",
    "    # create c in a ForwardDiff friendly way (check HW0)\n",
    "    c = zeros(eltype(Z), idx.nc)\n",
    "    \n",
    "    for i = 1:(N-1)\n",
    "        xi = Z[idx.x[i]]\n",
    "        ui = Z[idx.u[i]] \n",
    "        xip1 = Z[idx.x[i+1]]\n",
    "        \n",
    "        # TODO: hermite simpson \n",
    "        c[idx.c[i]] = hermite_simpson(params, xi, xip1, ui, dt)\n",
    "    end\n",
    "    return c \n",
    "end\n",
    "\n",
    "function cartpole_equality_constraint(params::NamedTuple, Z::Vector)::Vector\n",
    "    N, idx, xic, xg = params.N, params.idx, params.xic, params.xg \n",
    "    \n",
    "    \n",
    "    # TODO: return all of the equality constraints \n",
    "\n",
    "    \n",
    "    return [Z[idx.x[1]] - xic; Z[idx.x[end]] - xg; cartpole_dynamics_constraints(params, Z)] \n",
    "end\n",
    "\n",
    "function solve_cartpole_swingup(σ; verbose=true)\n",
    "    \n",
    "    # problem size \n",
    "    nx = 4 \n",
    "    nu = 1 \n",
    "    dt = 0.05\n",
    "    tf = 2.0 \n",
    "    t_vec = 0:dt:tf \n",
    "    N = length(t_vec)\n",
    "    \n",
    "    # LQR cost \n",
    "    Q = diagm(ones(nx))\n",
    "    R = 0.1*diagm(ones(nu))\n",
    "    Qf = 10*diagm(ones(nx))\n",
    "    \n",
    "    # indexing \n",
    "    idx = create_idx(nx,nu,N)\n",
    "    \n",
    "    # initial and goal states \n",
    "    # xic = [0, 0, 0, 0]\n",
    "    xic = [σ[1], σ[2], 0, 0]\n",
    "    xg = [0, pi, 0, 0]\n",
    "    \n",
    "    # load all useful things into params \n",
    "    params = (Q = Q, R = R, Qf = Qf, xic = xic, xg = xg, dt = dt, N = N, idx = idx,mc = 1.0, mp = 0.2, l = 0.5)\n",
    "    \n",
    "    # TODO: primal bounds \n",
    "    x_l = fill(-Inf, idx.nz)\n",
    "    x_u = fill(Inf, idx.nz)\n",
    "    \n",
    "    for i = 1:(N-1)\n",
    "        x_l[idx.u[i]] .= -10\n",
    "        x_u[idx.u[i]] .= 10\n",
    "    end\n",
    "\n",
    "    \n",
    "    # inequality constraint bounds (this is what we do when we have no inequality constraints)\n",
    "    c_l = zeros(0)\n",
    "    c_u = zeros(0)\n",
    "    function inequality_constraint(params, Z)\n",
    "        return zeros(eltype(Z), 0)\n",
    "    end\n",
    "    \n",
    "    # initial guess \n",
    "    z0 = 0.001*randn(idx.nz)\n",
    "    \n",
    "    # choose diff type (try :auto, then use :finite if :auto doesn't work)\n",
    "    diff_type = :auto \n",
    "#     diff_type = :finite\n",
    "    \n",
    "    # @show cartpole_equality_constraint(params, z0)\n",
    "    # @show cartpole_dynamics_constraints(params, z0)\n",
    "    # @show inequality_constraint(params, z0)\n",
    "    # @show cartpole_cost(params, z0)\n",
    "        \n",
    "    Z, obj, solve_time_sec, term_status = fmincon(cartpole_cost,cartpole_equality_constraint,inequality_constraint,\n",
    "                x_l,x_u,c_l,c_u,z0,params, diff_type;\n",
    "                tol = 1e-6, c_tol = 1e-6, max_iters = 10_000, verbose = verbose)\n",
    "    # term_status = 0\n",
    "\\\n",
    "\n",
    "\n",
    "\n",
    "    # pull the X and U solutions out of Z \n",
    "    X = [Z[idx.x[i]] for i = 1:N]\n",
    "    U = [Z[idx.u[i]] for i = 1:(N-1)]\n",
    "    \n",
    "    return X, U, obj, solve_time_sec, term_status, t_vec, params \n",
    "end\n",
    "\n",
    "\n",
    "    \n"
   ]
  },
  {
   "cell_type": "code",
   "execution_count": 5,
   "metadata": {},
   "outputs": [],
   "source": [
    "# X, U, obj, t_vec, params = solve_cartpole_swingup(verbose=true)\n",
    "\n",
    "# # --------------testing------------------\n",
    "\n",
    "# Xm = hcat(X...)\n",
    "# Um = hcat(U...)\n",
    "\n",
    "# # --------------plotting-----------------\n",
    "# display(plot(t_vec, Xm', label = [\"p\" \"θ\" \"ṗ\" \"θ̇\"], xlabel = \"time (s)\", title = \"State Trajectory\"))\n",
    "# display(plot(t_vec[1:end-1],Um',label=\"\",xlabel = \"time (s)\", ylabel = \"u\",title = \"Controls\"))\n",
    "\n",
    "# # display(animate_cartpole(X, 0.05))\n",
    "\n"
   ]
  },
  {
   "cell_type": "markdown",
   "metadata": {},
   "source": [
    "## Solve the DIRCOL NLP for a parameter set"
   ]
  },
  {
   "cell_type": "code",
   "execution_count": 6,
   "metadata": {},
   "outputs": [],
   "source": [
    "# ## Define upper and lower bounds of the parameters for the Paramaetric Optimal Control Problem\n",
    "# # using the xic of the cartpole\n",
    "# using Random, Distributions, CSV, DataFrames\n",
    "# Random.seed!(123)\n",
    "\n",
    "\n",
    "# N = 10000 # number of samples\n",
    "# σ_lower = [0.0, 0.0]\n",
    "# σ_upper = [0.2, pi/2]\n",
    "\n",
    "# # Randomly sample the iid parameters uniformly from the given bounds\n",
    "# d = Product(Uniform.(σ_lower, σ_upper))\n",
    "# σ_samples = rand(d, N)\n",
    "# σ_samples = eachcol(σ_samples)\n",
    "\n",
    "# # Solve the NLP for the parameter sample set\n",
    "# df = DataFrame(params = Vector{Vector{Float64}}(), X=Vector{Vector{Vector{Float64}}}(), U=Vector{Vector{Vector{Float64}}}(), obj = Float64[], solve_time_sec = Float64[], term_status = MOI.TerminationStatusCode[])\n",
    "\n",
    "# i = 1\n",
    "# for σ in σ_samples\n",
    "#     println(\"Sample: \", i)\n",
    "#     println(\"------------------\")\n",
    "#     X, U, obj, solve_time_sec, term_status, t_vec, params = solve_cartpole_swingup(σ, verbose=false)\n",
    "#     println(\"σ: \", σ)\n",
    "#     println(\"Objective Value: \", obj)\n",
    "#     println(\"TerminationStatusCode: \", term_status)\n",
    "#     println(\"\")\n",
    "\n",
    "#     push!(df, [σ, X, U, obj, solve_time_sec, term_status])\n",
    "#     i += 1\n",
    "# end\n",
    "\n"
   ]
  },
  {
   "cell_type": "code",
   "execution_count": 7,
   "metadata": {},
   "outputs": [
    {
     "ename": "UndefVarError",
     "evalue": "UndefVarError: `df` not defined",
     "output_type": "error",
     "traceback": [
      "UndefVarError: `df` not defined\n"
     ]
    }
   ],
   "source": [
    "\n",
    "# CSV.write(\"data/cartpole_DIRCOL_10000.csv\", df)\n",
    "\n",
    "df"
   ]
  },
  {
   "cell_type": "markdown",
   "metadata": {},
   "source": [
    "## Load in the Warmstarts and Solve for the Refined Trajectories"
   ]
  },
  {
   "cell_type": "code",
   "execution_count": 32,
   "metadata": {},
   "outputs": [
    {
     "name": "stdout",
     "output_type": "stream",
     "text": [
      "size(X_warmstart[1]) = (4,)\n"
     ]
    },
    {
     "data": {
      "text/plain": [
       "(4,)"
      ]
     },
     "metadata": {},
     "output_type": "display_data"
    }
   ],
   "source": [
    "using CSV\n",
    "\n",
    "df = DataFrame(CSV.File(\"data/warmstart_cartpole.csv\"))\n",
    "X_warmstart_str = df.X_warmstart[1]\n",
    "\n",
    "# Function to convert the string representation to a 2D array\n",
    "function convert_to_2d_array(str::String)\n",
    "    # Remove the brackets and newline characters\n",
    "    clean_str = replace(str, r\"[\\[\\]\\n]\" => \"\")\n",
    "    # Split the string into individual numbers\n",
    "    num_strs = split(clean_str)\n",
    "    # Convert the numbers to Float64\n",
    "    nums = parse.(Float64, num_strs)\n",
    "    # Reshape the flat array into a 2D array\n",
    "    num_rows = count(x -> x == '\\n', str) + 1\n",
    "    num_cols = length(nums) ÷ num_rows\n",
    "    return reshape(nums, num_cols, num_rows)'\n",
    "end\n",
    "\n",
    "X_warmstart = convert_to_2d_array(X_warmstart_str)\n",
    "X_warmstart = X_warmstart'\n",
    "X_warmstart = [X_warmstart[:, i] for i in 1:size(X_warmstart, 2)]\n",
    "@show size(X_warmstart[1])"
   ]
  }
 ],
 "metadata": {
  "kernelspec": {
   "display_name": "Julia 1.10.2",
   "language": "julia",
   "name": "julia-1.10"
  },
  "language_info": {
   "file_extension": ".jl",
   "mimetype": "application/julia",
   "name": "julia",
   "version": "1.10.2"
  }
 },
 "nbformat": 4,
 "nbformat_minor": 2
}
