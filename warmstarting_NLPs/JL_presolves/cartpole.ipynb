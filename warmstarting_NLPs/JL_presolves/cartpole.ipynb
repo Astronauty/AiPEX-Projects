{
 "cells": [
  {
   "cell_type": "code",
   "execution_count": 1,
   "metadata": {},
   "outputs": [
    {
     "name": "stderr",
     "output_type": "stream",
     "text": [
      "\u001b[32m\u001b[1m  Activating\u001b[22m\u001b[39m project at `c:\\Users\\Daniel\\Documents\\Python-Projects\\AiPEX-Projects\\warmstarting_NLPs`\n"
     ]
    }
   ],
   "source": [
    "import Pkg\n",
    "Pkg.activate(@__DIR__)\n",
    "Pkg.instantiate()\n",
    "import MathOptInterface as MOI\n",
    "import Ipopt \n",
    "import FiniteDiff\n",
    "import ForwardDiff as FD\n",
    "import Convex as cvx \n",
    "import ECOS\n",
    "import MeshCat as mc\n",
    "import Distributions\n",
    "import Random\n",
    "\n",
    "using LinearAlgebra\n",
    "using Plots\n",
    "using Random\n",
    "using JLD2\n",
    "using Test\n",
    "using CSV\n",
    "using DataFrames\n"
   ]
  },
  {
   "cell_type": "code",
   "execution_count": 2,
   "metadata": {},
   "outputs": [
    {
     "data": {
      "text/plain": [
       "animate_cartpole (generic function with 1 method)"
      ]
     },
     "metadata": {},
     "output_type": "display_data"
    }
   ],
   "source": [
    "include(joinpath(@__DIR__, \"utils\",\"fmincon.jl\"))\n",
    "include(joinpath(@__DIR__, \"utils\",\"cartpole_animation.jl\"))"
   ]
  },
  {
   "cell_type": "code",
   "execution_count": 3,
   "metadata": {},
   "outputs": [
    {
     "data": {
      "text/plain": [
       "hermite_simpson (generic function with 1 method)"
      ]
     },
     "metadata": {},
     "output_type": "display_data"
    }
   ],
   "source": [
    "# cartpole \n",
    "function dynamics(params::NamedTuple, x::Vector, u)\n",
    "    # cartpole ODE, parametrized by params. \n",
    "\n",
    "    # cartpole physical parameters \n",
    "    mc, mp, l = params.mc, params.mp, params.l\n",
    "    g = 9.81\n",
    "    \n",
    "    q = x[1:2]\n",
    "    qd = x[3:4]\n",
    "\n",
    "    s = sin(q[2])\n",
    "    c = cos(q[2])\n",
    "\n",
    "    H = [mc+mp mp*l*c; mp*l*c mp*l^2]\n",
    "    C = [0 -mp*qd[2]*l*s; 0 0]\n",
    "    G = [0, mp*g*l*s]\n",
    "    B = [1, 0]\n",
    "\n",
    "    qdd = -H\\(C*qd + G - B*u[1])\n",
    "    xdot = [qd;qdd]\n",
    "    return xdot \n",
    "\n",
    "end\n",
    "\n",
    "function hermite_simpson(params::NamedTuple, x1::Vector, x2::Vector, u, dt::Real)::Vector\n",
    "    # TODO: input hermite simpson implicit integrator residual \n",
    "     x_mid = 0.5(x1 + x2) + (dt/8) * (dynamics(params, x1, u) - dynamics(params, x2, u))\n",
    "     res = x1 + (dt/6) * (dynamics(params, x1, u) + 4*dynamics(params, x_mid, u) + dynamics(params, x2, u)) - x2\n",
    "     return res\n",
    "end"
   ]
  },
  {
   "cell_type": "code",
   "execution_count": 4,
   "metadata": {},
   "outputs": [
    {
     "data": {
      "text/plain": [
       "solve_cartpole_swingup (generic function with 1 method)"
      ]
     },
     "metadata": {},
     "output_type": "display_data"
    }
   ],
   "source": [
    "function create_idx(nx,nu,N)\n",
    "    # This function creates some useful indexing tools for Z \n",
    "    # x_i = Z[idx.x[i]]\n",
    "    # u_i = Z[idx.u[i]]\n",
    "    \n",
    "    # Feel free to use/not use anything here.\n",
    "    \n",
    "    # our Z vector is [x0, u0, x1, u1, …, xN]\n",
    "    nz = (N-1) * nu + N * nx # length of Z \n",
    "    x = [(i - 1) * (nx + nu) .+ (1 : nx) for i = 1:N]\n",
    "    u = [(i - 1) * (nx + nu) .+ ((nx + 1):(nx + nu)) for i = 1:(N - 1)]\n",
    "    \n",
    "    # constraint indexing for the (N-1) dynamics constraints when stacked up\n",
    "    c = [(i - 1) * (nx) .+ (1 : nx) for i = 1:(N - 1)]\n",
    "    nc = (N - 1) * nx # (N-1)*nx \n",
    "    \n",
    "    return (nx=nx,nu=nu,N=N,nz=nz,nc=nc,x= x,u = u,c = c)\n",
    "end\n",
    "\n",
    "function cartpole_cost(params::NamedTuple, Z::Vector)::Real\n",
    "    idx, N, xg = params.idx, params.N, params.xg\n",
    "    Q, R, Qf = params.Q, params.R, params.Qf\n",
    "    \n",
    "    # TODO: input cartpole LQR cost \n",
    "    J = 0 \n",
    "\n",
    "    for i = 1:(N-1)\n",
    "        xi = Z[idx.x[i]]\n",
    "        ui = Z[idx.u[i]]\n",
    "       \n",
    "        J += 0.5*(xi-xg)'*Q*(xi-xg) + 0.5*ui'*R*ui\n",
    "    end\n",
    "    \n",
    "    # dont forget terminal cost \n",
    "    xN = Z[idx.x[N]]\n",
    "    J += 0.5*(xN-xg)'*Qf*(xN-xg)\n",
    "    return J \n",
    "end\n",
    "\n",
    "function cartpole_dynamics_constraints(params::NamedTuple, Z::Vector)::Vector\n",
    "    idx, N, dt = params.idx, params.N, params.dt\n",
    "    \n",
    "    # TODO: create dynamics constraints using hermite simpson \n",
    "\n",
    "    # create c in a ForwardDiff friendly way (check HW0)\n",
    "    c = zeros(eltype(Z), idx.nc)\n",
    "    \n",
    "    for i = 1:(N-1)\n",
    "        xi = Z[idx.x[i]]\n",
    "        ui = Z[idx.u[i]] \n",
    "        xip1 = Z[idx.x[i+1]]\n",
    "        \n",
    "        # TODO: hermite simpson \n",
    "        c[idx.c[i]] = hermite_simpson(params, xi, xip1, ui, dt)\n",
    "    end\n",
    "    return c \n",
    "end\n",
    "\n",
    "function cartpole_equality_constraint(params::NamedTuple, Z::Vector)::Vector\n",
    "    N, idx, xic, xg = params.N, params.idx, params.xic, params.xg \n",
    "    \n",
    "    \n",
    "    # TODO: return all of the equality constraints \n",
    "\n",
    "    \n",
    "    return [Z[idx.x[1]] - xic; Z[idx.x[end]] - xg; cartpole_dynamics_constraints(params, Z)] \n",
    "end\n",
    "\n",
    "function solve_cartpole_swingup(σ, z0; verbose=true)\n",
    "    \n",
    "    # problem size \n",
    "    nx = 4 \n",
    "    nu = 1 \n",
    "    dt = 0.05\n",
    "    tf = 2.0 \n",
    "    t_vec = 0:dt:tf \n",
    "    N = length(t_vec)\n",
    "    \n",
    "    # LQR cost \n",
    "    Q = diagm(ones(nx))\n",
    "    R = 0.1*diagm(ones(nu))\n",
    "    Qf = 10*diagm(ones(nx))\n",
    "    \n",
    "    # indexing \n",
    "    idx = create_idx(nx,nu,N)\n",
    "    \n",
    "    # initial and goal states \n",
    "    # xic = [0, 0, 0, 0]\n",
    "    xic = [σ[1], σ[2], 0, 0]\n",
    "    xg = [0, pi, 0, 0]\n",
    "    \n",
    "    # load all useful things into params \n",
    "    params = (Q = Q, R = R, Qf = Qf, xic = xic, xg = xg, dt = dt, N = N, idx = idx,mc = 1.0, mp = 0.2, l = 0.5)\n",
    "    \n",
    "    # TODO: primal bounds \n",
    "    x_l = fill(-Inf, idx.nz)\n",
    "    x_u = fill(Inf, idx.nz)\n",
    "    \n",
    "    for i = 1:(N-1)\n",
    "        x_l[idx.u[i]] .= -10\n",
    "        x_u[idx.u[i]] .= 10\n",
    "    end\n",
    "\n",
    "    \n",
    "    # inequality constraint bounds (this is what we do when we have no inequality constraints)\n",
    "    c_l = zeros(0)\n",
    "    c_u = zeros(0)\n",
    "    function inequality_constraint(params, Z)\n",
    "        return zeros(eltype(Z), 0)\n",
    "    end\n",
    "    \n",
    "    # initial guess \n",
    "    # z0 = 0.001*randn(idx.nz)\n",
    "    z0 = z0\n",
    "    \n",
    "    # choose diff type (try :auto, then use :finite if :auto doesn't work)\n",
    "    diff_type = :auto \n",
    "#     diff_type = :finite\n",
    "    \n",
    "    # @show cartpole_equality_constraint(params, z0)\n",
    "    # @show cartpole_dynamics_constraints(params, z0)\n",
    "    # @show inequality_constraint(params, z0)\n",
    "    # @show cartpole_cost(params, z0)\n",
    "        \n",
    "    Z, obj, solve_time_sec, term_status = fmincon(cartpole_cost,cartpole_equality_constraint,inequality_constraint,\n",
    "                x_l,x_u,c_l,c_u,z0,params, diff_type;\n",
    "                tol = 1e-6, c_tol = 1e-6, max_iters = 10_000, verbose = verbose)\n",
    "    # term_status = 0\n",
    "\\\n",
    "\n",
    "\n",
    "\n",
    "    # pull the X and U solutions out of Z \n",
    "    X = [Z[idx.x[i]] for i = 1:N]\n",
    "    U = [Z[idx.u[i]] for i = 1:(N-1)]\n",
    "    \n",
    "    return X, U, obj, solve_time_sec, term_status, t_vec, params \n",
    "end\n",
    "\n",
    "\n",
    "    \n"
   ]
  },
  {
   "cell_type": "code",
   "execution_count": 5,
   "metadata": {},
   "outputs": [],
   "source": [
    "# X, U, obj, t_vec, params = solve_cartpole_swingup(verbose=true)\n",
    "\n",
    "# # --------------testing------------------\n",
    "\n",
    "# Xm = hcat(X...)\n",
    "# Um = hcat(U...)\n",
    "\n",
    "# # --------------plotting-----------------\n",
    "# display(plot(t_vec, Xm', label = [\"p\" \"θ\" \"ṗ\" \"θ̇\"], xlabel = \"time (s)\", title = \"State Trajectory\"))\n",
    "# display(plot(t_vec[1:end-1],Um',label=\"\",xlabel = \"time (s)\", ylabel = \"u\",title = \"Controls\"))\n",
    "\n",
    "# # display(animate_cartpole(X, 0.05))\n",
    "\n"
   ]
  },
  {
   "cell_type": "markdown",
   "metadata": {},
   "source": [
    "## Solve the DIRCOL NLP for a parameter set"
   ]
  },
  {
   "cell_type": "code",
   "execution_count": 6,
   "metadata": {},
   "outputs": [],
   "source": [
    "# ## Define upper and lower bounds of the parameters for the Paramaetric Optimal Control Problem\n",
    "# # using the xic of the cartpole\n",
    "# using Random, Distributions, CSV, DataFrames\n",
    "# Random.seed!(123)\n",
    "\n",
    "\n",
    "# N = 10000 # number of samples\n",
    "# σ_lower = [0.0, 0.0]\n",
    "# σ_upper = [0.2, pi/2]\n",
    "\n",
    "# # Randomly sample the iid parameters uniformly from the given bounds\n",
    "# d = Product(Uniform.(σ_lower, σ_upper))\n",
    "# σ_samples = rand(d, N)\n",
    "# σ_samples = eachcol(σ_samples)\n",
    "\n",
    "# # Solve the NLP for the parameter sample set\n",
    "# df = DataFrame(params = Vector{Vector{Float64}}(), X=Vector{Vector{Vector{Float64}}}(), U=Vector{Vector{Vector{Float64}}}(), obj = Float64[], solve_time_sec = Float64[], term_status = MOI.TerminationStatusCode[])\n",
    "\n",
    "# i = 1\n",
    "# for σ in σ_samples\n",
    "#     println(\"Sample: \", i)\n",
    "#     println(\"------------------\")\n",
    "#     X, U, obj, solve_time_sec, term_status, t_vec, params = solve_cartpole_swingup(σ, verbose=false)\n",
    "#     println(\"σ: \", σ)\n",
    "#     println(\"Objective Value: \", obj)\n",
    "#     println(\"TerminationStatusCode: \", term_status)\n",
    "#     println(\"\")\n",
    "\n",
    "#     push!(df, [σ, X, U, obj, solve_time_sec, term_status])\n",
    "#     i += 1\n",
    "# end\n",
    "\n"
   ]
  },
  {
   "cell_type": "code",
   "execution_count": 7,
   "metadata": {},
   "outputs": [
    {
     "ename": "UndefVarError",
     "evalue": "UndefVarError: `df` not defined",
     "output_type": "error",
     "traceback": [
      "UndefVarError: `df` not defined\n"
     ]
    }
   ],
   "source": [
    "\n",
    "# CSV.write(\"data/cartpole_DIRCOL_10000.csv\", df)\n",
    "\n",
    "df"
   ]
  },
  {
   "cell_type": "markdown",
   "metadata": {},
   "source": [
    "## Load in the Warmstarts and Solve for the Refined Trajectories"
   ]
  },
  {
   "cell_type": "code",
   "execution_count": 8,
   "metadata": {},
   "outputs": [
    {
     "name": "stdout",
     "output_type": "stream",
     "text": [
      "Z_warmstart_str = \"[ 1.70140382e-01  3.19718309e-01 -6.13145898e-02 -2.41441855e-02\\n  6.31762276e+00  1.56865211e-01  2.58724773e-01  3.67688205e-01\\n -9.83618856e-01  4.70928077e+00  1.55486533e-01  2.49884758e-01\\n  5.65335059e-01 -1.76038808e+00  3.57896200e+00  1.61399660e-01\\n  7.88651250e-02  7.98954482e-01 -2.31626724e+00  2.66135908e+00\\n  1.91590997e-01 -3.91588073e-02  9.98696405e-01 -2.68020160e+00\\n  2.24256469e+00  3.65926296e-01 -1.77606876e-01  1.05406491e+00\\n -2.84998161e+00  2.13916932e+00  3.18616788e-01 -1.95295022e-01\\n  1.21741380e+00 -2.83065565e+00  1.98734559e+00  4.38473792e-01\\n -4.51131746e-01  1.14911948e+00 -2.49404970e+00  1.66033610e+00\\n  3.84318911e-01 -6.01006929e-01  1.35984861e+00 -2.18336871e+00\\n  1.15210614e+00  5.24675177e-01 -6.72727465e-01  1.20251120e+00\\n -1.55209089e+00  8.65972662e-02  5.37869452e-01 -7.73231840e-01\\n  1.17870655e+00 -8.85409879e-01 -1.36208093e+00  6.52798966e-01\\n -8.02566582e-01  1.17343531e+00 -7.22268306e-02 -2.90903785e+00\\n  6.28827355e-01 -7.43389613e-01  8.13849314e-01  9.27918803e-01\\n -4.43156016e+00  7.22973786e-01 -5.92608592e-01  6.45102769e-01\\n  1.94798013e+00 -5.93962528e+00  7.03875589e-01 -4.14596611e-01\\n  2.25896492e-01  3.00533515e+00 -7.56717710e+00  6.34711991e-01\\n -3.14368897e-01 -1.81267921e-01  4.16961283e+00 -8.88748457e+00\\n  7.13110356e-01 -3.92755559e-02 -5.68589813e-01  5.20098322e+00\\n -9.89002752e+00  5.92567332e-01  1.89995469e-01 -1.08668073e+00\\n  5.94841306e+00 -1.06673341e+01  4.99676445e-01  4.01658172e-01\\n -1.47630170e+00  6.36624325e+00 -1.01149643e+01  4.73430032e-01\\n  6.71854111e-01 -1.80844061e+00  6.52602889e+00 -7.41992656e+00\\n  4.96288675e-01  1.11644638e+00 -2.04470091e+00  6.17944504e+00\\n -4.07149931e+00  2.55744799e-01  1.41548223e+00 -2.14817314e+00\\n  5.53310557e+00 -6.20863563e-01  2.14035271e-01  1.75464223e+00\\n -1.98615070e+00  4.89505535e+00  3.00008247e+00  1.16098073e-01\\n  1.92032889e+00 -1.82021299e+00  4.02581131e+00  6.44712072e+00\\n  8.53181788e-02  2.18331856e+00 -1.47964003e+00  3.42120921e+00\\n  8.54770394e+00 -3.73471471e-03  2.27353656e+00 -1.10572158e+00\\n  2.84497094e+00  8.44652919e+00 -1.31131044e-01  2.45523248e+00\\n -7.62566646e-01  2.51205985e+00  7.25564881e+00 -5.45610062e-02\\n  2.55659393e+00 -4.69109852e-01  2.19504828e+00  5.94319696e+00\\n -6.18989379e-02  2.65447861e+00 -1.92036857e-01  1.96562070e+00\\n  4.67043614e+00 -1.65616797e-01  2.69513738e+00  1.62196489e-02\\n  1.81492094e+00  3.50327396e+00 -1.66537477e-01  2.85828439e+00\\n  1.71895684e-01  1.66484642e+00  2.65151059e+00 -1.10126644e-01\\n  2.94179296e+00  1.74974410e-01  1.50935430e+00  1.72139318e+00\\n -7.28926098e-02  3.00455260e+00  3.17864864e-01  1.21692762e+00\\n  1.01804339e+00  9.47253700e-03  3.03301607e+00  3.46796022e-01\\n  1.15386799e+00  4.63310205e-01 -3.31734437e-02  3.04637721e+00\\n  3.29022437e-01  9.83805002e-01 -1.46478186e-01 -8.54141880e-03\\n  3.09396965e+00  2.83642258e-01  9.00177197e-01 -5.47164549e-01\\n -3.37048772e-02  3.12976839e+00  2.29777512e-01  6.15927157e-01\\n -8.78409326e-01 -9.47171471e-02  3.27592754e+00  1.15345427e-01\\n  5.74081989e-01 -1.25882866e+00 -4.37062492e-02  3.15870274e+00\\n  1.74474101e-01  3.46067516e-01 -1.47162120e+00  7.25708027e-03\\n  3.16307572e+00  1.21413004e-01  1.92422327e-01 -1.86530608e+00\\n  6.24370495e-02  3.26010089e+00 -1.59239074e-02  1.97657991e-03]\"\n"
     ]
    },
    {
     "data": {
      "text/plain": [
       "1×204 Matrix{Float64}:\n",
       " 0.17014  0.319718  -0.0613146  -0.0241442  …  3.2601  -0.0159239  0.00197658"
      ]
     },
     "metadata": {},
     "output_type": "display_data"
    }
   ],
   "source": [
    "using CSV\n",
    "\n",
    "df = DataFrame(CSV.File(\"data/warmstart_cartpole.csv\"))\n",
    "Z_warmstart_str = df.Z_warmstart[1]\n",
    "@show Z_warmstart_str\n",
    "Z_warmstart_str = replace(Z_warmstart_str, r\"\\n\" => \"\")\n",
    "Z_warmstart = eval(Meta.parse(Z_warmstart_str))\n",
    "# # Function to convert the string representation to a 2D array\n",
    "# function convert_to_2d_array(str::String)\n",
    "#     # Remove the brackets and newline characters\n",
    "#     clean_str = replace(str, r\"[\\[\\]\\n]\" => \"\")\n",
    "#     # Split the string into individual numbers\n",
    "#     num_strs = split(clean_str)\n",
    "#     # Convert the numbers to Float64\n",
    "#     nums = parse.(Float64, num_strs)\n",
    "#     # Reshape the flat array into a 2D array\n",
    "#     num_rows = count(x -> x == '\\n', str) + 1\n",
    "#     num_cols = length(nums) ÷ num_rows\n",
    "#     return reshape(nums, num_cols, num_rows)'\n",
    "# end\n",
    "\n",
    "# X_warmstart = convert_to_2d_array(X_warmstart_str)\n",
    "# X_warmstart = X_warmstart'\n",
    "# X_warmstart = [X_warmstart[:, i] for i in 1:size(X_warmstart, 2)]\n",
    "# @show size(X_warmstart[1])"
   ]
  },
  {
   "cell_type": "code",
   "execution_count": 15,
   "metadata": {},
   "outputs": [],
   "source": [
    "# Assuming you have a DataFrame named df\n",
    "\n",
    "for row in eachrow(df)\n",
    "    Z_warmstart_str = row.Z_warmstart\n",
    "    Z_warmstart_str = replace(Z_warmstart_str, r\"\\n\" => \"\")\n",
    "    Z_warmstart = vec(eval(Meta.parse(Z_warmstart_str)))\n",
    "    # @show typeof(Z_warmstart)\n",
    "    param_str = row.params\n",
    "    σ = vec(eval(Meta.parse(param_str)))\n",
    "    # @show typeof(vec(param_str))\n",
    "\n",
    "    X, U, obj, solve_time_sec, term_status, t_vec, params = solve_cartpole_swingup(σ, Z_warmstart; verbose=false)\n",
    "\n",
    "\n",
    "end"
   ]
  },
  {
   "cell_type": "code",
   "execution_count": null,
   "metadata": {},
   "outputs": [],
   "source": []
  }
 ],
 "metadata": {
  "kernelspec": {
   "display_name": "Julia 1.10.2",
   "language": "julia",
   "name": "julia-1.10"
  },
  "language_info": {
   "file_extension": ".jl",
   "mimetype": "application/julia",
   "name": "julia",
   "version": "1.10.2"
  }
 },
 "nbformat": 4,
 "nbformat_minor": 2
}
