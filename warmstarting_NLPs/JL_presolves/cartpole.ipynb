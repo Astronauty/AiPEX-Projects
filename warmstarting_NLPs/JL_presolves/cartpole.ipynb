{
 "cells": [
  {
   "cell_type": "code",
   "execution_count": 13,
   "metadata": {},
   "outputs": [
    {
     "name": "stderr",
     "output_type": "stream",
     "text": [
      "\u001b[32m\u001b[1m  Activating\u001b[22m\u001b[39m environment at `c:\\Users\\AiPEX-WS4\\Documents\\AiPEX-Projects\\warmstarting_NLPs\\JL_presolves\\Project.toml`\n"
     ]
    }
   ],
   "source": [
    "import Pkg\n",
    "Pkg.activate(@__DIR__)\n",
    "Pkg.instantiate()\n",
    "import MathOptInterface as MOI\n",
    "import Ipopt \n",
    "import FiniteDiff\n",
    "import ForwardDiff as FD\n",
    "import Convex as cvx \n",
    "import ECOS\n",
    "import MeshCat as mc\n",
    "import Distributions\n",
    "import Random\n",
    "\n",
    "using LinearAlgebra\n",
    "using Plots\n",
    "using Random\n",
    "using JLD2\n",
    "using Test\n",
    "using CSV\n",
    "using DataFrames\n"
   ]
  },
  {
   "cell_type": "code",
   "execution_count": 14,
   "metadata": {},
   "outputs": [
    {
     "data": {
      "text/plain": [
       "animate_cartpole (generic function with 1 method)"
      ]
     },
     "metadata": {},
     "output_type": "display_data"
    }
   ],
   "source": [
    "include(joinpath(@__DIR__, \"utils\",\"fmincon.jl\"))\n",
    "include(joinpath(@__DIR__, \"utils\",\"cartpole_animation.jl\"))"
   ]
  },
  {
   "cell_type": "code",
   "execution_count": 61,
   "metadata": {},
   "outputs": [
    {
     "data": {
      "text/plain": [
       "hermite_simpson (generic function with 1 method)"
      ]
     },
     "metadata": {},
     "output_type": "display_data"
    }
   ],
   "source": [
    "# cartpole \n",
    "function dynamics(params::NamedTuple, x::Vector, u)\n",
    "    # cartpole ODE, parametrized by params. \n",
    "\n",
    "    # cartpole physical parameters \n",
    "    mc, mp, l = params.mc, params.mp, params.l\n",
    "    g = 9.81\n",
    "    \n",
    "    q = x[1:2]\n",
    "    qd = x[3:4]\n",
    "\n",
    "    s = sin(q[2])\n",
    "    c = cos(q[2])\n",
    "\n",
    "\n",
    "    H = [mc+mp mp*l*c; mp*l*c mp*l^2]\n",
    "    @show size(H)\n",
    "    C = [0 -mp*qd[2]*l*s; 0 0]\n",
    "    G = [0, mp*g*l*s]\n",
    "    B = [1, 0]\n",
    "\n",
    "    qdd = -H\\(C*qd + G - B*u[1])\n",
    "    xdot = [qd;qdd]\n",
    "    return xdot \n",
    "\n",
    "end\n",
    "\n",
    "function hermite_simpson(params::NamedTuple, x1::Vector, x2::Vector, u, dt::Real)::Vector\n",
    "    # TODO: input hermite simpson implicit integrator residual \n",
    "     x_mid = 0.5(x1 + x2) + (dt/8) * (dynamics(params, x1, u) - dynamics(params, x2, u))\n",
    "     res = x1 + (dt/6) * (dynamics(params, x1, u) + 4*dynamics(params, x_mid, u) + dynamics(params, x2, u)) - x2\n",
    "     return res\n",
    "end"
   ]
  },
  {
   "cell_type": "code",
   "execution_count": 62,
   "metadata": {},
   "outputs": [
    {
     "data": {
      "text/plain": [
       "solve_cartpole_swingup (generic function with 1 method)"
      ]
     },
     "metadata": {},
     "output_type": "display_data"
    }
   ],
   "source": [
    "function create_idx(nx,nu,N)\n",
    "    # This function creates some useful indexing tools for Z \n",
    "    # x_i = Z[idx.x[i]]\n",
    "    # u_i = Z[idx.u[i]]\n",
    "    \n",
    "    # Feel free to use/not use anything here.\n",
    "    \n",
    "    # our Z vector is [x0, u0, x1, u1, …, xN]\n",
    "    nz = (N-1) * nu + N * nx # length of Z \n",
    "    x = [(i - 1) * (nx + nu) .+ (1 : nx) for i = 1:N]\n",
    "    u = [(i - 1) * (nx + nu) .+ ((nx + 1):(nx + nu)) for i = 1:(N - 1)]\n",
    "    \n",
    "    # constraint indexing for the (N-1) dynamics constraints when stacked up\n",
    "    c = [(i - 1) * (nx) .+ (1 : nx) for i = 1:(N - 1)]\n",
    "    nc = (N - 1) * nx # (N-1)*nx \n",
    "    \n",
    "    return (nx=nx,nu=nu,N=N,nz=nz,nc=nc,x= x,u = u,c = c)\n",
    "end\n",
    "\n",
    "function cartpole_cost(params::NamedTuple, Z::Vector)::Real\n",
    "    idx, N, xg = params.idx, params.N, params.xg\n",
    "    Q, R, Qf = params.Q, params.R, params.Qf\n",
    "    \n",
    "    # TODO: input cartpole LQR cost \n",
    "    J = 0 \n",
    "\n",
    "    for i = 1:(N-1)\n",
    "        xi = Z[idx.x[i]]\n",
    "        ui = Z[idx.u[i]]\n",
    "       \n",
    "        J += 0.5*(xi-xg)'*Q*(xi-xg) + 0.5*ui'*R*ui\n",
    "    end\n",
    "    \n",
    "    # dont forget terminal cost \n",
    "    xN = Z[idx.x[N]]\n",
    "    J += 0.5*(xN-xg)'*Qf*(xN-xg)\n",
    "    return J \n",
    "end\n",
    "\n",
    "function cartpole_dynamics_constraints(params::NamedTuple, Z::Vector)::Vector\n",
    "    idx, N, dt = params.idx, params.N, params.dt\n",
    "    \n",
    "    # TODO: create dynamics constraints using hermite simpson \n",
    "\n",
    "    # create c in a ForwardDiff friendly way (check HW0)\n",
    "    c = zeros(eltype(Z), idx.nc)\n",
    "    \n",
    "    for i = 1:(N-1)\n",
    "        xi = Z[idx.x[i]]\n",
    "        ui = Z[idx.u[i]] \n",
    "        xip1 = Z[idx.x[i+1]]\n",
    "        \n",
    "        # TODO: hermite simpson \n",
    "        c[idx.c[i]] = hermite_simpson(params, xi, xip1, ui, dt)\n",
    "    end\n",
    "    return c \n",
    "end\n",
    "\n",
    "function cartpole_equality_constraint(params::NamedTuple, Z::Vector)::Vector\n",
    "    N, idx, xic, xg = params.N, params.idx, params.xic, params.xg \n",
    "    \n",
    "    \n",
    "    # TODO: return all of the equality constraints \n",
    "\n",
    "    \n",
    "    return [Z[idx.x[1]] - xic; Z[idx.x[end]] - xg; cartpole_dynamics_constraints(params, Z)] \n",
    "end\n",
    "\n",
    "function solve_cartpole_swingup(σ; verbose=true)\n",
    "    \n",
    "    # problem size \n",
    "    nx = 4 \n",
    "    nu = 1 \n",
    "    dt = 0.05\n",
    "    tf = 2.0\n",
    "    t_vec = 0:dt:tf \n",
    "    N = length(t_vec)\n",
    "    \n",
    "    # LQR cost \n",
    "    Q = 1*diagm(ones(nx))\n",
    "    R = 0.1*diagm(ones(nu))\n",
    "    Qf = 10*diagm(ones(nx))\n",
    "    \n",
    "    # indexing \n",
    "    idx = create_idx(nx,nu,N)\n",
    "    \n",
    "    # initial and goal states \n",
    "    # xic = [0, 0, 0, 0]\n",
    "    xic = [σ[1], σ[2], 0, 0]\n",
    "    xg = [0, pi, 0, 0]\n",
    "    \n",
    "    # load all useful things into params \n",
    "    params = (Q = Q, R = R, Qf = Qf, xic = xic, xg = xg, dt = dt, N = N, idx = idx,mc = 1.0, mp = 0.2, l = 0.5)\n",
    "    \n",
    "    # TODO: primal bounds \n",
    "    x_l = fill(-Inf, idx.nz)\n",
    "    x_u = fill(Inf, idx.nz)\n",
    "    \n",
    "    for i = 1:(N-1)\n",
    "        x_l[idx.u[i]] .= -10\n",
    "        x_u[idx.u[i]] .= 10\n",
    "    end\n",
    "\n",
    "    \n",
    "    # inequality constraint bounds (this is what we do when we have no inequality constraints)\n",
    "    c_l = zeros(0)\n",
    "    c_u = zeros(0)\n",
    "    function inequality_constraint(params, Z)\n",
    "        return zeros(eltype(Z), 0)\n",
    "    end\n",
    "    \n",
    "    # initial guess \n",
    "    z0 = 0.01*randn(idx.nz)\n",
    "    # z0 = pi*ones(idx.nz)\n",
    "    # z0 = z0\n",
    "    \n",
    "    # choose diff type (try :auto, then use :finite if :auto doesn't work)\n",
    "    diff_type = :auto \n",
    "#     diff_type = :finite\n",
    "    \n",
    "    # @show cartpole_equality_constraint(params, z0)\n",
    "    # @show cartpole_dynamics_constraints(params, z0)\n",
    "    # @show inequality_constraint(params, z0)\n",
    "    # @show cartpole_cost(params, z0)\n",
    "        \n",
    "    Z, obj, solve_time_sec, term_status = fmincon(cartpole_cost,cartpole_equality_constraint,inequality_constraint,\n",
    "                x_l,x_u,c_l,c_u,z0,params, diff_type;\n",
    "                tol = 1e-6, c_tol = 1e-6, max_iters = 10_000, verbose = verbose)\n",
    "    # term_status = 0\n",
    "\n",
    "\n",
    "\n",
    "\n",
    "    # pull the X and U solutions out of Z \n",
    "    X = [Z[idx.x[i]] for i = 1:N]\n",
    "    U = [Z[idx.u[i]] for i = 1:(N-1)]\n",
    "    \n",
    "    return X, U, obj, solve_time_sec, term_status, t_vec, params \n",
    "end\n",
    "\n",
    "\n",
    "    \n"
   ]
  },
  {
   "cell_type": "markdown",
   "metadata": {},
   "source": [
    "## Solve cartpole for a single parameter sample"
   ]
  },
  {
   "cell_type": "code",
   "execution_count": 63,
   "metadata": {},
   "outputs": [],
   "source": [
    "\n",
    "σ = [0, pi, 0, 0]\n",
    "\n",
    "X, U, obj, solve_time_sec, term_status, t_vec, params = solve_cartpole_swingup(σ; verbose=true)\n",
    "\n",
    "# --------------testing------------------\n",
    "\n",
    "Xm = hcat(X...)\n",
    "Um = hcat(U...)\n",
    "\n",
    "# --------------plotting-----------------\n",
    "display(plot(t_vec, Xm', label = [\"p\" \"θ\" \"ṗ\" \"θ̇\"], xlabel = \"time (s)\", title = \"State Trajectory\"))\n",
    "display(plot(t_vec[1:end-1],Um',label=\"\",xlabel = \"time (s)\", ylabel = \"u\",title = \"Controls\"))\n",
    "\n",
    "\n"
   ]
  },
  {
   "cell_type": "code",
   "execution_count": 57,
   "metadata": {},
   "outputs": [
    {
     "name": "stderr",
     "output_type": "stream",
     "text": [
      "┌ Info: Listening on: 127.0.0.1:8715, thread id: 1\n",
      "└ @ HTTP.Servers C:\\Users\\AiPEX-WS4\\.julia\\packages\\HTTP\\sJD5V\\src\\Servers.jl:382\n",
      "┌ Info: MeshCat server started. You can open the visualizer by visiting the following URL in your browser:\n",
      "│ http://127.0.0.1:8715\n",
      "└ @ MeshCat C:\\Users\\AiPEX-WS4\\.julia\\packages\\MeshCat\\0RCA3\\src\\visualizer.jl:64\n"
     ]
    },
    {
     "data": {
      "text/html": [
       "    <div style=\"height: 500px; width: 100%; overflow-x: auto; overflow-y: hidden; resize: both\">\n",
       "    <iframe src=\"http://127.0.0.1:8715\" style=\"width: 100%; height: 100%; border: none\"></iframe>\n",
       "    </div>\n"
      ],
      "text/plain": [
       "MeshCat.DisplayedVisualizer(MeshCat.CoreVisualizer(MeshCat.SceneTrees.SceneNode(nothing, nothing, Dict{String, Vector{UInt8}}(), UInt8[0x83, 0xa7, 0x6f, 0x70, 0x74, 0x69, 0x6f, 0x6e, 0x73, 0x82  …  0x5f, 0x61, 0x6e, 0x69, 0x6d, 0x61, 0x74, 0x69, 0x6f, 0x6e], Dict{String, MeshCat.SceneTrees.SceneNode}(\"meshcat\" => MeshCat.SceneTrees.SceneNode(nothing, nothing, Dict{String, Vector{UInt8}}(), nothing, Dict{String, MeshCat.SceneTrees.SceneNode}(\"pole\" => MeshCat.SceneTrees.SceneNode(UInt8[0x83, 0xa6, 0x6f, 0x62, 0x6a, 0x65, 0x63, 0x74, 0x84, 0xaa  …  0x73, 0x68, 0x63, 0x61, 0x74, 0x2f, 0x70, 0x6f, 0x6c, 0x65], nothing, Dict{String, Vector{UInt8}}(), nothing, Dict{String, MeshCat.SceneTrees.SceneNode}()), \"b\" => MeshCat.SceneTrees.SceneNode(UInt8[0x83, 0xa6, 0x6f, 0x62, 0x6a, 0x65, 0x63, 0x74, 0x84, 0xaa  …  0x2f, 0x6d, 0x65, 0x73, 0x68, 0x63, 0x61, 0x74, 0x2f, 0x62], nothing, Dict{String, Vector{UInt8}}(), nothing, Dict{String, MeshCat.SceneTrees.SceneNode}()), \"cart\" => MeshCat.SceneTrees.SceneNode(UInt8[0x83, 0xa6, 0x6f, 0x62, 0x6a, 0x65, 0x63, 0x74, 0x84, 0xaa  …  0x73, 0x68, 0x63, 0x61, 0x74, 0x2f, 0x63, 0x61, 0x72, 0x74], nothing, Dict{String, Vector{UInt8}}(), nothing, Dict{String, MeshCat.SceneTrees.SceneNode}()), \"a\" => MeshCat.SceneTrees.SceneNode(UInt8[0x83, 0xa6, 0x6f, 0x62, 0x6a, 0x65, 0x63, 0x74, 0x84, 0xaa  …  0x2f, 0x6d, 0x65, 0x73, 0x68, 0x63, 0x61, 0x74, 0x2f, 0x61], nothing, Dict{String, Vector{UInt8}}(), nothing, Dict{String, MeshCat.SceneTrees.SceneNode}()))))), Set{HTTP.WebSockets.WebSocket}(), ip\"127.0.0.1\", 8715, HTTP.Servers.Server{HTTP.Servers.Listener{Nothing, Sockets.TCPServer}}(HTTP.Servers.Listener{Nothing, Sockets.TCPServer}(Sockets.InetAddr{Sockets.IPv4}(ip\"127.0.0.1\", 8715), \"127.0.0.1\", \"8715\", nothing, Sockets.TCPServer(Base.Libc.WindowsRawSocket(0x0000000000001378) active)), nothing, Set{HTTP.Connections.Connection}(), Task (runnable) @0x000000005d83a0e0, ReentrantLock(nothing, Base.GenericCondition{Base.Threads.SpinLock}(Base.InvasiveLinkedList{Task}(nothing, nothing), Base.Threads.SpinLock(0)), 0))))"
      ]
     },
     "metadata": {},
     "output_type": "display_data"
    }
   ],
   "source": [
    "# display(animate_cartpole(X, 0.05))\n",
    "animate_cartpole(X, 0.05)\n"
   ]
  },
  {
   "cell_type": "markdown",
   "metadata": {},
   "source": [
    "## Solve the DIRCOL NLP for a parameter set"
   ]
  },
  {
   "cell_type": "code",
   "execution_count": 19,
   "metadata": {},
   "outputs": [
    {
     "name": "stderr",
     "output_type": "stream",
     "text": [
      "\u001b[32mProgress: 100%|█████████████████████████████████████████| Time: 0:01:34\u001b[39m\u001b[K\n"
     ]
    }
   ],
   "source": [
    "# ## Define upper and lower bounds of the parameters for the Paramaetric Optimal Control Problem\n",
    "# # using the xic of the cartpole\n",
    "# using Random, Distributions, CSV, DataFrames, ProgressMeter\n",
    "# Random.seed!(123)\n",
    "\n",
    "# N = 50 # number of samples\n",
    "# σ_lower = [-1.0, 0]\n",
    "# σ_upper = [1.0, 2*pi]\n",
    "\n",
    "# # Randomly sample the iid parameters uniformly from the given bounds\n",
    "# d = Product(Uniform.(σ_lower, σ_upper))\n",
    "# σ_samples = rand(d, N)\n",
    "# σ_samples = eachcol(σ_samples)\n",
    "\n",
    "# # Solve the NLP for the parameter sample set\n",
    "# df = DataFrame(params = Vector{Vector{Float64}}(), X=Vector{Vector{Vector{Float64}}}(), U=Vector{Vector{Vector{Float64}}}(), obj = Float64[], solve_time_sec = Float64[], term_status = MOI.TerminationStatusCode[])\n",
    "\n",
    "# p = Progress(N, 1)\n",
    "# i = 1\n",
    "# for σ in σ_samples\n",
    "#     next!(p)\n",
    "#     # z0 = 0.001*randn(idx.nz)\n",
    "#     X, U, obj, solve_time_sec, term_status, t_vec, params = solve_cartpole_swingup(σ, verbose=false)\n",
    "\n",
    "#     # if i % 10 == 0\n",
    "#     #     println(\"Sample: \", i)\n",
    "#     #     println(\"------------------\")\n",
    "#     #     println(\"σ: \", σ)\n",
    "#     #     println(\"Objective Value: \", obj)\n",
    "#     #     println(\"Termination Status Code: \", term_status)\n",
    "#     #     println(\"Solve Time: \", solve_time_sec, \"s\")\n",
    "#     #     println(\"\")\n",
    "#     # end\n",
    "\n",
    "#     push!(df, [σ, X, U, obj, solve_time_sec, term_status])\n",
    "#     i += 1\n",
    "# end\n",
    "\n"
   ]
  },
  {
   "cell_type": "code",
   "execution_count": 20,
   "metadata": {},
   "outputs": [
    {
     "data": {
      "text/html": [
       "<div><div style = \"float: left;\"><span>50×6 DataFrame</span></div><div style = \"float: right;\"><span style = \"font-style: italic;\">25 rows omitted</span></div><div style = \"clear: both;\"></div></div><div class = \"data-frame\" style = \"overflow-x: scroll;\"><table class = \"data-frame\" style = \"margin-bottom: 6px;\"><thead><tr class = \"header\"><th class = \"rowNumber\" style = \"font-weight: bold; text-align: right;\">Row</th><th style = \"text-align: left;\">params</th><th style = \"text-align: left;\">X</th><th style = \"text-align: left;\">U</th><th style = \"text-align: left;\">obj</th><th style = \"text-align: left;\">solve_time_sec</th><th style = \"text-align: left;\">term_status</th></tr><tr class = \"subheader headerLastRow\"><th class = \"rowNumber\" style = \"font-weight: bold; text-align: right;\"></th><th title = \"Vector{Float64}\" style = \"text-align: left;\">Array…</th><th title = \"Vector{Vector{Float64}}\" style = \"text-align: left;\">Array…</th><th title = \"Vector{Vector{Float64}}\" style = \"text-align: left;\">Array…</th><th title = \"Float64\" style = \"text-align: left;\">Float64</th><th title = \"Float64\" style = \"text-align: left;\">Float64</th><th title = \"MathOptInterface.TerminationStatusCode\" style = \"text-align: left;\">Terminat…</th></tr></thead><tbody><tr><td class = \"rowNumber\" style = \"font-weight: bold; text-align: right;\">1</td><td style = \"text-align: left;\">[0.536895, 5.90943]</td><td style = \"text-align: left;\">[[0.536895, 3.37297, 1.29781e-13, -4.126e-13], [0.525056, 3.35546, -0.474051, -0.704672], [0.489399, 3.30165, -0.953515, -1.46086], [0.429539, 3.20769, -1.44276, -2.31824], [0.344945, 3.06746, -1.94226, -3.31627], [0.235296, 2.87354, -2.44192, -4.46246], [0.101232, 2.6196, -2.9119, -5.70227], [-0.0545727, 2.30364, -3.30267, -6.92384], [-0.205339, 1.95407, -2.72254, -7.14077], [-0.325965, 1.58137, -2.09028, -7.85149]  …  [-0.698828, 0.978451, 0.652881, 9.57426], [-0.646737, 1.41853, 1.41233, 8.11869], [-0.559374, 1.79922, 2.06735, 7.19345], [-0.441136, 2.1459, 2.65431, 6.75201], [-0.313006, 2.4587, 2.4556, 5.75849], [-0.201164, 2.71481, 2.00669, 4.48245], [-0.113088, 2.90742, 1.51208, 3.23326], [-0.0501441, 3.03969, 1.00532, 2.07466], [-0.01251, 3.11647, 0.50078, 1.00969], [-3.01424e-14, 3.14159, -6.90501e-14, 2.50241e-13]]</td><td style = \"text-align: left;\">[[-10.0], [-10.0], [-10.0], [-10.0], [-10.0], [-10.0], [-10.0], [10.0], [10.0], [10.0]  …  [10.0], [10.0], [10.0], [10.0], [-6.35807], [-10.0], [-10.0], [-10.0], [-10.0], [-10.0]]</td><td style = \"text-align: right;\">1299.07</td><td style = \"text-align: right;\">1.745</td><td style = \"text-align: left;\">LOCALLY_INFEASIBLE</td></tr><tr><td class = \"rowNumber\" style = \"font-weight: bold; text-align: right;\">2</td><td style = \"text-align: left;\">[0.347917, 2.48471]</td><td style = \"text-align: left;\">[[0.347917, 2.48471, 0.0, 0.0], [0.335215, 2.44959, -0.506704, -1.40327], [0.306937, 2.35885, -0.622486, -2.23211], [0.28188, 2.23756, -0.379024, -2.63915], [0.273618, 2.09811, 0.0492363, -2.967], [0.286951, 1.93793, 0.486512, -3.47057], [0.322633, 1.74788, 0.945845, -4.16512], [0.382213, 1.51779, 1.44607, -5.07816], [0.468331, 1.23569, 2.01171, -6.25406], [0.577193, 0.893763, 2.3526, -7.43912]  …  [-0.229905, 2.08268, -0.86037, 3.07803], [-0.262148, 2.2273, -0.430171, 2.73624], [-0.272935, 2.35921, -0.000830958, 2.56917], [-0.26213, 2.48716, 0.434506, 2.57904], [-0.229292, 2.62025, 0.881373, 2.7776], [-0.175196, 2.76577, 1.28503, 3.07795], [-0.109182, 2.91517, 1.35642, 2.92416], [-0.0501441, 3.03969, 1.00532, 2.07466], [-0.01251, 3.11647, 0.50078, 1.00969], [0.0, 3.14159, 0.0, 6.9533e-31]]</td><td style = \"text-align: left;\">[[-10.0], [-1.77467], [5.94236], [10.0], [10.0], [10.0], [10.0], [10.0], [2.97412], [-9.53868]  …  [10.0], [10.0], [10.0], [10.0], [10.0], [8.77879], [1.74058], [-6.85525], [-10.0], [-10.0]]</td><td style = \"text-align: right;\">699.009</td><td style = \"text-align: right;\">0.871</td><td style = \"text-align: left;\">LOCALLY_SOLVED</td></tr><tr><td class = \"rowNumber\" style = \"font-weight: bold; text-align: right;\">3</td><td style = \"text-align: left;\">[-0.373512, 4.16295]</td><td style = \"text-align: left;\">[[-0.373512, 3.35163, 1.33444e-13, -4.14319e-13], [-0.38542, 3.33336, -0.476804, -0.735123], [-0.421285, 3.27723, -0.959094, -1.52314], [-0.481493, 3.17933, -1.45103, -2.41408], [-0.566547, 3.03347, -1.95207, -3.44508], [-0.676661, 2.83243, -2.4498, -4.61658], [-0.810935, 2.5705, -2.91114, -5.86426], [-0.950872, 2.27088, -2.68094, -6.16458], [-1.0714, 1.95755, -2.13569, -6.43884], [-1.1637, 1.61995, -1.54587, -7.13774]  …  [-0.735627, 0.925806, 0.852823, 9.97188], [-0.672894, 1.38409, 1.63828, 8.45231], [-0.573651, 1.78047, 2.31562, 7.49246], [-0.445188, 2.14016, 2.81291, 6.96499], [-0.313006, 2.4587, 2.4556, 5.75849], [-0.201164, 2.71481, 2.00669, 4.48245], [-0.113088, 2.90742, 1.51208, 3.23326], [-0.0501441, 3.03969, 1.00532, 2.07466], [-0.01251, 3.11647, 0.50078, 1.00969], [-6.29864e-14, 3.14159, -7.00678e-15, 2.00705e-13]]</td><td style = \"text-align: left;\">[[-10.0], [-10.0], [-10.0], [-10.0], [-10.0], [-10.0], [3.6008], [10.0], [10.0], [10.0]  …  [5.49854], [10.0], [10.0], [7.54446], [-10.0], [-10.0], [-10.0], [-10.0], [-10.0], [-10.0]]</td><td style = \"text-align: right;\">1279.31</td><td style = \"text-align: right;\">1.416</td><td style = \"text-align: left;\">LOCALLY_INFEASIBLE</td></tr><tr><td class = \"rowNumber\" style = \"font-weight: bold; text-align: right;\">4</td><td style = \"text-align: left;\">[0.172044, 0.327562]</td><td style = \"text-align: left;\">[[0.172044, 0.327562, 0.0, 6.18897e-29], [0.178888, 0.306778, 0.273761, -0.828773], [0.198008, 0.247916, 0.490764, -1.51705], [0.22705, 0.15792, 0.669845, -2.0674], [0.264389, 0.0439419, 0.821693, -2.46974], [0.30878, -0.0861919, 0.951041, -2.70847], [0.359099, -0.223878, 1.05856, -2.76974], [0.4142, -0.360019, 1.14281, -2.64844], [0.472852, -0.485606, 1.20169, -2.35242], [0.533721, -0.59234, 1.23265, -1.90064]  …  [-0.112594, 2.79031, 0.20602, 1.49437], [-0.100484, 2.86058, 0.279182, 1.32917], [-0.085486, 2.92275, 0.321492, 1.16921], [-0.0690205, 2.9771, 0.337849, 1.0151], [-0.052291, 3.02391, 0.331997, 0.866185], [-0.0363451, 3.06338, 0.306423, 0.719954], [-0.0221416, 3.09551, 0.262211, 0.571379], [-0.0106267, 3.11997, 0.19877, 0.41202], [-0.00283078, 3.13591, 0.113324, 0.228501], [0.0, 3.14159, 0.0, 8.44884e-27]]</td><td style = \"text-align: left;\">[[4.99013], [3.8469], [3.15593], [2.79297], [2.6422], [2.57617], [2.46578], [2.20967], [1.75009], [1.05085]  …  [2.85638], [2.00806], [1.28685], [0.672413], [0.141968], [-0.328894], [-0.767142], [-1.20488], [-1.68386], [-2.26278]]</td><td style = \"text-align: right;\">404.52</td><td style = \"text-align: right;\">1.354</td><td style = \"text-align: left;\">LOCALLY_SOLVED</td></tr><tr><td class = \"rowNumber\" style = \"font-weight: bold; text-align: right;\">5</td><td style = \"text-align: left;\">[-0.462721, 0.684055]</td><td style = \"text-align: left;\">[[-0.462721, 0.684055, 0.0, 0.0], [-0.452359, 0.652528, 0.415494, -1.26139], [-0.424602, 0.56376, 0.696494, -2.28491], [-0.385584, 0.430018, 0.864556, -3.04971], [-0.34051, 0.265081, 0.936123, -3.51946], [-0.29358, 0.0838721, 0.936568, -3.69095], [-0.247495, -0.0997364, 0.901815, -3.61346], [-0.203162, -0.275033, 0.867512, -3.36276], [-0.159975, -0.434878, 0.85745, -3.0021], [-0.116497, -0.574666, 0.88059, -2.56701]  …  [-0.162421, 2.62983, 0.242128, 2.09125], [-0.147052, 2.72891, 0.373368, 1.88967], [-0.12635, 2.81802, 0.455499, 1.69079], [-0.102634, 2.8972, 0.493937, 1.4906], [-0.077962, 2.96632, 0.493769, 1.2868], [-0.054159, 3.02513, 0.459122, 1.07653], [-0.0328795, 3.07318, 0.392735, 0.854689], [-0.015686, 3.10968, 0.295557, 0.612383], [-0.00415149, 3.13326, 0.166195, 0.335106], [0.0, 3.14159, 0.0, 4.97173e-28]]</td><td style = \"text-align: left;\">[[7.96743], [4.88584], [2.35202], [0.468624], [-0.552236], [-0.669122], [-0.104988], [0.785978], [1.69134], [2.41344]  …  [4.54247], [3.33436], [2.22709], [1.23597], [0.35441], [-0.435818], [-1.16019], [-1.85106], [-2.55073], [-3.31848]]</td><td style = \"text-align: right;\">436.644</td><td style = \"text-align: right;\">1.299</td><td style = \"text-align: left;\">LOCALLY_SOLVED</td></tr><tr><td class = \"rowNumber\" style = \"font-weight: bold; text-align: right;\">6</td><td style = \"text-align: left;\">[-0.672668, 2.97205]</td><td style = \"text-align: left;\">[[-0.672668, 2.97205, 0.0, 0.0], [-0.685505, 2.94251, -0.513505, -1.1855], [-0.72401, 2.85278, -1.02611, -2.41327], [-0.787959, 2.70019, -1.52865, -3.69829], [-0.861835, 2.50792, -1.4254, -4.02153], [-0.921494, 2.3088, -0.962381, -3.99008], [-0.958109, 2.10439, -0.501302, -4.2302], [-0.971389, 1.88142, -0.0258792, -4.73267], [-0.960098, 1.62661, 0.485729, -5.50696], [-0.921753, 1.32563, 1.06123, -6.58746]  …  [-0.465189, 1.45496, -0.207558, 6.51885], [-0.461144, 1.75604, 0.35757, 5.58221], [-0.430342, 2.01858, 0.86791, 4.971], [-0.374786, 2.25823, 1.35197, 4.66627], [-0.295211, 2.49044, 1.83183, 4.67616], [-0.20018, 2.7167, 1.96774, 4.40835], [-0.113088, 2.90742, 1.51208, 3.23326], [-0.0501441, 3.03969, 1.00532, 2.07466], [-0.01251, 3.11647, 0.50078, 1.00969], [0.0, 3.14159, 0.0, 6.4826e-32]]</td><td style = \"text-align: left;\">[[-10.0], [-10.0], [-10.0], [2.27184], [10.0], [10.0], [10.0], [10.0], [10.0], [10.0]  …  [10.0], [10.0], [10.0], [10.0], [10.0], [2.66789], [-9.19326], [-10.0], [-10.0], [-10.0]]</td><td style = \"text-align: right;\">870.494</td><td style = \"text-align: right;\">0.713</td><td style = \"text-align: left;\">LOCALLY_SOLVED</td></tr><tr><td class = \"rowNumber\" style = \"font-weight: bold; text-align: right;\">7</td><td style = \"text-align: left;\">[0.730824, 3.87982]</td><td style = \"text-align: left;\">[[0.730824, 3.37203, 5.07035e-14, -4.10411e-13], [0.718981, 3.35449, -0.474173, -0.706021], [0.683316, 3.30057, -0.953763, -1.46363], [0.62344, 3.20643, -1.44313, -2.3225], [0.538826, 3.06595, -1.94271, -3.32203], [0.429155, 2.87172, -2.4423, -4.46941], [0.29508, 2.61742, -2.91192, -5.70964], [0.139291, 2.30109, -3.30196, -6.93076], [-0.0127792, 1.94952, -2.77431, -7.20801], [-0.135879, 1.57331, -2.13722, -7.92587]  …  [-0.678329, 1.01321, 0.560952, 9.32593], [-0.631243, 1.44196, 1.30409, 7.91182], [-0.549646, 1.81298, 1.94555, 7.01002], [-0.437765, 2.15069, 2.52229, 6.57402], [-0.313006, 2.4587, 2.4556, 5.75849], [-0.201164, 2.71481, 2.00669, 4.48245], [-0.113088, 2.90742, 1.51208, 3.23326], [-0.0501441, 3.03969, 1.00532, 2.07466], [-0.01251, 3.11647, 0.50078, 1.00969], [2.92291e-14, 3.14159, -1.09442e-13, 2.87828e-13]]</td><td style = \"text-align: left;\">[[-10.0], [-10.0], [-10.0], [-10.0], [-10.0], [-10.0], [-10.0], [8.74717], [10.0], [10.0]  …  [10.0], [10.0], [10.0], [10.0], [-3.33063], [-10.0], [-10.0], [-10.0], [-10.0], [-10.0]]</td><td style = \"text-align: right;\">1276.37</td><td style = \"text-align: right;\">2.158</td><td style = \"text-align: left;\">LOCALLY_INFEASIBLE</td></tr><tr><td class = \"rowNumber\" style = \"font-weight: bold; text-align: right;\">8</td><td style = \"text-align: left;\">[-0.428604, 2.91444]</td><td style = \"text-align: left;\">[[-0.428604, 2.91444, 0.0, 0.0], [-0.441509, 2.88368, -0.516086, -1.23387], [-0.48017, 2.79044, -1.0292, -2.50326], [-0.54231, 2.6361, -1.45288, -3.67793], [-0.61054, 2.44646, -1.27572, -3.93829], [-0.662808, 2.24933, -0.815818, -3.99222], [-0.692088, 2.04285, -0.353674, -4.31042], [-0.697851, 1.81397, 0.128231, -4.8888], [-0.678551, 1.54938, 0.653238, -5.74348], [-0.631331, 1.23433, 1.24991, -6.91588]  …  [-0.425319, 1.55692, -0.313147, 5.94607], [-0.427398, 1.83199, 0.220316, 5.10829], [-0.404012, 2.07265, 0.710079, 4.5656], [-0.3567, 2.29324, 1.18097, 4.30562], [-0.285913, 2.50808, 1.65175, 4.33811], [-0.19779, 2.72128, 1.87305, 4.22806], [-0.113088, 2.90742, 1.51208, 3.23326], [-0.0501441, 3.03969, 1.00532, 2.07466], [-0.01251, 3.11647, 0.50078, 1.00969], [0.0, 3.14159, 0.0, -2.8671e-28]]</td><td style = \"text-align: left;\">[[-10.0], [-10.0], [-8.43347], [3.86516], [10.0], [10.0], [10.0], [10.0], [10.0], [7.77423]  …  [10.0], [10.0], [10.0], [10.0], [10.0], [4.58375], [-7.23323], [-10.0], [-10.0], [-10.0]]</td><td style = \"text-align: right;\">838.77</td><td style = \"text-align: right;\">0.789</td><td style = \"text-align: left;\">LOCALLY_SOLVED</td></tr><tr><td class = \"rowNumber\" style = \"font-weight: bold; text-align: right;\">9</td><td style = \"text-align: left;\">[-0.448362, 2.80587]</td><td style = \"text-align: left;\">[[-0.448362, 2.80587, 0.0, 0.0], [-0.461333, 2.77322, -0.518374, -1.30828], [-0.500087, 2.67467, -1.0296, -2.63761], [-0.555681, 2.52357, -1.19169, -3.41895], [-0.605527, 2.35251, -0.803261, -3.4608], [-0.63451, 2.1759, -0.35608, -3.64237], [-0.641032, 1.98445, 0.0974532, -4.05409], [-0.62439, 1.76659, 0.573708, -4.70072], [-0.582916, 1.5101, 1.09491, -5.60494], [-0.513692, 1.20106, 1.68835, -6.81147]  …  [-0.373127, 1.68927, -0.460653, 5.20629], [-0.383554, 1.93061, 0.0365474, 4.49241], [-0.369971, 2.14282, 0.50357, 4.03825], [-0.333367, 2.33865, 0.960205, 3.83774], [-0.273876, 2.53099, 1.4211, 3.90145], [-0.19466, 2.72729, 1.74901, 3.99159], [-0.113088, 2.90742, 1.51208, 3.23326], [-0.0501441, 3.03969, 1.00532, 2.07466], [-0.01251, 3.11647, 0.50078, 1.00969], [0.0, 3.14159, 0.0, -1.79042e-31]]</td><td style = \"text-align: left;\">[[-10.0], [-10.0], [-3.0277], [8.62559], [10.0], [10.0], [10.0], [10.0], [10.0], [7.29255]  …  [10.0], [10.0], [10.0], [10.0], [10.0], [6.95502], [-4.66871], [-10.0], [-10.0], [-10.0]]</td><td style = \"text-align: right;\">792.198</td><td style = \"text-align: right;\">0.892</td><td style = \"text-align: left;\">LOCALLY_SOLVED</td></tr><tr><td class = \"rowNumber\" style = \"font-weight: bold; text-align: right;\">10</td><td style = \"text-align: left;\">[0.164636, 1.60838]</td><td style = \"text-align: left;\">[[0.164636, 1.60838, 0.0, 0.0], [0.172353, 1.58439, 0.309672, -0.962244], [0.196008, 1.51164, 0.639523, -1.95537], [0.236153, 1.38789, 0.971739, -3.00703], [0.291932, 1.21032, 1.26714, -4.10904], [0.360105, 0.978578, 1.46731, -5.16399], [0.434307, 0.700312, 1.5019, -5.94002], [0.50521, 0.396428, 1.32416, -6.14657], [0.563107, 0.0978747, 0.97659, -5.71101], [0.602466, -0.168909, 0.587736, -4.89821]  …  [-0.215, 2.30521, -0.331634, 2.6308], [-0.222698, 2.43173, 0.0241919, 2.45608], [-0.214049, 2.55098, 0.322628, 2.33798], [-0.192032, 2.66504, 0.559076, 2.2467], [-0.159872, 2.77455, 0.72839, 2.15452], [-0.121129, 2.87868, 0.822378, 2.02994], [-0.0799123, 2.97478, 0.827286, 1.83126], [-0.0412407, 3.05764, 0.720505, 1.49812], [-0.0116195, 3.11826, 0.465134, 0.937827], [0.0, 3.14159, 0.0, 9.30889e-28]]</td><td style = \"text-align: left;\">[[7.45826], [7.65907], [7.11055], [5.28483], [1.93783], [-2.48872], [-6.52181], [-8.36924], [-7.62187], [-5.4129]  …  [9.47981], [8.34025], [7.00425], [5.56585], [4.03426], [2.35735], [0.426481], [-1.93675], [-5.01837], [-9.2881]]</td><td style = \"text-align: right;\">539.585</td><td style = \"text-align: right;\">0.933</td><td style = \"text-align: left;\">LOCALLY_SOLVED</td></tr><tr><td class = \"rowNumber\" style = \"font-weight: bold; text-align: right;\">11</td><td style = \"text-align: left;\">[0.411721, 1.83455]</td><td style = \"text-align: left;\">[[0.411721, 1.83455, 0.0, 0.0], [0.415702, 1.8129, 0.159976, -0.867706], [0.429952, 1.74838, 0.412175, -1.71962], [0.458532, 1.64045, 0.734922, -2.61069], [0.503966, 1.48578, 1.08878, -3.59422], [0.566393, 1.27944, 1.41727, -4.6786], [0.642688, 1.01872, 1.64336, -5.75772], [0.725566, 0.710512, 1.67247, -6.54089], [0.803668, 0.378778, 1.43794, -6.64566], [0.865249, 0.059835, 1.0072, -6.01661]  …  [-0.21502, 2.25041, -0.580104, 2.58596], [-0.233345, 2.37542, -0.152227, 2.44221], [-0.231348, 2.49562, 0.233267, 2.39272], [-0.211871, 2.61412, 0.547104, 2.37251], [-0.178712, 2.7315, 0.780525, 2.34598], [-0.13623, 2.84634, 0.919909, 2.26915], [-0.0896535, 2.95465, 0.94419, 2.08294], [-0.0455405, 3.04892, 0.821249, 1.70439], [-0.01251, 3.11647, 0.50078, 1.00969], [0.0, 3.14159, 0.0, 0.0]]</td><td style = \"text-align: left;\">[[4.25548], [6.24427], [7.50174], [7.51886], [5.80638], [2.07486], [-3.17862], [-8.06177], [-10.0], [-9.16425]  …  [10.0], [10.0], [8.95014], [7.25324], [5.3993], [3.30618], [0.831356], [-2.25144], [-6.31586], [-10.0]]</td><td style = \"text-align: right;\">577.424</td><td style = \"text-align: right;\">0.748</td><td style = \"text-align: left;\">LOCALLY_SOLVED</td></tr><tr><td class = \"rowNumber\" style = \"font-weight: bold; text-align: right;\">12</td><td style = \"text-align: left;\">[-0.437868, 4.98213]</td><td style = \"text-align: left;\">[[-0.437868, 3.34961, 1.32732e-13, -4.14506e-13], [-0.449783, 3.33127, -0.477062, -0.737985], [-0.485667, 3.27493, -0.959616, -1.52898], [-0.545908, 3.17665, -1.45179, -2.42304], [-0.631004, 3.03027, -1.95297, -3.45706], [-0.741159, 2.82857, -2.45047, -4.63079], [-0.875448, 2.5659, -2.91095, -5.87903], [-1.01437, 2.26699, -2.64123, -6.12484], [-1.13295, 1.9555, -2.09755, -6.40495], [-1.22339, 1.61951, -1.50942, -7.10627]  …  [-0.739782, 0.922101, 0.883411, 10.0054], [-0.675466, 1.38194, 1.67107, 8.48112], [-0.574533, 1.77969, 2.35035, 7.51934], [-0.445188, 2.14016, 2.81291, 6.96499], [-0.313006, 2.4587, 2.4556, 5.75849], [-0.201164, 2.71481, 2.00669, 4.48245], [-0.113088, 2.90742, 1.51208, 3.23326], [-0.0501441, 3.03969, 1.00532, 2.07466], [-0.01251, 3.11647, 0.50078, 1.00969], [-6.26312e-14, 3.14159, -7.01236e-15, 1.98997e-13]]</td><td style = \"text-align: left;\">[[-10.0], [-10.0], [-10.0], [-10.0], [-10.0], [-10.0], [4.46628], [10.0], [10.0], [10.0]  …  [5.06972], [10.0], [10.0], [6.71092], [-10.0], [-10.0], [-10.0], [-10.0], [-10.0], [-10.0]]</td><td style = \"text-align: right;\">1280.4</td><td style = \"text-align: right;\">1.981</td><td style = \"text-align: left;\">LOCALLY_INFEASIBLE</td></tr><tr><td class = \"rowNumber\" style = \"font-weight: bold; text-align: right;\">13</td><td style = \"text-align: left;\">[-0.58154, 5.769]</td><td style = \"text-align: left;\">[[-0.58154, 3.34518, 1.31101e-13, -4.15027e-13], [-0.593469, 3.32669, -0.477628, -0.744249], [-0.629395, 3.26987, -0.960757, -1.54177], [-0.689707, 3.17078, -1.45346, -2.44264], [-0.774895, 3.02325, -1.9549, -3.48321], [-0.885138, 2.82011, -2.4519, -4.66173], [-1.01946, 2.55586, -2.91048, -5.91109], [-1.15668, 2.25766, -2.57486, -6.07014], [-1.27199, 1.94854, -2.03303, -6.36372], [-1.35924, 1.61437, -1.44646, -7.07386]  …  [-0.75532, 0.908274, 0.997799, 10.1305], [-0.685082, 1.3739, 1.79368, 8.58864], [-0.577831, 1.7768, 2.48022, 7.61957], [-0.445188, 2.14016, 2.81291, 6.96499], [-0.313006, 2.4587, 2.4556, 5.75849], [-0.201164, 2.71481, 2.00669, 4.48245], [-0.113088, 2.90742, 1.51208, 3.23326], [-0.0501441, 3.03969, 1.00532, 2.07466], [-0.01251, 3.11647, 0.50078, 1.00969], [-6.07239e-14, 3.14159, -9.20648e-15, 2.06282e-13]]</td><td style = \"text-align: left;\">[[-10.0], [-10.0], [-10.0], [-10.0], [-10.0], [-10.0], [5.90166], [10.0], [10.0], [10.0]  …  [2.98871], [10.0], [10.0], [3.59247], [-10.0], [-10.0], [-10.0], [-10.0], [-10.0], [-10.0]]</td><td style = \"text-align: right;\">1283.45</td><td style = \"text-align: right;\">2.471</td><td style = \"text-align: left;\">LOCALLY_INFEASIBLE</td></tr><tr><td style = \"text-align: right;\">&vellip;</td><td style = \"text-align: right;\">&vellip;</td><td style = \"text-align: right;\">&vellip;</td><td style = \"text-align: right;\">&vellip;</td><td style = \"text-align: right;\">&vellip;</td><td style = \"text-align: right;\">&vellip;</td><td style = \"text-align: right;\">&vellip;</td></tr><tr><td class = \"rowNumber\" style = \"font-weight: bold; text-align: right;\">39</td><td style = \"text-align: left;\">[0.908702, 5.2901]</td><td style = \"text-align: left;\">[[0.908702, 3.36895, 5.2167e-14, -4.11124e-13], [0.896849, 3.3513, -0.474573, -0.710441], [0.861153, 3.29704, -0.954575, -1.47267], [0.801226, 3.20233, -1.44434, -2.33645], [0.716544, 3.06103, -1.94416, -3.34085], [0.606803, 2.86575, -2.44351, -4.49207], [0.472693, 2.61027, -2.91193, -5.73364], [0.316958, 2.29277, -3.29961, -6.95324], [0.165683, 1.94054, -2.74516, -7.21494], [0.0440756, 1.56367, -2.10651, -7.94551]  …  [-0.638569, 1.08047, 0.381734, 8.84741], [-0.60124, 1.48738, 1.0934, 7.5121], [-0.530842, 1.83965, 1.70951, 6.65401], [-0.431259, 2.15995, 2.26728, 6.22837], [-0.313006, 2.4587, 2.4556, 5.75849], [-0.201164, 2.71481, 2.00669, 4.48245], [-0.113088, 2.90742, 1.51208, 3.23326], [-0.0501441, 3.03969, 1.00532, 2.07466], [-0.01251, 3.11647, 0.50078, 1.00969], [2.45017e-14, 3.14159, -1.01386e-13, 2.68912e-13]]</td><td style = \"text-align: left;\">[[-10.0], [-10.0], [-10.0], [-10.0], [-10.0], [-10.0], [-10.0], [9.3311], [10.0], [10.0]  …  [10.0], [10.0], [10.0], [10.0], [2.50697], [-10.0], [-10.0], [-10.0], [-10.0], [-10.0]]</td><td style = \"text-align: right;\">1256.79</td><td style = \"text-align: right;\">2.015</td><td style = \"text-align: left;\">LOCALLY_INFEASIBLE</td></tr><tr><td class = \"rowNumber\" style = \"font-weight: bold; text-align: right;\">40</td><td style = \"text-align: left;\">[-0.407796, 5.37669]</td><td style = \"text-align: left;\">[[-0.407796, 3.35055, 1.33064e-13, -4.14418e-13], [-0.419708, 3.33225, -0.476941, -0.73665], [-0.455583, 3.276, -0.959373, -1.52625], [-0.515809, 3.1779, -1.45144, -2.41886], [-0.600885, 3.03176, -1.95255, -3.45147], [-0.711021, 2.83037, -2.45016, -4.62417], [-0.845303, 2.56805, -2.91104, -5.87215], [-0.984699, 2.2688, -2.65978, -6.14337], [-1.10419, 1.95646, -2.11537, -6.42076], [-1.1955, 1.61971, -1.52645, -7.12095]  …  [-0.737839, 0.923833, 0.86911, 9.98972], [-0.674263, 1.38294, 1.65574, 8.46766], [-0.574121, 1.78005, 2.33411, 7.50678], [-0.445188, 2.14016, 2.81291, 6.96499], [-0.313006, 2.4587, 2.4556, 5.75849], [-0.201164, 2.71481, 2.00669, 4.48245], [-0.113088, 2.90742, 1.51208, 3.23326], [-0.0501441, 3.03969, 1.00532, 2.07466], [-0.01251, 3.11647, 0.50078, 1.00969], [-6.27969e-14, 3.14159, -7.01031e-15, 1.99795e-13]]</td><td style = \"text-align: left;\">[[-10.0], [-10.0], [-10.0], [-10.0], [-10.0], [-10.0], [4.06179], [10.0], [10.0], [10.0]  …  [5.26981], [10.0], [10.0], [7.10064], [-10.0], [-10.0], [-10.0], [-10.0], [-10.0], [-10.0]]</td><td style = \"text-align: right;\">1279.85</td><td style = \"text-align: right;\">1.709</td><td style = \"text-align: left;\">LOCALLY_INFEASIBLE</td></tr><tr><td class = \"rowNumber\" style = \"font-weight: bold; text-align: right;\">41</td><td style = \"text-align: left;\">[0.831286, 4.75785]</td><td style = \"text-align: left;\">[[0.831286, 3.37036, 4.76302e-14, -4.10761e-13], [0.819438, 3.35275, -0.47439, -0.708423], [0.783756, 3.29865, -0.954205, -1.46854], [0.723852, 3.2042, -1.44379, -2.33009], [0.639201, 3.06328, -1.9435, -3.33226], [0.529492, 2.86848, -2.44296, -4.48174], [0.395398, 2.61353, -2.91193, -5.72271], [0.239638, 2.29657, -3.30069, -6.94301], [0.0860582, 1.9424, -2.83461, -7.29248], [-0.0399074, 1.56173, -2.19123, -8.0214]  …  [-0.673979, 1.02058, 0.541406, 9.27337], [-0.627957, 1.44693, 1.28109, 7.86799], [-0.547584, 1.8159, 1.91971, 6.97108], [-0.437051, 2.1517, 2.49432, 6.53623], [-0.313006, 2.4587, 2.4556, 5.75849], [-0.201164, 2.71481, 2.00669, 4.48245], [-0.113088, 2.90742, 1.51208, 3.23326], [-0.0501441, 3.03969, 1.00532, 2.07466], [-0.01251, 3.11647, 0.50078, 1.00969], [3.76865e-14, 3.14159, -1.23416e-13, 3.18447e-13]]</td><td style = \"text-align: left;\">[[-10.0], [-10.0], [-10.0], [-10.0], [-10.0], [-10.0], [-10.0], [7.26566], [10.0], [10.0]  …  [10.0], [10.0], [10.0], [10.0], [-2.68971], [-10.0], [-10.0], [-10.0], [-10.0], [-10.0]]</td><td style = \"text-align: right;\">1278.73</td><td style = \"text-align: right;\">2.375</td><td style = \"text-align: left;\">LOCALLY_INFEASIBLE</td></tr><tr><td class = \"rowNumber\" style = \"font-weight: bold; text-align: right;\">42</td><td style = \"text-align: left;\">[0.177793, 2.30907]</td><td style = \"text-align: left;\">[[0.177793, 2.30907, 0.0, 0.0], [0.171768, 2.28279, -0.240151, -1.05144], [0.160516, 2.21229, -0.208525, -1.77456], [0.156444, 2.11074, 0.0469709, -2.30246], [0.169304, 1.98417, 0.469075, -2.78423], [0.203594, 1.82978, 0.905981, -3.41889], [0.260374, 1.63933, 1.37146, -4.23129], [0.341545, 1.40309, 1.88541, -5.25781], [0.445197, 1.11168, 2.27266, -6.42685], [0.560434, 0.768008, 2.33886, -7.29508]  …  [-0.224778, 2.12166, -0.828754, 2.9249], [-0.2555, 2.25971, -0.400571, 2.62569], [-0.264817, 2.38707, 0.0286226, 2.49722], [-0.252517, 2.51233, 0.465012, 2.54327], [-0.218272, 2.64425, 0.907202, 2.76598], [-0.166195, 2.78395, 1.17759, 2.85101], [-0.10602, 2.92146, 1.23032, 2.67352], [-0.0501441, 3.03969, 1.00532, 2.07466], [-0.01251, 3.11647, 0.50078, 1.00969], [0.0, 3.14159, 0.0, 1.78741e-31]]</td><td style = \"text-align: left;\">[[-4.38973], [1.50887], [6.37546], [10.0], [10.0], [10.0], [10.0], [5.3534], [-3.20977], [-10.0]  …  [10.0], [10.0], [10.0], [10.0], [9.86308], [6.00997], [1.38871], [-4.30985], [-10.0], [-10.0]]</td><td style = \"text-align: right;\">655.91</td><td style = \"text-align: right;\">0.954</td><td style = \"text-align: left;\">LOCALLY_SOLVED</td></tr><tr><td class = \"rowNumber\" style = \"font-weight: bold; text-align: right;\">43</td><td style = \"text-align: left;\">[0.544371, 5.54118]</td><td style = \"text-align: left;\">[[0.544371, 3.37308, 1.27898e-13, -4.12496e-13], [0.532532, 3.35558, -0.474037, -0.704516], [0.496877, 3.30177, -0.953486, -1.46054], [0.437018, 3.20783, -1.44272, -2.31774], [0.352427, 3.06763, -1.94221, -3.3156], [0.24278, 2.87375, -2.44187, -4.46166], [0.108718, 2.61986, -2.9119, -5.70141], [-0.0470889, 2.30393, -3.30275, -6.92304], [-0.197861, 1.95441, -2.7227, -7.13956], [-0.318497, 1.58178, -2.09055, -7.84979]  …  [-0.698005, 0.979849, 0.649193, 9.56427], [-0.646114, 1.41947, 1.40799, 8.11037], [-0.558982, 1.79978, 2.06245, 7.18608], [-0.441, 2.14609, 2.649, 6.74487], [-0.313006, 2.4587, 2.4556, 5.75849], [-0.201164, 2.71481, 2.00669, 4.48245], [-0.113088, 2.90742, 1.51208, 3.23326], [-0.0501441, 3.03969, 1.00532, 2.07466], [-0.01251, 3.11647, 0.50078, 1.00969], [-2.80285e-14, 3.14159, -7.14232e-14, 2.54318e-13]]</td><td style = \"text-align: left;\">[[-10.0], [-10.0], [-10.0], [-10.0], [-10.0], [-10.0], [-10.0], [10.0], [10.0], [10.0]  …  [10.0], [10.0], [10.0], [10.0], [-6.2362], [-10.0], [-10.0], [-10.0], [-10.0], [-10.0]]</td><td style = \"text-align: right;\">1298.47</td><td style = \"text-align: right;\">2.39</td><td style = \"text-align: left;\">LOCALLY_INFEASIBLE</td></tr><tr><td class = \"rowNumber\" style = \"font-weight: bold; text-align: right;\">44</td><td style = \"text-align: left;\">[0.319952, 5.15338]</td><td style = \"text-align: left;\">[[0.319952, 3.36982, 1.30048e-13, -4.12845e-13], [0.308102, 3.3522, -0.47446, -0.709189], [0.272415, 3.29804, -0.954345, -1.47011], [0.212502, 3.20349, -1.444, -2.3325], [0.12784, 3.06242, -1.94375, -3.33553], [0.0181182, 2.86744, -2.44317, -4.48566], [-0.115982, 2.61229, -2.91193, -5.72687], [-0.269722, 2.29838, -3.2217, -6.82475], [-0.416553, 1.95349, -2.64621, -7.05083], [-0.533496, 1.58525, -2.01949, -7.76137]  …  [-0.723382, 0.93674, 0.762677, 9.87304], [-0.665318, 1.39045, 1.54164, 8.36725], [-0.571054, 1.78275, 2.21331, 7.41306], [-0.445188, 2.14016, 2.81291, 6.96499], [-0.313006, 2.4587, 2.4556, 5.75849], [-0.201164, 2.71481, 2.00669, 4.48245], [-0.113088, 2.90742, 1.51208, 3.23326], [-0.0501441, 3.03969, 1.00532, 2.07466], [-0.01251, 3.11647, 0.50078, 1.00969], [-3.21846e-14, 3.14159, -6.52186e-14, 2.75554e-13]]</td><td style = \"text-align: left;\">[[-10.0], [-10.0], [-10.0], [-10.0], [-10.0], [-10.0], [-8.24271], [10.0], [10.0], [10.0]  …  [5.40135], [10.0], [10.0], [10.0], [-10.0], [-10.0], [-10.0], [-10.0], [-10.0], [-10.0]]</td><td style = \"text-align: right;\">1305.43</td><td style = \"text-align: right;\">1.884</td><td style = \"text-align: left;\">LOCALLY_INFEASIBLE</td></tr><tr><td class = \"rowNumber\" style = \"font-weight: bold; text-align: right;\">45</td><td style = \"text-align: left;\">[0.875663, 1.72436]</td><td style = \"text-align: left;\">[[0.875663, 1.72436, 0.0, 0.0], [0.879062, 1.70112, 0.136838, -0.93082], [0.89124, 1.63139, 0.352938, -1.86411], [0.915636, 1.51401, 0.627691, -2.84181], [0.954125, 1.346, 0.919131, -3.89292], [1.00603, 1.12444, 1.16586, -4.98065], [1.06722, 0.851364, 1.28723, -5.93287], [1.12956, 0.541016, 1.20053, -6.42762], [1.18216, 0.222828, 0.887335, -6.20997], [1.21602, -0.0698309, 0.453053, -5.41796]  …  [-0.200339, 2.28641, -0.647644, 2.36234], [-0.222085, 2.40123, -0.221335, 2.25623], [-0.223315, 2.51319, 0.173447, 2.24795], [-0.206575, 2.62532, 0.497543, 2.26155], [-0.175606, 2.73792, 0.742608, 2.2653], [-0.13471, 2.84943, 0.894448, 2.2166], [-0.0891086, 2.95575, 0.930659, 2.05548], [-0.0454374, 3.04913, 0.817126, 1.6961], [-0.01251, 3.11647, 0.50078, 1.00969], [0.0, 3.14159, 0.0, 0.0]]</td><td style = \"text-align: left;\">[[3.52603], [5.17023], [6.04577], [5.58168], [3.3571], [-0.606068], [-5.28153], [-8.61022], [-9.11901], [-7.37729]  …  [10.0], [10.0], [9.16891], [7.48176], [5.64872], [3.56526], [1.07421], [-2.06232], [-6.23336], [-10.0]]</td><td style = \"text-align: right;\">571.845</td><td style = \"text-align: right;\">0.726</td><td style = \"text-align: left;\">LOCALLY_SOLVED</td></tr><tr><td class = \"rowNumber\" style = \"font-weight: bold; text-align: right;\">46</td><td style = \"text-align: left;\">[0.566946, 4.02797]</td><td style = \"text-align: left;\">[[0.566946, 3.37333, 1.09343e-13, -4.1259e-13], [0.555108, 3.35584, -0.474005, -0.704157], [0.519455, 3.30206, -0.95342, -1.45981], [0.4596, 3.20816, -1.44262, -2.31661], [0.375015, 3.06803, -1.94209, -3.31407], [0.265374, 2.87424, -2.44177, -4.45981], [0.131315, 2.62044, -2.9119, -5.69945], [-0.0244965, 2.30461, -3.30294, -6.9212], [-0.175281, 1.9552, -2.72305, -7.13679], [-0.295942, 1.58274, -2.09117, -7.84589]  …  [-0.694511, 0.985777, 0.633542, 9.52188], [-0.643473, 1.42346, 1.38956, 8.07508], [-0.557323, 1.80212, 2.04169, 7.15482], [-0.440425, 2.14691, 2.62647, 6.71454], [-0.313006, 2.4587, 2.4556, 5.75849], [-0.201164, 2.71481, 2.00669, 4.48245], [-0.113088, 2.90742, 1.51208, 3.23326], [-0.0501441, 3.03969, 1.00532, 2.07466], [-0.01251, 3.11647, 0.50078, 1.00969], [-1.51693e-14, 3.14159, -7.88043e-14, 2.58135e-13]]</td><td style = \"text-align: left;\">[[-10.0], [-10.0], [-10.0], [-10.0], [-10.0], [-10.0], [-10.0], [10.0], [10.0], [10.0]  …  [10.0], [10.0], [10.0], [10.0], [-5.71947], [-10.0], [-10.0], [-10.0], [-10.0], [-10.0]]</td><td style = \"text-align: right;\">1293.47</td><td style = \"text-align: right;\">1.962</td><td style = \"text-align: left;\">LOCALLY_INFEASIBLE</td></tr><tr><td class = \"rowNumber\" style = \"font-weight: bold; text-align: right;\">47</td><td style = \"text-align: left;\">[-0.40815, 5.92406]</td><td style = \"text-align: left;\">[[-0.40815, 5.92406, 1.08559e-13, -5.66202e-13], [-0.404145, 3.07981, 0.165169, 0.747039], [-0.408509, 3.09064, -0.339603, -0.31208], [-0.438124, 3.04832, -0.845428, -1.38763], [-0.493101, 2.95076, -1.35386, -2.52872], [-0.57345, 2.79396, -1.85797, -3.7569], [-0.678453, 2.5741, -2.33453, -5.04103], [-0.805767, 2.29033, -2.7428, -6.29706], [-0.929267, 1.97115, -2.19281, -6.54266], [-1.02432, 1.62883, -1.59857, -7.22426]  …  [-0.723382, 0.93674, 0.762677, 9.87304], [-0.665318, 1.39045, 1.54164, 8.36725], [-0.571054, 1.78275, 2.21331, 7.41306], [-0.445188, 2.14016, 2.81291, 6.96499], [-0.313006, 2.4587, 2.4556, 5.75849], [-0.201164, 2.71481, 2.00669, 4.48245], [-0.113088, 2.90742, 1.51208, 3.23326], [-0.0501441, 3.03969, 1.00532, 2.07466], [-0.01251, 3.11647, 0.50078, 1.00969], [-2.70979e-14, 3.14159, -5.40947e-14, 2.5498e-13]]</td><td style = \"text-align: left;\">[[3.60573], [-10.0], [-10.0], [-10.0], [-10.0], [-10.0], [-10.0], [10.0], [10.0], [10.0]  …  [6.02723], [10.0], [10.0], [10.0], [-10.0], [-10.0], [-10.0], [-10.0], [-10.0], [-10.0]]</td><td style = \"text-align: right;\">1257.91</td><td style = \"text-align: right;\">2.306</td><td style = \"text-align: left;\">LOCALLY_INFEASIBLE</td></tr><tr><td class = \"rowNumber\" style = \"font-weight: bold; text-align: right;\">48</td><td style = \"text-align: left;\">[-0.671802, 5.22096]</td><td style = \"text-align: left;\">[[-0.671802, 3.34247, 1.30065e-13, -4.15353e-13], [-0.68374, 3.32388, -0.477973, -0.748073], [-0.719692, 3.26677, -0.961452, -1.54957], [-0.780047, 3.16719, -1.45448, -2.45459], [-0.865291, 3.01896, -1.95606, -3.49913], [-0.975587, 2.81495, -2.45274, -4.6805], [-1.10992, 2.54973, -2.91014, -5.93048], [-1.24613, 2.25191, -2.5353, -6.03892], [-1.35949, 1.94414, -1.99449, -6.34072], [-1.44484, 1.61098, -1.40873, -7.05644]  …  [-0.765705, 0.899055, 1.07425, 10.2139], [-0.69151, 1.36854, 1.87561, 8.66029], [-0.580035, 1.77487, 2.56703, 7.68629], [-0.445188, 2.14016, 2.81291, 6.96499], [-0.313006, 2.4587, 2.4556, 5.75849], [-0.201164, 2.71481, 2.00669, 4.48245], [-0.113088, 2.90742, 1.51208, 3.23326], [-0.0501441, 3.03969, 1.00532, 2.07466], [-0.01251, 3.11647, 0.50078, 1.00969], [-5.94212e-14, 3.14159, -1.07818e-14, 2.11641e-13]]</td><td style = \"text-align: left;\">[[-10.0], [-10.0], [-10.0], [-10.0], [-10.0], [-10.0], [6.75769], [10.0], [10.0], [10.0]  …  [1.6409], [10.0], [10.0], [1.50707], [-10.0], [-10.0], [-10.0], [-10.0], [-10.0], [-10.0]]</td><td style = \"text-align: right;\">1287.37</td><td style = \"text-align: right;\">1.725</td><td style = \"text-align: left;\">LOCALLY_INFEASIBLE</td></tr><tr><td class = \"rowNumber\" style = \"font-weight: bold; text-align: right;\">49</td><td style = \"text-align: left;\">[0.419749, 2.634]</td><td style = \"text-align: left;\">[[0.419749, 2.634, 0.0, 0.0], [0.406843, 2.59947, -0.515275, -1.38141], [0.369684, 2.49798, -0.967713, -2.67793], [0.322807, 2.3508, -0.905571, -3.22685], [0.288578, 2.18578, -0.463735, -3.40994], [0.276513, 2.00622, -0.0169856, -3.80839], [0.287201, 1.80128, 0.449259, -4.42748], [0.322096, 1.55947, 0.955201, -5.28792], [0.383814, 1.26779, 1.52677, -6.43084], [0.47135, 0.914801, 1.9868, -7.72076]  …  [-0.267316, 1.9603, -0.78203, 3.70251], [-0.295273, 2.13301, -0.338628, 3.23935], [-0.301307, 2.28752, 0.0969301, 2.97368], [-0.285541, 2.43366, 0.534753, 2.9055], [-0.247665, 2.58153, 0.982463, 3.04509], [-0.187027, 2.74197, 1.44612, 3.41265], [-0.113088, 2.90742, 1.51208, 3.23326], [-0.0501441, 3.03969, 1.00532, 2.07466], [-0.01251, 3.11647, 0.50078, 1.00969], [0.0, 3.14159, 0.0, 2.76773e-31]]</td><td style = \"text-align: left;\">[[-10.0], [-8.94087], [1.74584], [10.0], [10.0], [10.0], [10.0], [10.0], [5.46036], [-8.3363]  …  [10.0], [10.0], [10.0], [10.0], [10.0], [10.0], [1.5805], [-10.0], [-10.0], [-10.0]]</td><td style = \"text-align: right;\">744.046</td><td style = \"text-align: right;\">0.865</td><td style = \"text-align: left;\">LOCALLY_SOLVED</td></tr><tr><td class = \"rowNumber\" style = \"font-weight: bold; text-align: right;\">50</td><td style = \"text-align: left;\">[-0.802727, 2.30709]</td><td style = \"text-align: left;\">[[-0.802727, 2.30709, 0.0, 0.0], [-0.804516, 2.28647, -0.0711004, -0.826149], [-0.804465, 2.23105, 0.0738346, -1.39789], [-0.792708, 2.15098, 0.396972, -1.81856], [-0.762544, 2.04988, 0.810472, -2.24508], [-0.711519, 1.92437, 1.23265, -2.79801], [-0.63898, 1.76761, 1.67302, -3.49941], [-0.54367, 1.57148, 2.14646, -4.37844], [-0.423523, 1.32614, 2.67043, -5.47537], [-0.282266, 1.0241, 2.9907, -6.62506]  …  [-0.259546, 2.04382, -0.677948, 3.40494], [-0.282488, 2.20392, -0.241087, 3.03133], [-0.283698, 2.35014, 0.193013, 2.84959], [-0.263091, 2.49213, 0.632829, 2.8635], [-0.222316, 2.63649, 0.999986, 2.94311], [-0.167053, 2.78228, 1.21181, 2.9171], [-0.106019, 2.92146, 1.23028, 2.67343], [-0.0501441, 3.03969, 1.00532, 2.07466], [-0.01251, 3.11647, 0.50078, 1.00969], [0.0, 3.14159, 0.0, 5.42751e-32]]</td><td style = \"text-align: left;\">[[-0.622304], [4.10901], [8.03439], [10.0], [10.0], [10.0], [10.0], [9.91682], [3.45101], [-5.54019]  …  [10.0], [10.0], [10.0], [10.0], [8.22166], [4.77333], [0.686977], [-4.30893], [-10.0], [-10.0]]</td><td style = \"text-align: right;\">652.392</td><td style = \"text-align: right;\">0.704</td><td style = \"text-align: left;\">LOCALLY_SOLVED</td></tr></tbody></table></div>"
      ],
      "text/latex": [
       "\\begin{tabular}{r|ccc}\n",
       "\t& params & X & \\\\\n",
       "\t\\hline\n",
       "\t& Array… & Array… & \\\\\n",
       "\t\\hline\n",
       "\t1 & [0.536895, 5.90943] & [[0.536895, 3.37297, 1.29781e-13, -4.126e-13], [0.525056, 3.35546, -0.474051, -0.704672], [0.489399, 3.30165, -0.953515, -1.46086], [0.429539, 3.20769, -1.44276, -2.31824], [0.344945, 3.06746, -1.94226, -3.31627], [0.235296, 2.87354, -2.44192, -4.46246], [0.101232, 2.6196, -2.9119, -5.70227], [-0.0545727, 2.30364, -3.30267, -6.92384], [-0.205339, 1.95407, -2.72254, -7.14077], [-0.325965, 1.58137, -2.09028, -7.85149]  …  [-0.698828, 0.978451, 0.652881, 9.57426], [-0.646737, 1.41853, 1.41233, 8.11869], [-0.559374, 1.79922, 2.06735, 7.19345], [-0.441136, 2.1459, 2.65431, 6.75201], [-0.313006, 2.4587, 2.4556, 5.75849], [-0.201164, 2.71481, 2.00669, 4.48245], [-0.113088, 2.90742, 1.51208, 3.23326], [-0.0501441, 3.03969, 1.00532, 2.07466], [-0.01251, 3.11647, 0.50078, 1.00969], [-3.01424e-14, 3.14159, -6.90501e-14, 2.50241e-13]] & $\\dots$ \\\\\n",
       "\t2 & [0.347917, 2.48471] & [[0.347917, 2.48471, 0.0, 0.0], [0.335215, 2.44959, -0.506704, -1.40327], [0.306937, 2.35885, -0.622486, -2.23211], [0.28188, 2.23756, -0.379024, -2.63915], [0.273618, 2.09811, 0.0492363, -2.967], [0.286951, 1.93793, 0.486512, -3.47057], [0.322633, 1.74788, 0.945845, -4.16512], [0.382213, 1.51779, 1.44607, -5.07816], [0.468331, 1.23569, 2.01171, -6.25406], [0.577193, 0.893763, 2.3526, -7.43912]  …  [-0.229905, 2.08268, -0.86037, 3.07803], [-0.262148, 2.2273, -0.430171, 2.73624], [-0.272935, 2.35921, -0.000830958, 2.56917], [-0.26213, 2.48716, 0.434506, 2.57904], [-0.229292, 2.62025, 0.881373, 2.7776], [-0.175196, 2.76577, 1.28503, 3.07795], [-0.109182, 2.91517, 1.35642, 2.92416], [-0.0501441, 3.03969, 1.00532, 2.07466], [-0.01251, 3.11647, 0.50078, 1.00969], [0.0, 3.14159, 0.0, 6.9533e-31]] & $\\dots$ \\\\\n",
       "\t3 & [-0.373512, 4.16295] & [[-0.373512, 3.35163, 1.33444e-13, -4.14319e-13], [-0.38542, 3.33336, -0.476804, -0.735123], [-0.421285, 3.27723, -0.959094, -1.52314], [-0.481493, 3.17933, -1.45103, -2.41408], [-0.566547, 3.03347, -1.95207, -3.44508], [-0.676661, 2.83243, -2.4498, -4.61658], [-0.810935, 2.5705, -2.91114, -5.86426], [-0.950872, 2.27088, -2.68094, -6.16458], [-1.0714, 1.95755, -2.13569, -6.43884], [-1.1637, 1.61995, -1.54587, -7.13774]  …  [-0.735627, 0.925806, 0.852823, 9.97188], [-0.672894, 1.38409, 1.63828, 8.45231], [-0.573651, 1.78047, 2.31562, 7.49246], [-0.445188, 2.14016, 2.81291, 6.96499], [-0.313006, 2.4587, 2.4556, 5.75849], [-0.201164, 2.71481, 2.00669, 4.48245], [-0.113088, 2.90742, 1.51208, 3.23326], [-0.0501441, 3.03969, 1.00532, 2.07466], [-0.01251, 3.11647, 0.50078, 1.00969], [-6.29864e-14, 3.14159, -7.00678e-15, 2.00705e-13]] & $\\dots$ \\\\\n",
       "\t4 & [0.172044, 0.327562] & [[0.172044, 0.327562, 0.0, 6.18897e-29], [0.178888, 0.306778, 0.273761, -0.828773], [0.198008, 0.247916, 0.490764, -1.51705], [0.22705, 0.15792, 0.669845, -2.0674], [0.264389, 0.0439419, 0.821693, -2.46974], [0.30878, -0.0861919, 0.951041, -2.70847], [0.359099, -0.223878, 1.05856, -2.76974], [0.4142, -0.360019, 1.14281, -2.64844], [0.472852, -0.485606, 1.20169, -2.35242], [0.533721, -0.59234, 1.23265, -1.90064]  …  [-0.112594, 2.79031, 0.20602, 1.49437], [-0.100484, 2.86058, 0.279182, 1.32917], [-0.085486, 2.92275, 0.321492, 1.16921], [-0.0690205, 2.9771, 0.337849, 1.0151], [-0.052291, 3.02391, 0.331997, 0.866185], [-0.0363451, 3.06338, 0.306423, 0.719954], [-0.0221416, 3.09551, 0.262211, 0.571379], [-0.0106267, 3.11997, 0.19877, 0.41202], [-0.00283078, 3.13591, 0.113324, 0.228501], [0.0, 3.14159, 0.0, 8.44884e-27]] & $\\dots$ \\\\\n",
       "\t5 & [-0.462721, 0.684055] & [[-0.462721, 0.684055, 0.0, 0.0], [-0.452359, 0.652528, 0.415494, -1.26139], [-0.424602, 0.56376, 0.696494, -2.28491], [-0.385584, 0.430018, 0.864556, -3.04971], [-0.34051, 0.265081, 0.936123, -3.51946], [-0.29358, 0.0838721, 0.936568, -3.69095], [-0.247495, -0.0997364, 0.901815, -3.61346], [-0.203162, -0.275033, 0.867512, -3.36276], [-0.159975, -0.434878, 0.85745, -3.0021], [-0.116497, -0.574666, 0.88059, -2.56701]  …  [-0.162421, 2.62983, 0.242128, 2.09125], [-0.147052, 2.72891, 0.373368, 1.88967], [-0.12635, 2.81802, 0.455499, 1.69079], [-0.102634, 2.8972, 0.493937, 1.4906], [-0.077962, 2.96632, 0.493769, 1.2868], [-0.054159, 3.02513, 0.459122, 1.07653], [-0.0328795, 3.07318, 0.392735, 0.854689], [-0.015686, 3.10968, 0.295557, 0.612383], [-0.00415149, 3.13326, 0.166195, 0.335106], [0.0, 3.14159, 0.0, 4.97173e-28]] & $\\dots$ \\\\\n",
       "\t6 & [-0.672668, 2.97205] & [[-0.672668, 2.97205, 0.0, 0.0], [-0.685505, 2.94251, -0.513505, -1.1855], [-0.72401, 2.85278, -1.02611, -2.41327], [-0.787959, 2.70019, -1.52865, -3.69829], [-0.861835, 2.50792, -1.4254, -4.02153], [-0.921494, 2.3088, -0.962381, -3.99008], [-0.958109, 2.10439, -0.501302, -4.2302], [-0.971389, 1.88142, -0.0258792, -4.73267], [-0.960098, 1.62661, 0.485729, -5.50696], [-0.921753, 1.32563, 1.06123, -6.58746]  …  [-0.465189, 1.45496, -0.207558, 6.51885], [-0.461144, 1.75604, 0.35757, 5.58221], [-0.430342, 2.01858, 0.86791, 4.971], [-0.374786, 2.25823, 1.35197, 4.66627], [-0.295211, 2.49044, 1.83183, 4.67616], [-0.20018, 2.7167, 1.96774, 4.40835], [-0.113088, 2.90742, 1.51208, 3.23326], [-0.0501441, 3.03969, 1.00532, 2.07466], [-0.01251, 3.11647, 0.50078, 1.00969], [0.0, 3.14159, 0.0, 6.4826e-32]] & $\\dots$ \\\\\n",
       "\t7 & [0.730824, 3.87982] & [[0.730824, 3.37203, 5.07035e-14, -4.10411e-13], [0.718981, 3.35449, -0.474173, -0.706021], [0.683316, 3.30057, -0.953763, -1.46363], [0.62344, 3.20643, -1.44313, -2.3225], [0.538826, 3.06595, -1.94271, -3.32203], [0.429155, 2.87172, -2.4423, -4.46941], [0.29508, 2.61742, -2.91192, -5.70964], [0.139291, 2.30109, -3.30196, -6.93076], [-0.0127792, 1.94952, -2.77431, -7.20801], [-0.135879, 1.57331, -2.13722, -7.92587]  …  [-0.678329, 1.01321, 0.560952, 9.32593], [-0.631243, 1.44196, 1.30409, 7.91182], [-0.549646, 1.81298, 1.94555, 7.01002], [-0.437765, 2.15069, 2.52229, 6.57402], [-0.313006, 2.4587, 2.4556, 5.75849], [-0.201164, 2.71481, 2.00669, 4.48245], [-0.113088, 2.90742, 1.51208, 3.23326], [-0.0501441, 3.03969, 1.00532, 2.07466], [-0.01251, 3.11647, 0.50078, 1.00969], [2.92291e-14, 3.14159, -1.09442e-13, 2.87828e-13]] & $\\dots$ \\\\\n",
       "\t8 & [-0.428604, 2.91444] & [[-0.428604, 2.91444, 0.0, 0.0], [-0.441509, 2.88368, -0.516086, -1.23387], [-0.48017, 2.79044, -1.0292, -2.50326], [-0.54231, 2.6361, -1.45288, -3.67793], [-0.61054, 2.44646, -1.27572, -3.93829], [-0.662808, 2.24933, -0.815818, -3.99222], [-0.692088, 2.04285, -0.353674, -4.31042], [-0.697851, 1.81397, 0.128231, -4.8888], [-0.678551, 1.54938, 0.653238, -5.74348], [-0.631331, 1.23433, 1.24991, -6.91588]  …  [-0.425319, 1.55692, -0.313147, 5.94607], [-0.427398, 1.83199, 0.220316, 5.10829], [-0.404012, 2.07265, 0.710079, 4.5656], [-0.3567, 2.29324, 1.18097, 4.30562], [-0.285913, 2.50808, 1.65175, 4.33811], [-0.19779, 2.72128, 1.87305, 4.22806], [-0.113088, 2.90742, 1.51208, 3.23326], [-0.0501441, 3.03969, 1.00532, 2.07466], [-0.01251, 3.11647, 0.50078, 1.00969], [0.0, 3.14159, 0.0, -2.8671e-28]] & $\\dots$ \\\\\n",
       "\t9 & [-0.448362, 2.80587] & [[-0.448362, 2.80587, 0.0, 0.0], [-0.461333, 2.77322, -0.518374, -1.30828], [-0.500087, 2.67467, -1.0296, -2.63761], [-0.555681, 2.52357, -1.19169, -3.41895], [-0.605527, 2.35251, -0.803261, -3.4608], [-0.63451, 2.1759, -0.35608, -3.64237], [-0.641032, 1.98445, 0.0974532, -4.05409], [-0.62439, 1.76659, 0.573708, -4.70072], [-0.582916, 1.5101, 1.09491, -5.60494], [-0.513692, 1.20106, 1.68835, -6.81147]  …  [-0.373127, 1.68927, -0.460653, 5.20629], [-0.383554, 1.93061, 0.0365474, 4.49241], [-0.369971, 2.14282, 0.50357, 4.03825], [-0.333367, 2.33865, 0.960205, 3.83774], [-0.273876, 2.53099, 1.4211, 3.90145], [-0.19466, 2.72729, 1.74901, 3.99159], [-0.113088, 2.90742, 1.51208, 3.23326], [-0.0501441, 3.03969, 1.00532, 2.07466], [-0.01251, 3.11647, 0.50078, 1.00969], [0.0, 3.14159, 0.0, -1.79042e-31]] & $\\dots$ \\\\\n",
       "\t10 & [0.164636, 1.60838] & [[0.164636, 1.60838, 0.0, 0.0], [0.172353, 1.58439, 0.309672, -0.962244], [0.196008, 1.51164, 0.639523, -1.95537], [0.236153, 1.38789, 0.971739, -3.00703], [0.291932, 1.21032, 1.26714, -4.10904], [0.360105, 0.978578, 1.46731, -5.16399], [0.434307, 0.700312, 1.5019, -5.94002], [0.50521, 0.396428, 1.32416, -6.14657], [0.563107, 0.0978747, 0.97659, -5.71101], [0.602466, -0.168909, 0.587736, -4.89821]  …  [-0.215, 2.30521, -0.331634, 2.6308], [-0.222698, 2.43173, 0.0241919, 2.45608], [-0.214049, 2.55098, 0.322628, 2.33798], [-0.192032, 2.66504, 0.559076, 2.2467], [-0.159872, 2.77455, 0.72839, 2.15452], [-0.121129, 2.87868, 0.822378, 2.02994], [-0.0799123, 2.97478, 0.827286, 1.83126], [-0.0412407, 3.05764, 0.720505, 1.49812], [-0.0116195, 3.11826, 0.465134, 0.937827], [0.0, 3.14159, 0.0, 9.30889e-28]] & $\\dots$ \\\\\n",
       "\t11 & [0.411721, 1.83455] & [[0.411721, 1.83455, 0.0, 0.0], [0.415702, 1.8129, 0.159976, -0.867706], [0.429952, 1.74838, 0.412175, -1.71962], [0.458532, 1.64045, 0.734922, -2.61069], [0.503966, 1.48578, 1.08878, -3.59422], [0.566393, 1.27944, 1.41727, -4.6786], [0.642688, 1.01872, 1.64336, -5.75772], [0.725566, 0.710512, 1.67247, -6.54089], [0.803668, 0.378778, 1.43794, -6.64566], [0.865249, 0.059835, 1.0072, -6.01661]  …  [-0.21502, 2.25041, -0.580104, 2.58596], [-0.233345, 2.37542, -0.152227, 2.44221], [-0.231348, 2.49562, 0.233267, 2.39272], [-0.211871, 2.61412, 0.547104, 2.37251], [-0.178712, 2.7315, 0.780525, 2.34598], [-0.13623, 2.84634, 0.919909, 2.26915], [-0.0896535, 2.95465, 0.94419, 2.08294], [-0.0455405, 3.04892, 0.821249, 1.70439], [-0.01251, 3.11647, 0.50078, 1.00969], [0.0, 3.14159, 0.0, 0.0]] & $\\dots$ \\\\\n",
       "\t12 & [-0.437868, 4.98213] & [[-0.437868, 3.34961, 1.32732e-13, -4.14506e-13], [-0.449783, 3.33127, -0.477062, -0.737985], [-0.485667, 3.27493, -0.959616, -1.52898], [-0.545908, 3.17665, -1.45179, -2.42304], [-0.631004, 3.03027, -1.95297, -3.45706], [-0.741159, 2.82857, -2.45047, -4.63079], [-0.875448, 2.5659, -2.91095, -5.87903], [-1.01437, 2.26699, -2.64123, -6.12484], [-1.13295, 1.9555, -2.09755, -6.40495], [-1.22339, 1.61951, -1.50942, -7.10627]  …  [-0.739782, 0.922101, 0.883411, 10.0054], [-0.675466, 1.38194, 1.67107, 8.48112], [-0.574533, 1.77969, 2.35035, 7.51934], [-0.445188, 2.14016, 2.81291, 6.96499], [-0.313006, 2.4587, 2.4556, 5.75849], [-0.201164, 2.71481, 2.00669, 4.48245], [-0.113088, 2.90742, 1.51208, 3.23326], [-0.0501441, 3.03969, 1.00532, 2.07466], [-0.01251, 3.11647, 0.50078, 1.00969], [-6.26312e-14, 3.14159, -7.01236e-15, 1.98997e-13]] & $\\dots$ \\\\\n",
       "\t13 & [-0.58154, 5.769] & [[-0.58154, 3.34518, 1.31101e-13, -4.15027e-13], [-0.593469, 3.32669, -0.477628, -0.744249], [-0.629395, 3.26987, -0.960757, -1.54177], [-0.689707, 3.17078, -1.45346, -2.44264], [-0.774895, 3.02325, -1.9549, -3.48321], [-0.885138, 2.82011, -2.4519, -4.66173], [-1.01946, 2.55586, -2.91048, -5.91109], [-1.15668, 2.25766, -2.57486, -6.07014], [-1.27199, 1.94854, -2.03303, -6.36372], [-1.35924, 1.61437, -1.44646, -7.07386]  …  [-0.75532, 0.908274, 0.997799, 10.1305], [-0.685082, 1.3739, 1.79368, 8.58864], [-0.577831, 1.7768, 2.48022, 7.61957], [-0.445188, 2.14016, 2.81291, 6.96499], [-0.313006, 2.4587, 2.4556, 5.75849], [-0.201164, 2.71481, 2.00669, 4.48245], [-0.113088, 2.90742, 1.51208, 3.23326], [-0.0501441, 3.03969, 1.00532, 2.07466], [-0.01251, 3.11647, 0.50078, 1.00969], [-6.07239e-14, 3.14159, -9.20648e-15, 2.06282e-13]] & $\\dots$ \\\\\n",
       "\t14 & [0.22851, 5.04329] & [[0.22851, 3.36819, 1.31452e-13, -4.12931e-13], [0.216654, 3.35051, -0.474671, -0.711523], [0.180951, 3.29618, -0.954774, -1.47489], [0.121012, 3.20132, -1.44464, -2.33987], [0.0363133, 3.05982, -1.94452, -3.34545], [-0.0734447, 2.86429, -2.44381, -4.4976], [-0.207563, 2.60852, -2.91193, -5.73949], [-0.359408, 2.29699, -3.14747, -6.72372], [-0.502649, 1.95703, -2.57703, -6.95345], [-0.616287, 1.59376, -1.95674, -7.65806]  …  [-0.723382, 0.93674, 0.762677, 9.87304], [-0.665318, 1.39045, 1.54164, 8.36725], [-0.571054, 1.78275, 2.21331, 7.41306], [-0.445188, 2.14016, 2.81291, 6.96499], [-0.313006, 2.4587, 2.4556, 5.75849], [-0.201164, 2.71481, 2.00669, 4.48245], [-0.113088, 2.90742, 1.51208, 3.23326], [-0.0501441, 3.03969, 1.00532, 2.07466], [-0.01251, 3.11647, 0.50078, 1.00969], [-3.89884e-14, 3.14159, -5.29778e-14, 2.57658e-13]] & $\\dots$ \\\\\n",
       "\t15 & [0.111337, 5.91111] & [[0.111337, 3.36568, 1.32827e-13, -4.13089e-13], [0.0994733, 3.34791, -0.474996, -0.715117], [0.0637457, 3.2933, -0.955434, -1.48224], [0.0037649, 3.19798, -1.44562, -2.3512], [-0.0809884, 3.05582, -1.94569, -3.36072], [-0.190802, 2.85944, -2.44477, -4.51593], [-0.324948, 2.60272, -2.91189, -5.75884], [-0.474317, 2.29412, -3.05046, -6.59597], [-0.612857, 1.96035, -2.4862, -6.83179], [-0.722139, 1.60326, -1.8737, -7.53063]  …  [-0.723382, 0.93674, 0.762677, 9.87304], [-0.665318, 1.39045, 1.54164, 8.36725], [-0.571054, 1.78275, 2.21331, 7.41306], [-0.445188, 2.14016, 2.81291, 6.96499], [-0.313006, 2.4587, 2.4556, 5.75849], [-0.201164, 2.71481, 2.00669, 4.48245], [-0.113088, 2.90742, 1.51208, 3.23326], [-0.0501441, 3.03969, 1.00532, 2.07466], [-0.01251, 3.11647, 0.50078, 1.00969], [-4.66313e-14, 3.14159, -3.90484e-14, 2.37954e-13]] & $\\dots$ \\\\\n",
       "\t16 & [-0.0400003, 4.96498] & [[-0.0400003, 3.36183, 1.33967e-13, -4.1336e-13], [-0.051876, 3.34393, -0.475492, -0.720612], [-0.0876412, 3.2889, -0.956441, -1.49348], [-0.147685, 3.19287, -1.44711, -2.36851], [-0.232522, 3.04968, -1.94747, -3.38399], [-0.34242, 2.85202, -2.44621, -4.54381], [-0.476605, 2.59385, -2.91178, -5.78818], [-0.622714, 2.28884, -2.92272, -6.43452], [-0.755048, 1.96284, -2.36597, -6.68018], [-0.858543, 1.61339, -1.76278, -7.37419]  …  [-0.723382, 0.93674, 0.762677, 9.87304], [-0.665318, 1.39045, 1.54164, 8.36725], [-0.571054, 1.78275, 2.21331, 7.41306], [-0.445188, 2.14016, 2.81291, 6.96499], [-0.313006, 2.4587, 2.4556, 5.75849], [-0.201164, 2.71481, 2.00669, 4.48245], [-0.113088, 2.90742, 1.51208, 3.23326], [-0.0501441, 3.03969, 1.00532, 2.07466], [-0.01251, 3.11647, 0.50078, 1.00969], [-5.48698e-14, 3.14159, -2.37172e-14, 2.16947e-13]] & $\\dots$ \\\\\n",
       "\t17 & [-0.287558, 5.66068] & [[-0.287558, 3.35434, 1.34393e-13, -4.14068e-13], [-0.299457, 3.33617, -0.476456, -0.73127], [-0.335295, 3.28034, -0.958391, -1.51527], [-0.395461, 3.18293, -1.44999, -2.402], [-0.480457, 3.03778, -1.95087, -3.42891], [-0.590514, 2.83763, -2.44888, -4.59738], [-0.724767, 2.57669, -2.91136, -5.84426], [-0.866059, 2.27611, -2.73401, -6.21811], [-0.989188, 1.96033, -2.18664, -6.48445], [-1.08398, 1.62054, -1.59453, -7.18006]  …  [-0.730091, 0.930746, 0.812068, 9.92722], [-0.669469, 1.38696, 1.59459, 8.41388], [-0.572477, 1.7815, 2.26937, 7.4566], [-0.445188, 2.14016, 2.81291, 6.96499], [-0.313006, 2.4587, 2.4556, 5.75849], [-0.201164, 2.71481, 2.00669, 4.48245], [-0.113088, 2.90742, 1.51208, 3.23326], [-0.0501441, 3.03969, 1.00532, 2.07466], [-0.01251, 3.11647, 0.50078, 1.00969], [-6.34596e-14, 3.14159, -7.00034e-15, 2.02984e-13]] & $\\dots$ \\\\\n",
       "\t18 & [0.0585066, 0.2] & [[0.0585066, 0.2, 0.0, 0.0], [0.0665831, 0.179369, 0.322928, -0.822098], [0.0895192, 0.120892, 0.593893, -1.50709], [0.125095, 0.0315424, 0.827686, -2.04995], [0.171597, -0.0810798, 1.03003, -2.43159], [0.227415, -0.208225, 1.19972, -2.62678], [0.290779, -0.339988, 1.33202, -2.61602], [0.359682, -0.465901, 1.42221, -2.39663], [0.431932, -0.575882, 1.46713, -1.98506], [0.505184, -0.660984, 1.46327, -1.40827]  …  [-0.0923982, 2.87555, 0.275122, 1.29423], [-0.0779604, 2.93563, 0.303128, 1.12005], [-0.0627291, 2.98719, 0.306813, 0.9522], [-0.0477963, 3.03059, 0.291114, 0.791944], [-0.034026, 3.06621, 0.260233, 0.639787], [-0.0220857, 3.09446, 0.217816, 0.495652], [-0.0124693, 3.11573, 0.167177, 0.359207], [-0.00550683, 3.1304, 0.111558, 0.230342], [-0.0013601, 3.13886, 0.0544486, 0.109788], [0.0, 3.14159, 0.0, 1.86069e-28]] & $\\dots$ \\\\\n",
       "\t19 & [0.801363, 5.90807] & [[0.801363, 3.3709, 4.86e-14, -4.10651e-13], [0.789517, 3.35332, -0.47432, -0.707644], [0.75384, 3.29927, -0.954061, -1.46695], [0.693945, 3.20493, -1.44358, -2.32763], [0.609306, 3.06415, -1.94324, -3.32894], [0.499609, 2.86953, -2.44275, -4.47774], [0.365521, 2.61479, -2.91193, -5.71847], [0.209752, 2.29804, -3.30111, -6.93904], [0.0566135, 1.94465, -2.81694, -7.26722], [-0.0685138, 1.56532, -2.17547, -7.99265]  …  [-0.675306, 1.01833, 0.547371, 9.2894], [-0.62896, 1.44541, 1.28811, 7.88136], [-0.548213, 1.81501, 1.92759, 6.98296], [-0.437269, 2.15139, 2.50285, 6.54776], [-0.313006, 2.4587, 2.4556, 5.75849], [-0.201164, 2.71481, 2.00669, 4.48245], [-0.113088, 2.90742, 1.51208, 3.23326], [-0.0501441, 3.03969, 1.00532, 2.07466], [-0.01251, 3.11647, 0.50078, 1.00969], [3.50505e-14, 3.14159, -1.19069e-13, 3.08894e-13]] & $\\dots$ \\\\\n",
       "\t20 & [0.242757, 2.18763] & [[0.242757, 2.18763, 0.0, 0.0], [0.239788, 2.16416, -0.118035, -0.939666], [0.236241, 2.09915, -0.0223808, -1.66649], [0.241873, 2.00073, 0.249495, -2.28385], [0.264282, 1.8714, 0.649597, -2.91132], [0.30781, 1.70751, 1.0964, -3.6716], [0.374549, 1.50118, 1.58124, -4.61556], [0.463504, 1.24319, 1.98827, -5.7348], [0.567823, 0.930084, 2.19265, -6.79167], [0.674047, 0.577406, 2.04809, -7.24965]  …  [-0.221662, 2.15257, -0.789085, 2.8186], [-0.250432, 2.28619, -0.361858, 2.55452], [-0.257807, 2.41082, 0.0677798, 2.45911], [-0.243517, 2.53499, 0.505588, 2.53763], [-0.208996, 2.66439, 0.877205, 2.66779], [-0.159444, 2.79782, 1.10637, 2.6965], [-0.102886, 2.92778, 1.15695, 2.52465], [-0.0494959, 3.04099, 0.979405, 2.02254], [-0.01251, 3.11647, 0.50078, 1.00969], [0.0, 3.14159, 0.0, 0.0]] & $\\dots$ \\\\\n",
       "\t21 & [0.141226, 1.28175] & [[0.141226, 1.28175, 0.0, 0.0], [0.150682, 1.2528, 0.37965, -1.161], [0.177746, 1.16622, 0.706907, -2.30871], [0.219536, 1.0231, 0.970397, -3.42181], [0.272103, 0.827274, 1.13717, -4.40656], [0.329718, 0.589133, 1.16717, -5.0906], [0.385171, 0.3279, 1.04338, -5.30221], [0.431685, 0.0679453, 0.806528, -5.02967], [0.465618, -0.170433, 0.542957, -4.45213], [0.48745, -0.376862, 0.326708, -3.76967]  …  [-0.196939, 2.41957, -0.133439, 2.40312], [-0.196681, 2.53501, 0.144375, 2.23671], [-0.183914, 2.64295, 0.367152, 2.10172], [-0.161396, 2.7445, 0.534514, 1.97924], [-0.131923, 2.83985, 0.645389, 1.85234], [-0.09841, 2.92828, 0.69612, 1.70129], [-0.0640679, 3.0079, 0.678502, 1.49811], [-0.0326966, 3.07504, 0.577209, 1.19973], [-0.00913815, 3.12324, 0.365814, 0.737588], [0.0, 3.14159, 0.0, -2.3407e-24]] & $\\dots$ \\\\\n",
       "\t22 & [-0.250039, 4.77368] & [[-0.250039, 3.35554, 1.34805e-13, -4.13957e-13], [-0.261935, 3.33741, -0.476303, -0.729578], [-0.297762, 3.2817, -0.958082, -1.51181], [-0.357908, 3.18451, -1.44954, -2.39668], [-0.442879, 3.03967, -1.95033, -3.4218], [-0.552911, 2.83991, -2.44847, -4.58891], [-0.687154, 2.57941, -2.91144, -5.83542], [-0.829038, 2.27842, -2.75719, -6.24165], [-0.953303, 1.96156, -2.20888, -6.5045], [-1.04919, 1.62081, -1.61576, -7.19865]  …  [-0.72768, 0.932899, 0.794319, 9.90776], [-0.667977, 1.38822, 1.57556, 8.39713], [-0.571966, 1.78195, 2.24922, 7.44096], [-0.445188, 2.14016, 2.81291, 6.96499], [-0.313006, 2.4587, 2.4556, 5.75849], [-0.201164, 2.71481, 2.00669, 4.48245], [-0.113088, 2.90742, 1.51208, 3.23326], [-0.0501441, 3.03969, 1.00532, 2.07466], [-0.01251, 3.11647, 0.50078, 1.00969], [-6.36652e-14, 3.14159, -6.99672e-15, 2.03976e-13]] & $\\dots$ \\\\\n",
       "\t23 & [-0.61644, 1.47368] & [[-0.61644, 1.47368, 0.0, 0.0], [-0.605779, 1.44712, 0.427625, -1.06595], [-0.573431, 1.36637, 0.870129, -2.17501], [-0.520222, 1.22912, 1.26472, -3.33004], [-0.449758, 1.03439, 1.56165, -4.46942], [-0.368215, 0.786917, 1.70465, -5.41964], [-0.284375, 0.502424, 1.64414, -5.91173], [-0.20815, 0.208227, 1.39174, -5.77827], [-0.146794, -0.0671387, 1.05048, -5.16566], [-0.101795, -0.306904, 0.743458, -4.37929]  …  [-0.222502, 2.34891, -0.0498132, 2.77087], [-0.217963, 2.48109, 0.231594, 2.54109], [-0.200798, 2.60301, 0.455616, 2.35841], [-0.173948, 2.71632, 0.619186, 2.19444], [-0.140478, 2.82137, 0.720501, 2.0267], [-0.103575, 2.91744, 0.756547, 1.83329], [-0.0666647, 3.00256, 0.7208, 1.58687], [-0.0336519, 3.0731, 0.600578, 1.24753], [-0.00932376, 3.12287, 0.373243, 0.752567], [0.0, 3.14159, 0.0, -3.9348e-26]] & $\\dots$ \\\\\n",
       "\t24 & [-0.80466, 3.94014] & [[-0.80466, 3.3386, 1.28518e-13, -4.1583e-13], [-0.81661, 3.31987, -0.478465, -0.753533], [-0.8526, 3.26235, -0.962444, -1.5607], [-0.913016, 3.16206, -1.45592, -2.47163], [-0.998339, 3.01284, -1.95771, -3.52178], [-1.10871, 2.80758, -2.45391, -4.70716], [-1.24307, 2.541, -2.90961, -5.95792], [-1.37787, 2.24364, -2.48065, -5.99798], [-1.48853, 1.9376, -1.94111, -6.31155], [-1.57124, 1.60567, -1.35627, -7.03557]  …  [-0.78203, 0.884602, 1.19443, 10.3448], [-0.701615, 1.36015, 2.00438, 8.77259], [-0.583502, 1.77184, 2.70353, 7.79075], [-0.445188, 2.14016, 2.81291, 6.96499], [-0.313006, 2.4587, 2.4556, 5.75849], [-0.201164, 2.71481, 2.00669, 4.48245], [-0.113088, 2.90742, 1.51208, 3.23326], [-0.0501441, 3.03969, 1.00532, 2.07466], [-0.01251, 3.11647, 0.50078, 1.00969], [-5.73174e-14, 3.14159, -1.3452e-14, 2.2093e-13]] & $\\dots$ \\\\\n",
       "\t$\\dots$ & $\\dots$ & $\\dots$ &  \\\\\n",
       "\\end{tabular}\n"
      ],
      "text/plain": [
       "\u001b[1m50×6 DataFrame\u001b[0m\n",
       "\u001b[1m Row \u001b[0m│\u001b[1m params                \u001b[0m\u001b[1m X                                 \u001b[0m\u001b[1m U            \u001b[0m ⋯\n",
       "     │\u001b[90m Array…                \u001b[0m\u001b[90m Array…                            \u001b[0m\u001b[90m Array…       \u001b[0m ⋯\n",
       "─────┼──────────────────────────────────────────────────────────────────────────\n",
       "   1 │ [0.536895, 5.90943]    [[0.536895, 3.37297, 1.29781e-13…  [[-10.0], [-1 ⋯\n",
       "   2 │ [0.347917, 2.48471]    [[0.347917, 2.48471, 0.0, 0.0], …  [[-10.0], [-1\n",
       "   3 │ [-0.373512, 4.16295]   [[-0.373512, 3.35163, 1.33444e-1…  [[-10.0], [-1\n",
       "   4 │ [0.172044, 0.327562]   [[0.172044, 0.327562, 0.0, 6.188…  [[4.99013], [\n",
       "   5 │ [-0.462721, 0.684055]  [[-0.462721, 0.684055, 0.0, 0.0]…  [[7.96743], [ ⋯\n",
       "   6 │ [-0.672668, 2.97205]   [[-0.672668, 2.97205, 0.0, 0.0],…  [[-10.0], [-1\n",
       "   7 │ [0.730824, 3.87982]    [[0.730824, 3.37203, 5.07035e-14…  [[-10.0], [-1\n",
       "   8 │ [-0.428604, 2.91444]   [[-0.428604, 2.91444, 0.0, 0.0],…  [[-10.0], [-1\n",
       "  ⋮  │           ⋮                            ⋮                                ⋱\n",
       "  44 │ [0.319952, 5.15338]    [[0.319952, 3.36982, 1.30048e-13…  [[-10.0], [-1 ⋯\n",
       "  45 │ [0.875663, 1.72436]    [[0.875663, 1.72436, 0.0, 0.0], …  [[3.52603], [\n",
       "  46 │ [0.566946, 4.02797]    [[0.566946, 3.37333, 1.09343e-13…  [[-10.0], [-1\n",
       "  47 │ [-0.40815, 5.92406]    [[-0.40815, 5.92406, 1.08559e-13…  [[3.60573], [\n",
       "  48 │ [-0.671802, 5.22096]   [[-0.671802, 3.34247, 1.30065e-1…  [[-10.0], [-1 ⋯\n",
       "  49 │ [0.419749, 2.634]      [[0.419749, 2.634, 0.0, 0.0], [0…  [[-10.0], [-8\n",
       "  50 │ [-0.802727, 2.30709]   [[-0.802727, 2.30709, 0.0, 0.0],…  [[-0.622304],\n",
       "\u001b[36m                                                   4 columns and 35 rows omitted\u001b[0m"
      ]
     },
     "metadata": {},
     "output_type": "display_data"
    }
   ],
   "source": [
    "\n",
    "# CSV.write(\"../data/presolves/cartpole_DIRCOL_1000_pi_wrap_fix.csv\", df)\n",
    "\n",
    "df"
   ]
  },
  {
   "cell_type": "markdown",
   "metadata": {},
   "source": [
    "## Load in the Warmstarts and Solve for the Refined Trajectories"
   ]
  },
  {
   "cell_type": "code",
   "execution_count": 21,
   "metadata": {},
   "outputs": [],
   "source": [
    "# using CSV\n",
    "\n",
    "# df = DataFrame(CSV.File(\"data/warmstart_cartpole.csv\"))\n",
    "# Z_warmstart_str = df.Z_warmstart[1]\n",
    "# @show Z_warmstart_str\n",
    "# Z_warmstart_str = replace(Z_warmstart_str, r\"\\n\" => \"\")\n",
    "# Z_warmstart = eval(Meta.parse(Z_warmstart_str))\n",
    "# # # Function to convert the string representation to a 2D array\n",
    "# # function convert_to_2d_array(str::String)\n",
    "# #     # Remove the brackets and newline characters\n",
    "# #     clean_str = replace(str, r\"[\\[\\]\\n]\" => \"\")\n",
    "# #     # Split the string into individual numbers\n",
    "# #     num_strs = split(clean_str)\n",
    "# #     # Convert the numbers to Float64\n",
    "# #     nums = parse.(Float64, num_strs)\n",
    "# #     # Reshape the flat array into a 2D array\n",
    "# #     num_rows = count(x -> x == '\\n', str) + 1\n",
    "# #     num_cols = length(nums) ÷ num_rows\n",
    "# #     return reshape(nums, num_cols, num_rows)'\n",
    "# # end\n",
    "\n",
    "# # X_warmstart = convert_to_2d_array(X_warmstart_str)\n",
    "# # X_warmstart = X_warmstart'\n",
    "# # X_warmstart = [X_warmstart[:, i] for i in 1:size(X_warmstart, 2)]\n",
    "# # @show size(X_warmstart[1])"
   ]
  },
  {
   "cell_type": "code",
   "execution_count": 22,
   "metadata": {},
   "outputs": [],
   "source": [
    "# # Assuming you have a DataFrame named df\n",
    "\n",
    "# for row in eachrow(df)\n",
    "#     Z_warmstart_str = row.Z_warmstart\n",
    "#     Z_warmstart_str = replace(Z_warmstart_str, r\"\\n\" => \"\")\n",
    "#     Z_warmstart = vec(eval(Meta.parse(Z_warmstart_str)))\n",
    "#     # @show typeof(Z_warmstart)\n",
    "#     param_str = row.params\n",
    "#     σ = vec(eval(Meta.parse(param_str)))\n",
    "#     # @show typeof(vec(param_str))\n",
    "\n",
    "#     X, U, obj, solve_time_sec, term_status, t_vec, params = solve_cartpole_swingup(σ, Z_warmstart; verbose=false)\n",
    "\n",
    "\n",
    "# end"
   ]
  },
  {
   "cell_type": "code",
   "execution_count": 23,
   "metadata": {},
   "outputs": [],
   "source": []
  }
 ],
 "metadata": {
  "kernelspec": {
   "display_name": "Julia 1.6.7",
   "language": "julia",
   "name": "julia-1.6"
  },
  "language_info": {
   "file_extension": ".jl",
   "mimetype": "application/julia",
   "name": "julia",
   "version": "1.6.7"
  }
 },
 "nbformat": 4,
 "nbformat_minor": 2
}
