{
 "cells": [
  {
   "cell_type": "code",
   "execution_count": 68,
   "metadata": {},
   "outputs": [
    {
     "name": "stderr",
     "output_type": "stream",
     "text": [
      "\u001b[32m\u001b[1m  Activating\u001b[22m\u001b[39m environment at `c:\\Users\\AiPEX-WS4\\Documents\\AiPEX-Projects\\warmstarting_NLPs\\JL_presolves\\Project.toml`\n"
     ]
    }
   ],
   "source": [
    "import Pkg\n",
    "Pkg.activate(@__DIR__)\n",
    "Pkg.instantiate()\n",
    "import MathOptInterface as MOI\n",
    "import Ipopt \n",
    "import FiniteDiff\n",
    "import ForwardDiff as FD\n",
    "import Convex as cvx \n",
    "import ECOS\n",
    "import MeshCat as mc\n",
    "import Distributions\n",
    "import Random\n",
    "import Combinatorics\n",
    "\n",
    "using LinearAlgebra\n",
    "using Plots\n",
    "using Random\n",
    "using JLD2\n",
    "using Test\n",
    "using CSV\n",
    "using DataFrames\n",
    "using Distributions\n",
    "using Combinatorics"
   ]
  },
  {
   "cell_type": "markdown",
   "metadata": {},
   "source": [
    "### Sample parameters "
   ]
  },
  {
   "cell_type": "code",
   "execution_count": 149,
   "metadata": {},
   "outputs": [
    {
     "data": {
      "text/plain": [
       "generate_piano_params (generic function with 1 method)"
      ]
     },
     "metadata": {},
     "output_type": "display_data"
    }
   ],
   "source": [
    "function generate_piano_params(N_param_samples)::Matrix{Float64}\n",
    "    # Choose 3 notes to play from an octave range: 12_P_3\n",
    "    notes = 1:12\n",
    "    # notes_distribution = DiscreteUniform(1,12)\n",
    "    notes_distribution = permutations(notes, 3)\n",
    "    notes = rand(collect(notes_distribution), N_param_samples)\n",
    "    notes = stack(notes)\n",
    "    notes = transpose(notes)\n",
    "    # @show size(notes)\n",
    "    # @show typeof(notes)\n",
    "    # @show notes\n",
    "    # println()\n",
    "\n",
    "\n",
    "    # Choose note durations\n",
    "    t_end = 5.0\n",
    "    note_timings_distribution = Product([Uniform(0, t_end), Uniform(0, t_end)])\n",
    "    notes_timings = rand(note_timings_distribution, N_param_samples)\n",
    "    sort!(notes_timings,dims=1)\n",
    "    notes_timings = transpose(notes_timings)\n",
    "    # @show size(notes_timings)\n",
    "    # @show typeof(notes_timings)\n",
    "    # @show notes_timings\n",
    "    # println()\n",
    "\n",
    "    # Choose fingers to play 3 notes: 5_P_3\n",
    "    finger_idx = 1:5\n",
    "    # finger_distribution = DiscreteUniform(1,5)\n",
    "    fingers_distribution = permutations(finger_idx, 3)\n",
    "    fingers = rand(collect(fingers_distribution), N_param_samples)\n",
    "    fingers = stack(fingers)\n",
    "    fingers = transpose(fingers)\n",
    "    # @show size(fingers)\n",
    "    # @show typeof(fingers)\n",
    "    # @show fingers\n",
    "\n",
    "    # Joint parameter distribution sample\n",
    "    θ_samples = hcat(notes, notes_timings, fingers)\n",
    "\n",
    "    return θ_samples\n",
    "end\n",
    "\n"
   ]
  },
  {
   "cell_type": "code",
   "execution_count": 160,
   "metadata": {},
   "outputs": [
    {
     "name": "stdout",
     "output_type": "stream",
     "text": [
      "[12.0, 6.0, 5.0, 0.027347800755164187, 0.6836255505825772, 5.0, 1.0, 4.0]\n",
      "[5.0, 4.0, 2.0, 0.7052942142950092, 4.738556660343784, 1.0, 4.0, 5.0]\n",
      "[4.0, 3.0, 8.0, 3.6147614069933165, 3.917928500958822, 2.0, 3.0, 4.0]\n",
      "[6.0, 10.0, 12.0, 0.07417653569472216, 3.9683817743069536, 3.0, 1.0, 2.0]\n",
      "[8.0, 7.0, 4.0, 2.2342199914849523, 3.133995261499721, 4.0, 5.0, 1.0]\n",
      "[7.0, 1.0, 10.0, 1.8458316830080712, 2.346509354352977, 5.0, 2.0, 4.0]\n",
      "[6.0, 2.0, 1.0, 2.285682736570066, 2.5126155584440535, 1.0, 3.0, 2.0]\n",
      "[11.0, 10.0, 5.0, 1.5655097295620113, 4.695850739023899, 1.0, 3.0, 5.0]\n",
      "[4.0, 6.0, 1.0, 4.699540872998513, 4.98295211711779, 4.0, 3.0, 1.0]\n",
      "[7.0, 6.0, 12.0, 0.7765297547886063, 2.45157885231851, 5.0, 1.0, 4.0]\n",
      "[1.0, 6.0, 10.0, 1.0231561100611197, 2.1881605123463, 2.0, 3.0, 1.0]\n",
      "[7.0, 8.0, 5.0, 1.0858587636848838, 2.675355736748318, 3.0, 5.0, 1.0]\n",
      "[6.0, 5.0, 1.0, 0.3045117908439887, 0.5108241562351368, 4.0, 3.0, 5.0]\n",
      "[2.0, 4.0, 7.0, 2.5816769701224263, 4.046913583847365, 3.0, 5.0, 4.0]\n",
      "[8.0, 1.0, 7.0, 0.004843972011714381, 2.7696470188074853, 4.0, 2.0, 1.0]\n",
      "[2.0, 3.0, 5.0, 1.0569246066914995, 3.1889853916490773, 2.0, 5.0, 1.0]\n",
      "[4.0, 7.0, 6.0, 2.6202123655098197, 3.052354761011941, 5.0, 3.0, 2.0]\n",
      "[11.0, 12.0, 4.0, 1.1168483190687772, 4.220464353535275, 3.0, 1.0, 2.0]\n",
      "[5.0, 1.0, 4.0, 1.2785536401406483, 3.988325220846771, 2.0, 3.0, 1.0]\n",
      "[11.0, 12.0, 3.0, 0.7058612735371461, 2.273010818788711, 1.0, 2.0, 3.0]\n"
     ]
    }
   ],
   "source": [
    "df = DataFrame(params = Vector{Vector{Float64}}(), X=Vector{Vector{Vector{Float64}}}(), U=Vector{Vector{Vector{Float64}}}(), obj = Float64[], solve_time_sec = Float64[], term_status = MOI.TerminationStatusCode[])\n",
    "\n",
    "Random.seed!(123)\n",
    "\n",
    "N_param_samples = 20 # Number of parameters to sample for the OCP\n",
    "nlp_params = generate_piano_params(N_param_samples)\n",
    "# θ_samples = eachrow(θ_samples)\n",
    "# @show θ_samples\n",
    "\n",
    "\n",
    "for θ in eachrow(nlp_params)\n",
    "    println(θ)\n",
    "end"
   ]
  },
  {
   "cell_type": "code",
   "execution_count": 128,
   "metadata": {},
   "outputs": [
    {
     "data": {
      "text/plain": [
       "1×3 adjoint(::Vector{Int64}) with eltype Int64:\n",
       " 1  2  3"
      ]
     },
     "metadata": {},
     "output_type": "display_data"
    }
   ],
   "source": []
  }
 ],
 "metadata": {
  "kernelspec": {
   "display_name": "Julia 1.6.7",
   "language": "julia",
   "name": "julia-1.6"
  },
  "language_info": {
   "file_extension": ".jl",
   "mimetype": "application/julia",
   "name": "julia",
   "version": "1.6.7"
  }
 },
 "nbformat": 4,
 "nbformat_minor": 2
}
