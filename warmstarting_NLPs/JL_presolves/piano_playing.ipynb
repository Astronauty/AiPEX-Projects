{
 "cells": [
  {
   "cell_type": "code",
   "execution_count": 1,
   "metadata": {},
   "outputs": [
    {
     "name": "stderr",
     "output_type": "stream",
     "text": [
      "\u001b[32m\u001b[1m  Activating\u001b[22m\u001b[39m project at `c:\\Users\\Daniel\\Documents\\Python-Projects\\AiPEX-Projects\\warmstarting_NLPs\\JL_presolves`\n",
      "┌ Warning: The active manifest file is an older format with no julia version entry. Dependencies may have been resolved with a different julia version.\n",
      "└ @ nothing C:\\Users\\Daniel\\Documents\\Python-Projects\\AiPEX-Projects\\warmstarting_NLPs\\JL_presolves\\Manifest.toml:0\n"
     ]
    }
   ],
   "source": [
    "import Pkg\n",
    "Pkg.activate(@__DIR__)\n",
    "Pkg.instantiate()\n",
    "import MathOptInterface as MOI\n",
    "import Ipopt \n",
    "import FiniteDiff\n",
    "import ForwardDiff as FD\n",
    "import Convex as cvx \n",
    "import ECOS\n",
    "import MeshCat as mc\n",
    "import Distributions\n",
    "import Random\n",
    "import Combinatorics\n",
    "\n",
    "using LinearAlgebra\n",
    "using Plots\n",
    "using Random\n",
    "using JLD2\n",
    "using Test\n",
    "using CSV\n",
    "using DataFrames\n",
    "using Distributions\n",
    "using Combinatorics"
   ]
  },
  {
   "cell_type": "code",
   "execution_count": 2,
   "metadata": {},
   "outputs": [
    {
     "name": "stderr",
     "output_type": "stream",
     "text": [
      "\u001b[32m\u001b[1m  Activating\u001b[22m\u001b[39m project at `c:\\Users\\Daniel\\Documents\\Python-Projects\\AiPEX-Projects\\warmstarting_NLPs\\JL_presolves`\n",
      "┌ Warning: The active manifest file at `C:\\Users\\Daniel\\Documents\\Python-Projects\\AiPEX-Projects\\warmstarting_NLPs\\JL_presolves\\Manifest.toml` has an old format that is being maintained.\n",
      "│ To update to the new format, which is supported by Julia versions ≥ 1.6.2, run `import Pkg; Pkg.upgrade_manifest()` which will upgrade the format without re-resolving.\n",
      "│ To then record the julia version re-resolve with `Pkg.resolve()` and if there are resolve conflicts consider `Pkg.update()`.\n",
      "└ @ Pkg.Types C:\\Users\\Daniel\\.julia\\juliaup\\julia-1.10.2+0.x64.w64.mingw32\\share\\julia\\stdlib\\v1.10\\Pkg\\src\\manifest.jl:318\n",
      "\u001b[32m\u001b[1m  No Changes\u001b[22m\u001b[39m to `C:\\Users\\Daniel\\Documents\\Python-Projects\\AiPEX-Projects\\warmstarting_NLPs\\JL_presolves\\Project.toml`\n",
      "\u001b[32m\u001b[1m  No Changes\u001b[22m\u001b[39m to `C:\\Users\\Daniel\\Documents\\Python-Projects\\AiPEX-Projects\\warmstarting_NLPs\\JL_presolves\\Manifest.toml`\n"
     ]
    },
    {
     "data": {
      "text/plain": [
       "solve_hand_dircol (generic function with 2 methods)"
      ]
     },
     "metadata": {},
     "output_type": "display_data"
    }
   ],
   "source": [
    "include(joinpath(@__DIR__, \"piano_dynamics.jl\"))\n"
   ]
  },
  {
   "cell_type": "markdown",
   "metadata": {},
   "source": [
    "### Sample parameters "
   ]
  },
  {
   "cell_type": "code",
   "execution_count": 3,
   "metadata": {},
   "outputs": [
    {
     "data": {
      "text/plain": [
       "generate_piano_params (generic function with 1 method)"
      ]
     },
     "metadata": {},
     "output_type": "display_data"
    }
   ],
   "source": [
    "function generate_piano_params(N_param_samples)::Matrix{Float64}\n",
    "    # Choose 3 notes to play from an octave range: 12_P_3\n",
    "    notes = 1:8\n",
    "    # notes_distribution = DiscreteUniform(1,12)\n",
    "    notes_distribution = permutations(notes, 3)\n",
    "    notes = rand(collect(notes_distribution), N_param_samples)\n",
    "    notes = stack(notes)\n",
    "    notes = transpose(notes)\n",
    "    # @show size(notes)\n",
    "    # @show typeof(notes)\n",
    "    # @show notes\n",
    "    # println()\n",
    "\n",
    "\n",
    "    # Choose note durations\n",
    "    t_end = 3.0\n",
    "    note_timings_distribution = Product([Uniform(0, t_end), Uniform(0, t_end)])\n",
    "    notes_timings = rand(note_timings_distribution, N_param_samples)\n",
    "    sort!(notes_timings,dims=1)\n",
    "    notes_timings = transpose(notes_timings)\n",
    "    # @show size(notes_timings)\n",
    "    # @show typeof(notes_timings)\n",
    "    # @show notes_timings\n",
    "    # println()\n",
    "\n",
    "    # Choose fingers to play 3 notes: 5_P_3\n",
    "    finger_idx = 1:5\n",
    "    # finger_distribution = DiscreteUniform(1,5)\n",
    "    fingers_distribution = permutations(finger_idx, 3)\n",
    "    fingers = rand(collect(fingers_distribution), N_param_samples)\n",
    "    fingers = stack(fingers)\n",
    "    fingers = transpose(fingers)\n",
    "    # @show size(fingers)\n",
    "    # @show typeof(fingers)\n",
    "    # @show fingers\n",
    "\n",
    "    # Joint parameter distribution sample\n",
    "    θ_samples = hcat(notes, notes_timings, fingers)\n",
    "\n",
    "    return θ_samples\n",
    "end\n",
    "\n"
   ]
  },
  {
   "cell_type": "code",
   "execution_count": 4,
   "metadata": {},
   "outputs": [
    {
     "name": "stdout",
     "output_type": "stream",
     "text": [
      "[5.0, 2.0, 3.0, 0.8297923385248999, 2.9503071333595194, 3.0, 1.0, 5.0]\n",
      "[5.0, 6.0, 8.0, 0.7020504173221651, 2.6426924724474192, 1.0, 5.0, 4.0]\n",
      "[8.0, 1.0, 7.0, 0.3958311976184986, 1.142848137858326, 3.0, 5.0, 4.0]\n",
      "[2.0, 5.0, 7.0, 0.2648730573968353, 0.9405147435231863, 3.0, 5.0, 1.0]\n",
      "[5.0, 2.0, 4.0, 1.390829232974743, 2.1409077674586237, 3.0, 2.0, 1.0]\n",
      "[4.0, 1.0, 8.0, 0.27165349265334193, 0.6177747284601298, 5.0, 1.0, 3.0]\n",
      "[1.0, 4.0, 6.0, 0.9343425021151587, 1.7457370271629369, 3.0, 5.0, 2.0]\n",
      "[8.0, 4.0, 2.0, 0.3634425615543808, 0.6135894519610784, 5.0, 1.0, 2.0]\n",
      "[5.0, 6.0, 4.0, 0.05571599876981548, 1.160070488726861, 3.0, 4.0, 5.0]\n",
      "[3.0, 6.0, 2.0, 0.21654217110422047, 2.7427397578313797, 4.0, 5.0, 2.0]\n",
      "[5.0, 2.0, 6.0, 1.1621221867606972, 2.3157490675343317, 1.0, 3.0, 4.0]\n",
      "[7.0, 5.0, 6.0, 1.132149778298261, 2.626664998678856, 5.0, 3.0, 2.0]\n",
      "[1.0, 4.0, 3.0, 0.793704421085792, 2.705631973591245, 5.0, 1.0, 4.0]\n",
      "[4.0, 7.0, 1.0, 2.19671445365391, 2.5940792760935096, 4.0, 5.0, 3.0]\n",
      "[3.0, 8.0, 2.0, 0.30959053950249016, 1.7627548086265534, 4.0, 5.0, 3.0]\n",
      "[1.0, 7.0, 6.0, 0.6715224081615843, 2.428298267824386, 4.0, 1.0, 5.0]\n",
      "[6.0, 7.0, 2.0, 1.1262507711135419, 2.575573382954043, 3.0, 1.0, 5.0]\n",
      "[5.0, 6.0, 1.0, 2.0301211771186383, 2.762653272380131, 1.0, 2.0, 5.0]\n",
      "[6.0, 3.0, 2.0, 2.087963072430089, 2.1193834247042704, 4.0, 1.0, 5.0]\n",
      "[3.0, 4.0, 6.0, 1.2518523466576925, 2.636930825813122, 4.0, 3.0, 1.0]\n"
     ]
    }
   ],
   "source": [
    "df = DataFrame(params = Vector{Vector{Float64}}(), X=Vector{Vector{Vector{Float64}}}(), U=Vector{Vector{Vector{Float64}}}(), obj = Float64[], solve_time_sec = Float64[], term_status = MOI.TerminationStatusCode[])\n",
    "\n",
    "Random.seed!(123)\n",
    "\n",
    "N_param_samples = 20 # Number of parameters to sample for the OCP\n",
    "nlp_params = generate_piano_params(N_param_samples)\n",
    "# θ_samples = eachrow(θ_samples)\n",
    "# @show θ_samples\n",
    "\n",
    "\n",
    "for θ in eachrow(nlp_params)\n",
    "    println(θ)\n",
    "end"
   ]
  },
  {
   "cell_type": "code",
   "execution_count": 5,
   "metadata": {},
   "outputs": [
    {
     "name": "stdout",
     "output_type": "stream",
     "text": [
      "finger_constraints = FingerConstraint[FingerConstraint(0.0, 1.0, 1, 1)]\n",
      "Initial state: [0.00997183, -0.209972, 0.00990915, -1.49735e-10, 0.085188, 5.36454e-11, 2.23554e-11, 0.447411, 0.463769, 5.23797e-11, 1.82296e-11, 0.574483, 0.588057, -5.19199e-11, 0.003956, 0.591765, 0.602195, 0.184569, -0.066329, -0.060192, 0.662445, 0.672905, 0.36645, 0.69654, -0.2094, 0.621309, 0.187236, 0.0, 0.0, 0.0, 0.0, 0.0, 0.0, 0.0, 0.0, 0.0, 0.0, 0.0, 0.0, 0.0, 0.0, 0.0, 0.0, 0.0, 0.0, 0.0, 0.0, 0.0, 0.0, 0.0, 0.0, 0.0, 0.0, 0.0]\n",
      "typeof(robohand_end_effector_cost) = typeof(robohand_end_effector_cost)\n",
      "---------checking dimensions of everything----------\n",
      "---------all dimensions good------------------------\n",
      "---------diff type set to :finite (FiniteDiff.jl)---\n",
      "---------testing objective gradient-----------------\n",
      "---------testing constraint Jacobian----------------\n",
      "---------successfully compiled both derivatives-----\n",
      "---------IPOPT beginning solve----------------------\n",
      "\n",
      "******************************************************************************\n",
      "This program contains Ipopt, a library for large-scale nonlinear optimization.\n",
      " Ipopt is released as open source code under the Eclipse Public License (EPL).\n",
      "         For more information visit https://github.com/coin-or/Ipopt\n",
      "******************************************************************************\n",
      "\n",
      "This is Ipopt version 3.14.4, running with linear solver MUMPS 5.4.1.\n",
      "\n",
      "Number of nonzeros in equality constraint Jacobian...:   195048\n",
      "Number of nonzeros in inequality constraint Jacobian.:    18060\n",
      "Number of nonzeros in Lagrangian Hessian.............:        0\n",
      "\n",
      "Total number of variables............................:      516\n",
      "                     variables with only lower bounds:        0\n",
      "                variables with lower and upper bounds:      516\n",
      "                     variables with only upper bounds:        0\n",
      "Total number of equality constraints.................:      378\n",
      "Total number of inequality constraints...............:       35\n",
      "        inequality constraints with only lower bounds:        0\n",
      "   inequality constraints with lower and upper bounds:        0\n",
      "        inequality constraints with only upper bounds:        0\n",
      "\n",
      "iter    objective    inf_pr   inf_du lg(mu)  ||d||  lg(rg) alpha_du alpha_pr  ls\n",
      "   0  1.6113402e+01 2.77e-01 3.38e+00   0.0 0.00e+00    -  0.00e+00 0.00e+00   0\n",
      "   1  9.6769947e+00 1.50e+00 4.46e+01  -0.7 2.53e+00    -  5.21e-01 4.77e-01f  1\n",
      "   2  8.7001407e+00 8.70e-01 1.29e+01  -1.0 7.28e-01    -  9.85e-01 9.95e-01f  1\n",
      "   3  8.6137613e+00 3.26e-01 1.31e+01  -1.5 3.09e-01    -  1.00e+00 1.00e+00h  1\n",
      "   4  8.5795814e+00 3.38e-01 2.33e+00  -2.2 8.03e-02    -  1.00e+00 1.00e+00h  1\n",
      "   5  8.5688173e+00 3.73e-01 9.40e-01  -3.3 5.17e-02    -  1.00e+00 1.00e+00h  1\n",
      "   6  8.5468809e+00 3.37e-01 2.31e+00  -2.6 1.18e-01    -  1.00e+00 9.58e-01h  1\n",
      "   7  8.5330640e+00 3.33e-02 5.69e-01  -3.1 9.79e-02    -  9.99e-01 1.00e+00h  1\n",
      "   8  8.5278491e+00 5.82e-02 2.54e+00  -3.1 5.28e-01    -  1.00e+00 2.10e-01h  2\n",
      "   9  8.5137306e+00 3.72e-02 1.37e+00  -3.1 2.18e-01    -  1.00e+00 9.66e-01h  1\n",
      "iter    objective    inf_pr   inf_du lg(mu)  ||d||  lg(rg) alpha_du alpha_pr  ls\n",
      "  10  8.5121678e+00 6.49e-02 1.39e+00  -3.7 8.38e-02    -  1.00e+00 9.87e-01h  1\n",
      "  11  8.5108516e+00 1.83e-02 3.65e-01  -4.4 3.82e-02    -  1.00e+00 1.00e+00h  1\n",
      "  12  8.5104238e+00 3.11e-03 2.53e-01  -4.8 1.55e-02    -  1.00e+00 1.00e+00h  1\n",
      "  13  8.5103177e+00 4.36e-03 5.76e-02  -5.2 6.77e-03    -  1.00e+00 9.98e-01h  1\n",
      "  14  8.5102690e+00 1.33e-02 5.63e-02  -6.3 1.16e-02    -  1.00e+00 1.00e+00h  1\n",
      "  15  8.5102705e+00 5.01e-04 2.77e-02  -7.7 7.81e-03    -  1.00e+00 1.00e+00h  1\n",
      "  16  8.5102650e+00 1.52e-03 6.23e-02  -9.1 2.32e-03    -  1.00e+00 1.00e+00h  1\n",
      "  17  8.5102986e+00 1.07e-03 2.52e-01 -10.7 4.23e-03    -  9.93e-01 1.00e+00H  1\n",
      "  18  8.5102662e+00 9.77e-03 6.78e-02 -10.7 4.18e-03    -  1.00e+00 1.00e+00h  1\n",
      "  19  8.5102622e+00 6.19e-08 1.28e-03 -10.7 1.43e-03    -  1.00e+00 1.00e+00h  1\n",
      "iter    objective    inf_pr   inf_du lg(mu)  ||d||  lg(rg) alpha_du alpha_pr  ls\n",
      "  20  8.5102480e+00 1.33e-02 6.74e-02 -11.0 1.22e-02    -  1.00e+00 1.00e+00h  1\n",
      "  21  8.5102395e+00 1.59e-03 2.28e-02 -11.0 7.36e-03    -  1.00e+00 1.00e+00h  1\n",
      "  22  8.5102355e+00 6.84e-03 8.19e-02 -11.0 7.05e-03    -  1.00e+00 1.00e+00h  1\n",
      "  23  8.5102569e+00 1.45e-02 1.31e-01 -11.0 1.00e-02    -  1.00e+00 1.00e+00h  1\n",
      "  24  8.5102367e+00 1.65e-06 3.52e-02 -11.0 6.98e-03    -  1.00e+00 1.00e+00h  1\n",
      "  25  8.5102357e+00 3.06e-04 9.65e-02 -11.0 2.55e-02    -  1.00e+00 1.25e-01h  4\n",
      "  26  8.5102332e+00 2.60e-03 7.71e-02 -11.0 4.45e-03    -  1.00e+00 5.00e-01h  2\n",
      "  27  8.5102333e+00 4.96e-04 7.05e-02 -11.0 2.72e-03    -  1.00e+00 1.00e+00h  1\n",
      "  28  8.5102441e+00 7.28e-08 6.16e-03 -11.0 4.08e-03    -  1.00e+00 1.00e+00h  1\n",
      "  29  8.5102297e+00 1.46e-08 5.71e-04 -11.0 3.40e-03    -  1.00e+00 1.00e+00h  1\n",
      "\n",
      "Number of Iterations....: 29\n",
      "\n",
      "                                   (scaled)                 (unscaled)\n",
      "Objective...............:   8.5102297071690440e+00    8.5102297071690440e+00\n",
      "Dual infeasibility......:   5.7069106478731713e-04    5.7069106478731713e-04\n",
      "Constraint violation....:   1.4615799528994167e-08    1.4615799528994167e-08\n",
      "Variable bound violation:   9.9743896475601446e-09    9.9743896475601446e-09\n",
      "Complementarity.........:   1.0000000000000001e-11    1.0000000000000001e-11\n",
      "Overall NLP error.......:   5.7069106478731713e-04    5.7069106478731713e-04\n",
      "\n",
      "\n",
      "Number of objective function evaluations             = 40\n",
      "Number of objective gradient evaluations             = 30\n",
      "Number of equality constraint evaluations            = 40\n",
      "Number of inequality constraint evaluations          = 40\n",
      "Number of equality constraint Jacobian evaluations   = 30\n",
      "Number of inequality constraint Jacobian evaluations = 30\n",
      "Number of Lagrangian Hessian evaluations             = 0\n",
      "Total seconds in IPOPT                               = 21.671\n",
      "\n",
      "EXIT: Optimal Solution Found.\n"
     ]
    },
    {
     "ename": "MethodError",
     "evalue": "MethodError: Cannot `convert` an object of type \n  Tuple{Vector{Float64},Float64,Float64,MathOptInterface.TerminationStatusCode} to an object of type \n  Tuple{Vector,Float64}\n\nClosest candidates are:\n  convert(::Type{T}, ::Tuple{Vararg{Any, N}}) where {N, T<:Tuple}\n   @ Base essentials.jl:457\n  convert(::Type{T}, !Matched::T) where T<:Tuple\n   @ Base essentials.jl:456\n  convert(::Type{T}, !Matched::T) where T\n   @ Base Base.jl:84\n  ...\n",
     "output_type": "error",
     "traceback": [
      "MethodError: Cannot `convert` an object of type \n",
      "  Tuple{Vector{Float64},Float64,Float64,MathOptInterface.TerminationStatusCode} to an object of type \n",
      "  Tuple{Vector,Float64}\n",
      "\n",
      "Closest candidates are:\n",
      "  convert(::Type{T}, ::Tuple{Vararg{Any, N}}) where {N, T<:Tuple}\n",
      "   @ Base essentials.jl:457\n",
      "  convert(::Type{T}, !Matched::T) where T<:Tuple\n",
      "   @ Base essentials.jl:456\n",
      "  convert(::Type{T}, !Matched::T) where T\n",
      "   @ Base Base.jl:84\n",
      "  ...\n",
      "\n",
      "\n",
      "Stacktrace:\n",
      " [1] _tuple_error(T::Type, x::Tuple{Vector{Float64}, Float64, Float64, MathOptInterface.TerminationStatusCode})\n",
      "   @ Base .\\essentials.jl:454\n",
      " [2] convert(::Type{Tuple{Vector, Float64}}, x::Tuple{Vector{Float64}, Float64, Float64, MathOptInterface.TerminationStatusCode})\n",
      "   @ Base .\\essentials.jl:461\n",
      " [3] fmincon2(cost::typeof(robohand_end_effector_cost), equality_constraint::typeof(robohand_equality_constraints), inequality_constraint::typeof(robohand_inequality_constraints), x_l::Vector{Float64}, x_u::Vector{Float64}, c_l::Vector{Float64}, c_u::Vector{Float64}, x0::Vector{Float64}, params::@NamedTuple{Q::Matrix{Float64}, R::Matrix{Float64}, Qf::Matrix{Float64}, xic::Vector{Float64}, xg::Vector{Float64}, t_vec::StepRangeLen{Float64, Base.TwicePrecision{Float64}, Base.TwicePrecision{Float64}, Int64}, finger_constraints::Vector{FingerConstraint}, target_site_names::Vector{String}, fingertip_site_names::Vector{String}, dt::Float64, N::Int64, idx::@NamedTuple{nx::Int64, nu::Int32, N::Int64, nz::Int64, nc::Int64, x::Vector{UnitRange{Int64}}, u::Vector{UnitRange{Int64}}, c::Vector{UnitRange{Int64}}}, model::Model, data::Data}, diff_type::Symbol; tol::Float64, c_tol::Float64, dual_inf_tol::Float64, compl_inf_tol::Float64, max_iters::Int64, max_wall_time::Float64, verbose::Bool)\n",
      "   @ Main c:\\Users\\Daniel\\Documents\\Python-Projects\\AiPEX-Projects\\warmstarting_NLPs\\JL_presolves\\utils\\fmincon2.jl:266\n",
      " [4] solve_hand_dircol(θ::Vector{Float64}; verbose::Bool)\n",
      "   @ Main c:\\Users\\Daniel\\Documents\\Python-Projects\\AiPEX-Projects\\warmstarting_NLPs\\JL_presolves\\piano_dynamics.jl:463\n",
      " [5] top-level scope\n",
      "   @ c:\\Users\\Daniel\\Documents\\Python-Projects\\AiPEX-Projects\\warmstarting_NLPs\\JL_presolves\\piano_playing.ipynb:2"
     ]
    }
   ],
   "source": [
    "\n",
    "# X, U, t_vec, params, objs = solve_hand_dircol(nlp_params[1,:]; verbose=true)\n",
    "X, U, obj, solve_time_sec, term_status, t_vec, params = solve_hand_dircol(nlp_params[1,:]; verbose=true)"
   ]
  }
 ],
 "metadata": {
  "kernelspec": {
   "display_name": "Julia 1.10.2",
   "language": "julia",
   "name": "julia-1.10"
  },
  "language_info": {
   "file_extension": ".jl",
   "mimetype": "application/julia",
   "name": "julia",
   "version": "1.10.2"
  }
 },
 "nbformat": 4,
 "nbformat_minor": 2
}
