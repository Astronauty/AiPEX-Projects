{
 "cells": [
  {
   "cell_type": "code",
   "execution_count": 57,
   "metadata": {},
   "outputs": [
    {
     "name": "stdout",
     "output_type": "stream",
     "text": [
      "{q2_dot: p3/2, p3_dot: -p3/2 - q2 + u1}\n"
     ]
    }
   ],
   "source": [
    "import sympy as sp\n",
    "import numpy as np\n",
    "import scipy\n",
    "\n",
    "def msd_dynamics(x, u):\n",
    "    t = sp.symbols('t')\n",
    "    # Edge variables\n",
    "    e1, f1, e2, f2, e3, f3, e4, f4 = sp.symbols('e1, f1, e2, f2, e3, f3, e4, f4')\n",
    "\n",
    "    # Node variables\n",
    "    q2, p3 = sp.symbols('q2, p3')\n",
    "\n",
    "    # Node variable derivatives\n",
    "    q2_dot, p3_dot = sp.symbols('q2_dot, p3_dot')\n",
    "\n",
    "    # Input variables\n",
    "    u1 = sp.symbols('u1')\n",
    "\n",
    "    # Parameters\n",
    "    I3 = 2\n",
    "    C2 = 1\n",
    "    R4 = 1\n",
    "\n",
    "\n",
    "    # State space equations\n",
    "    sys_eq = [\n",
    "    sp.Eq(e3, e1 - e2 - e4),\n",
    "    sp.Eq(f1, f3),\n",
    "    sp.Eq(f2, f3),\n",
    "    sp.Eq(f4, f3),\n",
    "    # sp.Eq(sp.Derivative(p3, t), f3),\n",
    "    # sp.Eq(sp.Derivative(q2, t), f2),\n",
    "    sp.Eq(q2_dot, f2),\n",
    "    sp.Eq(p3_dot, e3),\n",
    "    sp.Eq(f3, p3/I3),\n",
    "    sp.Eq(e2, q2/C2),\n",
    "    sp.Eq(e4, f4*R4),\n",
    "    sp.Eq(e1, u1)]\n",
    "\n",
    "    # sp.nsolve(sys_eq, (sp.Derivative(p3),sp.Derivative(q2)), (0,0))\n",
    "    # A, b = sp.linear_eq_to_matrix(sys_eq, q2_dot, p3_dot, e1, f1, e2, f2, e3, f3, e4, f4, q2, p3)\n",
    "\n",
    "    subs_eq = [(e1, u1), (e2, q2/C2), (e3, u1 - q2/C2 - f4*R4), (f3, p3/I3), (f2, p3/I3), (f4, p3/I3)]\n",
    "    sys_eq_subs = [eq.subs(subs_eq) for eq in sys_eq]\n",
    "\n",
    "    # Solve for state derivatives\n",
    "    sol = sp.solve(sys_eq_subs, (q2_dot, p3_dot))\n",
    "    print(sol)\n",
    "    \n",
    "    (q2_dot, p3_dot) = x\n",
    "    print(q2_dot, \" \", p3_dot)\n",
    "    # print(type(sol))\n",
    "    # print(sol.keys())\n",
    "    # print(sol[q2_dot])\n",
    "\n",
    "    # print(sol[q2_dot].co)\n",
    "    ## Explicit integration\n",
    "\n",
    "\n"
   ]
  },
  {
   "cell_type": "markdown",
   "metadata": {},
   "source": []
  },
  {
   "cell_type": "code",
   "execution_count": null,
   "metadata": {},
   "outputs": [],
   "source": []
  }
 ],
 "metadata": {
  "kernelspec": {
   "display_name": "bond-graph",
   "language": "python",
   "name": "python3"
  },
  "language_info": {
   "codemirror_mode": {
    "name": "ipython",
    "version": 3
   },
   "file_extension": ".py",
   "mimetype": "text/x-python",
   "name": "python",
   "nbconvert_exporter": "python",
   "pygments_lexer": "ipython3",
   "version": "3.11.6"
  }
 },
 "nbformat": 4,
 "nbformat_minor": 2
}
