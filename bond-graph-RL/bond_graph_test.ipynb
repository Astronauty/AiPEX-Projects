{
 "cells": [
  {
   "cell_type": "code",
   "execution_count": 137,
   "metadata": {},
   "outputs": [
    {
     "name": "stdout",
     "output_type": "stream",
     "text": [
      "\n",
      "Graph Node Info:  [(0, {'element_type': <BondGraphElementTypes.EFFORT_SOURCE: 3>, 'node_index': 0, 'max_ports': 1, 'causality': None, 'params': {}, 'node': <bond_graph_nodes.EffortSource object at 0x1159b6b50>, 'Se': Se_0, 'element_label': 'Se_0'}), (1, {'element_type': <BondGraphElementTypes.ONE_JUNCTION: 6>, 'node_index': 1, 'max_ports': None, 'causality': None, 'params': {}, 'node': <bond_graph_nodes.OneJunction object at 0x1159a9990>, 'element_label': '1_1'}), (2, {'element_type': <BondGraphElementTypes.CAPACITANCE: 0>, 'node_index': 2, 'max_ports': 1, 'causality': <CausalityTypes.INTEGRAL: 0>, 'params': {'C': 10}, 'node': <bond_graph_nodes.Capacitance object at 0x1159ab650>, 'q': q_2, 'element_label': 'C_2'}), (3, {'element_type': <BondGraphElementTypes.INERTANCE: 1>, 'node_index': 3, 'max_ports': 1, 'causality': <CausalityTypes.INTEGRAL: 0>, 'params': {'I': 10}, 'node': <bond_graph_nodes.Inertance object at 0x1159a80d0>, 'p': p_3, 'element_label': 'I_3'})]\n",
      "__________________________________________________\n",
      "\n",
      "Node Labels: \n",
      "{0: 'Se_0', 1: '1_1', 2: 'C_2', 3: 'I_3'}\n",
      "\n",
      "Standard Node Order: \n",
      "dict_values(['Se_0', '1_1', 'C_2', 'I_3'])\n",
      "\n",
      "Port Addition Mask: \n",
      "[0 0 1 1 1 1 1 1 1 1]\n",
      "\n",
      " Causal Adjacency Mask: \n",
      "[[0 0 1 0]\n",
      " [1 0 1 0]\n",
      " [0 0 0 0]\n",
      " [0 0 0 0]]\n",
      "18.75% of causal bond actions remain after filtering\n",
      "\n",
      " Power Flow Adjacency Mask: \n",
      "[[0 1 1 1]\n",
      " [0 0 1 1]\n",
      " [0 0 0 0]\n",
      " [0 0 0 0]]\n",
      "31.25% of power flow bond addition actions remain after filtering\n"
     ]
    },
    {
     "data": {
      "image/png": "[encoded data removed]",
      "text/plain": [
       "<Figure size 640x480 with 1 Axes>"
      ]
     },
     "metadata": {},
     "output_type": "display_data"
    }
   ],
   "source": [
    "import networkx as nx\n",
    "import scipy as sp\n",
    "from bond_graph import *\n",
    "import time\n",
    "%reload_ext autoreload\n",
    "%autoreload 2\n",
    "\n",
    "\n",
    "G = BondGraph(max_nodes=20, num_states=2)\n",
    "G.add_element(EffortSource(np.array([1, 2, 3])))\n",
    "G.add_element(OneJunction())\n",
    "G.add_bond(1, 0, power_sign=-1)\n",
    "G.add_element(Capacitance(capacitance=10))\n",
    "G.add_bond(1, 2, power_sign=1)\n",
    "G.add_element(Inertance(inertance=10))\n",
    "G.add_bond(3, 1, power_sign=-1)\n",
    "# G.add_element(Resistance(resistance=10))\n",
    "# G.add_bond(1, 4, power_sign=1)\n",
    "# G.add_element(Capacitance(capacitance=5))\n",
    "# G.add_bond(1, 4, 1)\n",
    "# G.add_element(Capacitance(capacitance=10))\n",
    "\n",
    "# print(list(G.graph.nodes(data=True)))\n",
    "# print(G.graph.nodes['1_1']['node'].element_type)\n",
    "\n",
    "\n",
    "labels = nx.get_node_attributes(G.graph, 'element_label')\n",
    "\n",
    "nx.draw_planar(G.graph, labels=labels, with_labels=True, node_size=1000)\n",
    "\n",
    "## Time to access energy storage elements (custom class vs. networkx)\n",
    "# start = time.time()\n",
    "# energy_storage_elements = G.get_energy_storage_elements()\n",
    "# end = time.time()\n",
    "\n",
    "# print(energy_storage_elements)\n",
    "# print(\"Custom BG Class Elapsed Time: \", end - start)\n",
    "\n",
    "\n",
    "# start = time.time()\n",
    "# energy_storage_elements = [x for x,y in G.graph.nodes(data=True) if y['port_type'] == BondGraphPortTypes.CAPACITANCE or y['port_type'] == BondGraphPortTypes.INERTANCE]\n",
    "# end = time.time()\n",
    "\n",
    "# print(\"Networkx Elapsed Time: \", end - start)\n",
    "# print(energy_storage_elements)\n",
    "\n",
    "# print(G.graph.nodes)\n",
    "# print(nx.to_numpy_array(G.graph))\n",
    "# print(G.get_port_addition_mask())\n",
    "\n",
    "\n",
    "print(\"\\nGraph Node Info: \", G.graph.nodes(data=True))\n",
    "\n",
    "print('_' * 50)\n",
    "print(\"\\nNode Labels: \")\n",
    "print(labels)\n",
    "\n",
    "\n",
    "print(\"\\nStandard Node Order: \")\n",
    "# print(G.graph.nodes)\n",
    "print(labels.values())\n",
    "\n",
    "print(\"\\nPort Addition Mask: \")\n",
    "print(G.get_element_addition_mask())\n",
    "\n",
    "causal_adjacency_mask, power_flow_adjacency_mask = G.get_bond_addition_mask()\n",
    "print(\"\\n Causal Adjacency Mask: \")\n",
    "print(causal_adjacency_mask)\n",
    "percent_fill=np.count_nonzero(causal_adjacency_mask)/np.size(causal_adjacency_mask)\n",
    "print(f\"{percent_fill*100:0.2f}% of causal bond actions remain after filtering\")\n",
    "\n",
    "print(\"\\n Power Flow Adjacency Mask: \")\n",
    "print(power_flow_adjacency_mask)\n",
    "percent_fill=np.count_nonzero(power_flow_adjacency_mask)/np.size(power_flow_adjacency_mask)\n",
    "print(f\"{percent_fill*100:0.2f}% of power flow bond addition actions remain after filtering\")\n",
    "\n"
   ]
  },
  {
   "cell_type": "markdown",
   "metadata": {},
   "source": [
    "## SymPy Testing\n",
    "1. Predefine all symbols at node creation somehow\n",
    "- Global time symbol t owned by BG class\n",
    "2. Define expressions for flow/effort at each node\n",
    "-  Capacitance\n",
    "    - = "
   ]
  },
  {
   "cell_type": "code",
   "execution_count": null,
   "metadata": {},
   "outputs": [],
   "source": []
  },
  {
   "cell_type": "markdown",
   "metadata": {},
   "source": [
    "### EQM Test"
   ]
  },
  {
   "cell_type": "code",
   "execution_count": 146,
   "metadata": {},
   "outputs": [
    {
     "name": "stdout",
     "output_type": "stream",
     "text": [
      "d        p₃\n",
      "──(q₂) = ──\n",
      "dt       I₃\n",
      "d        q₂\n",
      "──(p₃) = ──\n",
      "dt       C₂\n"
     ]
    }
   ],
   "source": [
    "from networkx import *\n",
    "from sympy import *\n",
    "# print(list(G.graph.successors(1)))\n",
    "\n",
    "# predefine all symbols at node creation somehow\n",
    "e0, e1, e2, e3, e4, q2, q4, p3, R4, C2, C4, I3, Se1, t = symbols('e0 e1 e2 e3 e4 q2 q4 p3 R4 C2 C4 I3 Se1 t')\n",
    "\n",
    "# e2 = e1 + e4\n",
    "\n",
    "one_junction_list = [e1, -e4, -e2]\n",
    "\n",
    "p2_equation = Eq(Derivative(q2,t), p3/I3)\n",
    "q3_equation = Eq(Derivative(p3,t), q2/C2)\n",
    "\n",
    "#  - R4*p3/I3\n",
    "pprint(p2_equation)\n",
    "pprint(q3_equation)\n",
    "\n",
    "\n",
    "# e2 = e2.subs(e1, Se1)\n",
    "# e2 = e2.subs(e4 , q4/C4)\n",
    "\n",
    "# print(e2)\n",
    "# print(Derivative(e4, t))"
   ]
  },
  {
   "cell_type": "markdown",
   "metadata": {},
   "source": [
    "### Gym Env Test"
   ]
  },
  {
   "cell_type": "code",
   "execution_count": 1,
   "metadata": {},
   "outputs": [
    {
     "name": "stdout",
     "output_type": "stream",
     "text": [
      "(array([1, 0, 0], dtype=int8), array([1, 1, 1], dtype=int8), array([1, 1], dtype=int8))\n"
     ]
    },
    {
     "data": {
      "text/plain": [
       "array([0, 0, 0])"
      ]
     },
     "execution_count": 1,
     "metadata": {},
     "output_type": "execute_result"
    }
   ],
   "source": [
    "import gymnasium as gym\n",
    "from gymnasium import spaces\n",
    "import numpy as np\n",
    "num_node_types = 3\n",
    "max_nodes = 3\n",
    "\"\"\n",
    "add_edge_or_node = spaces.Discrete(2)\n",
    "node_type_space = spaces.Discrete(num_node_types)\n",
    "mask = (np.array([1, 0, 0], dtype=np.int8), np.array([1, 1, 1] , dtype=np.int8), np.array([1, 1], dtype=np.int8))\n",
    "print(mask)\n",
    "edge_type_space = spaces.MultiDiscrete([max_nodes, max_nodes, 2]) \n",
    "\n",
    "edge_type_space.sample(mask=mask)\n",
    "\n",
    "# action_space = spaces.tuple(node_type_space, edge_type_space)\n",
    "# action_space.sample(num_nodes=1, num_edges=1)\n",
    "\n",
    "        "
   ]
  },
  {
   "cell_type": "code",
   "execution_count": 81,
   "metadata": {},
   "outputs": [
    {
     "name": "stdout",
     "output_type": "stream",
     "text": [
      "False\n"
     ]
    }
   ],
   "source": [
    "from bond_graph_env import *\n",
    "import gymnasium as gym\n",
    "import numpy as np\n",
    "from bond_graph import *\n",
    "\n",
    "max_nodes = 10\n",
    "num_node_types = len(BondGraphElementTypes)\n",
    "add_node_or_edge = spaces.Discrete(2) # 0 for add node, 1 for add edge\n",
    "node_space = spaces.Discrete(num_node_types)        \n",
    "edge_space = spaces.MultiDiscrete([max_nodes, max_nodes, 2]) \n",
    "\n",
    "add_node_or_edge = add_node_or_edge.sample()\n",
    "add_node_or_edge = int(1)\n",
    "# print(edge_space.sample())\n",
    "# print(f\"Add Node or Edge: {add_node_or_edge}\")\n",
    "print(add_edge_or_node == int(1))\n",
    "# if add_node_or_edge == 0:\n",
    "#     print(node_space.sample())\n",
    "# elif add_edge_or_node == 1:\n",
    "#     print(edge_space.sample())"
   ]
  },
  {
   "cell_type": "markdown",
   "metadata": {},
   "source": [
    "### Graph Algorithms Test"
   ]
  },
  {
   "cell_type": "code",
   "execution_count": 14,
   "metadata": {},
   "outputs": [
    {
     "name": "stdout",
     "output_type": "stream",
     "text": [
      "[(2, 3), (2, 4), (2, 6), (6, 7)]\n"
     ]
    },
    {
     "data": {
      "image/png": "[encoded data removed]",
      "text/plain": [
       "<Figure size 640x480 with 1 Axes>"
      ]
     },
     "metadata": {},
     "output_type": "display_data"
    }
   ],
   "source": [
    "import networkx as nx\n",
    "G = nx.DiGraph()\n",
    "G.add_node(0)\n",
    "G.add_node(1)\n",
    "G.add_edge(0,1)\n",
    "H = G.reverse(copy=False)\n",
    "G.add_node(2)\n",
    "G.add_edge(1,2)\n",
    "G.add_node(3)\n",
    "G.add_edge(2,3)\n",
    "G.add_edge(1,2)\n",
    "G.add_edge(1,5)\n",
    "G.add_edge(2,4)\n",
    "G.add_edge(2,6)\n",
    "G.add_edge(6,4)\n",
    "G.add_edge(6,7)\n",
    "\n",
    "\n",
    "print(list(nx.dfs_edges(G, source=2, depth_limit=5)))\n",
    "nx.draw_planar(G, with_labels=True)\n",
    "# nx.draw_planar(H, with_labels=True)"
   ]
  },
  {
   "cell_type": "code",
   "execution_count": null,
   "metadata": {},
   "outputs": [],
   "source": []
  }
 ],
 "metadata": {
  "kernelspec": {
   "display_name": "bond-graph",
   "language": "python",
   "name": "python3"
  },
  "language_info": {
   "codemirror_mode": {
    "name": "ipython",
    "version": 3
   },
   "file_extension": ".py",
   "mimetype": "text/x-python",
   "name": "python",
   "nbconvert_exporter": "python",
   "pygments_lexer": "ipython3",
   "version": "3.11.6"
  },
  "orig_nbformat": 4
 },
 "nbformat": 4,
 "nbformat_minor": 2
}
