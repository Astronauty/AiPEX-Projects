{
 "cells": [
  {
   "cell_type": "code",
   "execution_count": 4,
   "metadata": {},
   "outputs": [
    {
     "ename": "TypeError",
     "evalue": "EffortSource.__init__() missing 1 required positional argument: 'effort_src'",
     "output_type": "error",
     "traceback": [
      "\u001b[1;31m---------------------------------------------------------------------------\u001b[0m",
      "\u001b[1;31mTypeError\u001b[0m                                 Traceback (most recent call last)",
      "\u001b[1;32mc:\\Users\\Daniel\\Documents\\Python Projects\\AiPEX-Projects\\bond-graph-RL\\bond_graph_test.ipynb Cell 1\u001b[0m line \u001b[0;36m6\n\u001b[0;32m      <a href='vscode-notebook-cell:/c%3A/Users/Daniel/Documents/Python%20Projects/AiPEX-Projects/bond-graph-RL/bond_graph_test.ipynb#W5sZmlsZQ%3D%3D?line=3'>4</a>\u001b[0m G \u001b[39m=\u001b[39m BondGraph()\n\u001b[0;32m      <a href='vscode-notebook-cell:/c%3A/Users/Daniel/Documents/Python%20Projects/AiPEX-Projects/bond-graph-RL/bond_graph_test.ipynb#W5sZmlsZQ%3D%3D?line=4'>5</a>\u001b[0m G\u001b[39m.\u001b[39mgraph\u001b[39m.\u001b[39mclear()\n\u001b[1;32m----> <a href='vscode-notebook-cell:/c%3A/Users/Daniel/Documents/Python%20Projects/AiPEX-Projects/bond-graph-RL/bond_graph_test.ipynb#W5sZmlsZQ%3D%3D?line=5'>6</a>\u001b[0m G\u001b[39m.\u001b[39madd_port(EffortSource())\n\u001b[0;32m      <a href='vscode-notebook-cell:/c%3A/Users/Daniel/Documents/Python%20Projects/AiPEX-Projects/bond-graph-RL/bond_graph_test.ipynb#W5sZmlsZQ%3D%3D?line=6'>7</a>\u001b[0m G\u001b[39m.\u001b[39madd_port(OneJunction())\n\u001b[0;32m      <a href='vscode-notebook-cell:/c%3A/Users/Daniel/Documents/Python%20Projects/AiPEX-Projects/bond-graph-RL/bond_graph_test.ipynb#W5sZmlsZQ%3D%3D?line=7'>8</a>\u001b[0m G\u001b[39m.\u001b[39madd_bond(\u001b[39m'\u001b[39m\u001b[39mSe_0\u001b[39m\u001b[39m'\u001b[39m, \u001b[39m'\u001b[39m\u001b[39m1_1\u001b[39m\u001b[39m'\u001b[39m, imposed_causality\u001b[39m=\u001b[39mGeneralizedVariables\u001b[39m.\u001b[39mEFFORT)\n",
      "\u001b[1;31mTypeError\u001b[0m: EffortSource.__init__() missing 1 required positional argument: 'effort_src'"
     ]
    }
   ],
   "source": [
    "import networkx as nx\n",
    "from bond_graph import *\n",
    "\n",
    "G = BondGraph()\n",
    "G.graph.clear()\n",
    "G.add_port(EffortSource())\n",
    "G.add_port(OneJunction())\n",
    "G.add_bond('Se_0', '1_1', imposed_causality=GeneralizedVariables.EFFORT)\n",
    "G.add_port(Capacitance(1))\n",
    "G.add_bond('1_1', 'C_2', imposed_causality=GeneralizedVariables.FLOW)\n",
    "G.add_port(Inertance(10))\n",
    "G.add_bond('1_1', 'I_3', imposed_causality=GeneralizedVariables.FLOW)\n",
    "print(G.graph)\n",
    "\n",
    "# print(G.graph.nodes['1_1'])\n",
    "\n",
    "print(list(G.graph.nodes(data=true)))\n",
    "nx.draw(G.graph, with_labels=True)\n",
    "print(G.get_num_energy_storage_elements())\n"
   ]
  },
  {
   "cell_type": "code",
   "execution_count": null,
   "metadata": {},
   "outputs": [],
   "source": [
    "from sympy import *\n",
    "\n",
    "params = {\"x\":1, \"y\":2}\n",
    "vars = symbols(list(params.keys()))\n",
    "\n",
    "print(y)\n",
    "# for key, value in enumerate(params):\n",
    "#     vars[key] = params[key]\n"
   ]
  },
  {
   "cell_type": "code",
   "execution_count": 15,
   "metadata": {},
   "outputs": [
    {
     "name": "stdout",
     "output_type": "stream",
     "text": [
      "[(0, 1), (0, 2), (1, 0), (1, 2), (2, 0), (2, 1)]\n"
     ]
    }
   ],
   "source": [
    "\n",
    "import itertools\n",
    "from itertools import permutations \n",
    "\n",
    "max_nodes = 3\n",
    "possible_edge_list = permutations(range(max_nodes), 2)\n",
    "\n",
    "print(list(possible_edge_list))"
   ]
  },
  {
   "cell_type": "code",
   "execution_count": 33,
   "metadata": {},
   "outputs": [
    {
     "name": "stdout",
     "output_type": "stream",
     "text": [
      "3\n"
     ]
    }
   ],
   "source": [
    "import networkx as nx\n",
    "G = nx.DiGraph()\n",
    "G.add_node(1, x={'a':1, 'b':2})\n",
    "G.add_node(2)\n",
    "G.add_node(3, bond_type='causal')\n",
    "\n",
    "print(len(G.nodes))\n",
    "# print(list(G.nodes.data()))\n",
    "# for node_data in G.nodes.data():\n",
    "#     print(node_data)"
   ]
  },
  {
   "cell_type": "code",
   "execution_count": 6,
   "metadata": {},
   "outputs": [
    {
     "name": "stdout",
     "output_type": "stream",
     "text": [
      "(array([1, 0, 0], dtype=int8), array([1, 1, 1], dtype=int8), array([1, 1], dtype=int8))\n"
     ]
    },
    {
     "data": {
      "text/plain": [
       "array([0, 0, 0], dtype=int64)"
      ]
     },
     "execution_count": 6,
     "metadata": {},
     "output_type": "execute_result"
    }
   ],
   "source": [
    "import gymnasium as gym\n",
    "from gymnasium import spaces\n",
    "import numpy as np\n",
    "num_node_types = 3\n",
    "max_nodes = 3\n",
    "\"\"\n",
    "add_edge_or_node = spaces.Discrete(2)\n",
    "node_type_space = spaces.Discrete(num_node_types)\n",
    "mask = (np.array([1, 0, 0], dtype=np.int8), np.array([1, 1, 1] , dtype=np.int8), np.array([1, 1], dtype=np.int8))\n",
    "print(mask)\n",
    "edge_type_space = spaces.MultiDiscrete([max_nodes, max_nodes, 2]) \n",
    "\n",
    "edge_type_space.sample(mask=mask)\n",
    "\n",
    "# action_space = spaces.tuple(node_type_space, edge_type_space)\n",
    "# action_space.sample(num_nodes=1, num_edges=1)\n",
    "\n",
    "        "
   ]
  },
  {
   "cell_type": "code",
   "execution_count": 13,
   "metadata": {},
   "outputs": [
    {
     "name": "stdout",
     "output_type": "stream",
     "text": [
      "Derivative(p, t)\n"
     ]
    }
   ],
   "source": [
    "from sympy import *\n",
    "e, f, q, p, t = symbols('e f q p t')\n",
    "\n",
    "f = Derivative(p, t)\n",
    "print(f)\n"
   ]
  },
  {
   "cell_type": "code",
   "execution_count": null,
   "metadata": {},
   "outputs": [],
   "source": []
  }
 ],
 "metadata": {
  "kernelspec": {
   "display_name": "bond-graph",
   "language": "python",
   "name": "python3"
  },
  "language_info": {
   "codemirror_mode": {
    "name": "ipython",
    "version": 3
   },
   "file_extension": ".py",
   "mimetype": "text/x-python",
   "name": "python",
   "nbconvert_exporter": "python",
   "pygments_lexer": "ipython3",
   "version": "3.11.6"
  },
  "orig_nbformat": 4
 },
 "nbformat": 4,
 "nbformat_minor": 2
}
