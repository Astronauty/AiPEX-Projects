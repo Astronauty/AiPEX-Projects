{
 "cells": [
  {
   "cell_type": "code",
   "execution_count": 29,
   "metadata": {},
   "outputs": [],
   "source": [
    "import networkx as nx\n",
    "from sympy import *\n",
    "from bond_graph import *\n",
    "import time\n",
    "%reload_ext autoreload\n",
    "%autoreload 2\n"
   ]
  },
  {
   "cell_type": "code",
   "execution_count": 1,
   "metadata": {},
   "outputs": [
    {
     "name": "stdout",
     "output_type": "stream",
     "text": [
      "\n",
      "Node Labels: \n",
      "{0: 'Se_0', 1: '1_1', 2: 'C_2', 3: 'I_3', 4: '0_4', 5: 'C_5', 6: 'I_6'}\n",
      "\n",
      "Standard Node Order: \n",
      "dict_values(['Se_0', '1_1', 'C_2', 'I_3', '0_4', 'C_5', 'I_6'])\n",
      "\n",
      "Port Addition Mask: \n",
      "[0 0 1 1 1 1 1 1 1]\n",
      "\n",
      " Causal Adjacency Mask: \n",
      "[[0 0 0 0 0 0 0]\n",
      " [0 1 1 0 1 1 0]\n",
      " [0 0 0 0 0 0 0]\n",
      " [0 0 0 0 0 0 0]\n",
      " [0 1 1 0 1 1 0]\n",
      " [0 0 0 0 0 0 0]\n",
      " [0 0 0 0 0 0 0]]\n",
      "16.3265306122449% of causal bond actions remain after filtering\n",
      "\n",
      " Power Flow Adjacency Mask: \n",
      "[[0 1 1 1 1 1 1]\n",
      " [0 1 1 1 1 1 1]\n",
      " [0 0 0 0 0 0 0]\n",
      " [0 0 0 0 0 0 0]\n",
      " [0 1 1 1 1 1 1]\n",
      " [0 0 0 0 0 0 0]\n",
      " [0 0 0 0 0 0 0]]\n",
      "36.734693877551024% of power flow bond addition actions remain after filtering\n",
      "\n",
      "Unmasked Number of Bond Addition Actions:  2401\n",
      "Masked Number of Bond Addition Actions:  144\n",
      "Percentage of Original Action Space: 5.99750104123282%\n"
     ]
    },
    {
     "data": {
      "image/png": "[encoded data removed]",
      "text/plain": [
       "<Figure size 640x480 with 1 Axes>"
      ]
     },
     "metadata": {},
     "output_type": "display_data"
    }
   ],
   "source": [
    "G = BondGraph(max_nodes=20, num_states=4)\n",
    "G.add_element(EffortSource(np.array([1, 2, 3])))\n",
    "G.add_element(OneJunction())\n",
    "G.add_bond(0, 1, 1)\n",
    "G.add_element(Capacitance(capacitance=10))\n",
    "G.add_bond(1, 2, 1)\n",
    "G.add_element(Inertance(inertance=10))\n",
    "G.add_bond(3, 1, -1)\n",
    "G.add_element(ZeroJunction())\n",
    "G.add_bond(4, 1, -1)\n",
    "G.add_element(Capacitance(capacitance=10))\n",
    "G.add_element(Inertance(inertance=10))\n",
    "G.add_bond(4, 5, 1)\n",
    "G.add_bond(6, 4, -1)\n",
    "# G.add_element(Capacitance(capacitance=10))\n",
    "\n",
    "# print(list(G.graph.nodes(data=True)))\n",
    "# print(G.graph.nodes['1_1']['node'].element_type)\n",
    "\n",
    "\n",
    "labels = nx.get_node_attributes(G.graph, 'element_label')\n",
    "\n",
    "nx.draw(G.graph, labels=labels, with_labels=True, node_size=1000)\n",
    "\n",
    "## Time to access energy storage elements (custom class vs. networkx)\n",
    "# start = time.time()\n",
    "# energy_storage_elements = G.get_energy_storage_elements()\n",
    "# end = time.time()\n",
    "\n",
    "# print(energy_storage_elements)\n",
    "# print(\"Custom BG Class Elapsed Time: \", end - start)\n",
    "\n",
    "\n",
    "# start = time.time()\n",
    "# energy_storage_elements = [x for x,y in G.graph.nodes(data=True) if y['port_type'] == BondGraphPortTypes.CAPACITANCE or y['port_type'] == BondGraphPortTypes.INERTANCE]\n",
    "# end = time.time()\n",
    "\n",
    "# print(\"Networkx Elapsed Time: \", end - start)\n",
    "# print(energy_storage_elements)\n",
    "\n",
    "# print(G.graph.nodes)\n",
    "# print(nx.to_numpy_array(G.graph))\n",
    "# print(G.get_port_addition_mask())\n",
    "\n",
    "print(\"\\nNode Labels: \")\n",
    "print(labels)\n",
    "\n",
    "\n",
    "print(\"\\nStandard Node Order: \")\n",
    "# print(G.graph.nodes)\n",
    "print(labels.values())\n",
    "\n",
    "print(\"\\nPort Addition Mask: \")\n",
    "print(G.get_element_addition_mask())\n",
    "\n",
    "causal_adjacency_mask, power_flow_adjacency_mask = G.get_bond_addition_mask()\n",
    "print(\"\\n Causal Adjacency Mask: \")\n",
    "print(causal_adjacency_mask)\n",
    "percent_fill=np.count_nonzero(causal_adjacency_mask)/np.size(causal_adjacency_mask)\n",
    "print(f\"{percent_fill*100}% of causal bond actions remain after filtering\")\n",
    "\n",
    "print(\"\\n Power Flow Adjacency Mask: \")\n",
    "print(power_flow_adjacency_mask)\n",
    "percent_fill=np.count_nonzero(power_flow_adjacency_mask)/np.size(power_flow_adjacency_mask)\n",
    "print(f\"{percent_fill*100}% of power flow bond addition actions remain after filtering\")\n",
    "\n",
    "print(\"\\nUnmasked Number of Bond Addition Actions: \", np.size(causal_adjacency_mask)*np.size(power_flow_adjacency_mask))\n",
    "print(\"Masked Number of Bond Addition Actions: \", np.count_nonzero(causal_adjacency_mask) * np.count_nonzero(power_flow_adjacency_mask))\n",
    "print(f\"Percentage of Original Action Space: {(np.count_nonzero(causal_adjacency_mask) * np.count_nonzero(power_flow_adjacency_mask))/(np.size(causal_adjacency_mask)*np.size(power_flow_adjacency_mask))*100}%\")\n"
   ]
  },
  {
   "cell_type": "code",
   "execution_count": null,
   "metadata": {},
   "outputs": [],
   "source": [
    "from sympy import *\n",
    "\n",
    "params = {\"x\":1, \"y\":2}\n",
    "vars = symbols(list(params.keys()))\n",
    "\n",
    "print(y)\n",
    "# for key, value in enumerate(params):\n",
    "#     vars[key] = params[key]\n"
   ]
  },
  {
   "cell_type": "code",
   "execution_count": 15,
   "metadata": {},
   "outputs": [
    {
     "name": "stdout",
     "output_type": "stream",
     "text": [
      "[(0, 1), (0, 2), (1, 0), (1, 2), (2, 0), (2, 1)]\n"
     ]
    }
   ],
   "source": [
    "\n",
    "import itertools\n",
    "from itertools import permutations \n",
    "\n",
    "max_nodes = 3\n",
    "possible_edge_list = permutations(range(max_nodes), 2)\n",
    "\n",
    "print(list(possible_edge_list))"
   ]
  },
  {
   "cell_type": "code",
   "execution_count": 11,
   "metadata": {},
   "outputs": [
    {
     "name": "stdout",
     "output_type": "stream",
     "text": [
      "[1, 2, 3]\n"
     ]
    }
   ],
   "source": [
    "import networkx as nx\n",
    "G = nx.DiGraph()\n",
    "G.add_node(1, x={'a':1, 'b':2})\n",
    "G.add_node(2)\n",
    "G.add_node(3, bond_type='causal')\n",
    "\n",
    "print(G.nodes)\n",
    "\n",
    "# print(list(G.nodes.data()))\n",
    "# for node_data in G.nodes.data():\n",
    "#     print(node_data)"
   ]
  },
  {
   "cell_type": "code",
   "execution_count": 183,
   "metadata": {},
   "outputs": [
    {
     "name": "stdout",
     "output_type": "stream",
     "text": [
      "(array([1, 0, 0], dtype=int8), array([1, 1, 1], dtype=int8), array([1, 1], dtype=int8))\n"
     ]
    },
    {
     "data": {
      "text/plain": [
       "array([0, 2, 0])"
      ]
     },
     "execution_count": 183,
     "metadata": {},
     "output_type": "execute_result"
    }
   ],
   "source": [
    "import gymnasium as gym\n",
    "from gymnasium import spaces\n",
    "import numpy as np\n",
    "num_node_types = 3\n",
    "max_nodes = 3\n",
    "\"\"\n",
    "add_edge_or_node = spaces.Discrete(2)\n",
    "node_type_space = spaces.Discrete(num_node_types)\n",
    "mask = (np.array([1, 0, 0], dtype=np.int8), np.array([1, 1, 1] , dtype=np.int8), np.array([1, 1], dtype=np.int8))\n",
    "print(mask)\n",
    "edge_type_space = spaces.MultiDiscrete([max_nodes, max_nodes, 2]) \n",
    "\n",
    "edge_type_space.sample(mask=mask)\n",
    "\n",
    "# action_space = spaces.tuple(node_type_space, edge_type_space)\n",
    "# action_space.sample(num_nodes=1, num_edges=1)\n",
    "\n",
    "        "
   ]
  },
  {
   "cell_type": "code",
   "execution_count": 12,
   "metadata": {},
   "outputs": [
    {
     "name": "stdout",
     "output_type": "stream",
     "text": [
      "None\n",
      "{}\n"
     ]
    }
   ],
   "source": [
    "\n"
   ]
  },
  {
   "cell_type": "code",
   "execution_count": 37,
   "metadata": {},
   "outputs": [
    {
     "name": "stdout",
     "output_type": "stream",
     "text": [
      "[[1 1 1 1 1]\n",
      " [1 1 1 1 1]\n",
      " [1 1 1 1 1]\n",
      " [1 1 1 1 1]\n",
      " [1 1 1 1 1]]\n",
      "[[1 1 1 1 1]\n",
      " [0 0 0 0 0]\n",
      " [1 1 1 1 1]\n",
      " [1 1 1 1 1]\n",
      " [1 1 1 1 1]]\n"
     ]
    }
   ],
   "source": []
  },
  {
   "cell_type": "code",
   "execution_count": 104,
   "metadata": {},
   "outputs": [
    {
     "name": "stdout",
     "output_type": "stream",
     "text": [
      "[Eq(Se_0, e_1:0), Eq(-e_3:1, e_1:0 - e_1:2 - e_1:4), Eq(f_3:1, f_1:0), Eq(f_3:1, f_1:2), Eq(f_3:1, f_1:4), Eq(e_1:2, q_2/10), Eq(q_dot_2, f_1:2), Eq(f_3:1, p_3/10), Eq(q_dot_3, e_3:1), Eq(e_1:4, 2*f_1:4)]\n"
     ]
    },
    {
     "data": {
      "text/plain": [
       "[2, 3]"
      ]
     },
     "execution_count": 104,
     "metadata": {},
     "output_type": "execute_result"
    },
    {
     "data": {
      "image/png": "[encoded data removed]",
      "text/plain": [
       "<Figure size 640x480 with 1 Axes>"
      ]
     },
     "metadata": {},
     "output_type": "display_data"
    }
   ],
   "source": [
    "# Initialize bond graph\n",
    "G = BondGraph(max_nodes=20, num_states=4)\n",
    "G.add_element(EffortSource(np.array([1, 2, 3])))\n",
    "G.add_element(OneJunction())\n",
    "G.add_bond(1, 0, -1)\n",
    "G.add_element(Capacitance(capacitance=10))\n",
    "G.add_bond(1, 2, 1)\n",
    "G.add_element(Inertance(inertance=10))\n",
    "G.add_bond(3, 1, -1)\n",
    "G.add_element(Resistance(resistance=2))\n",
    "G.add_bond(1, 4, 1)\n",
    "\n",
    "\n",
    "\n",
    "# Draw the bond graph with labels\n",
    "labels = nx.get_node_attributes(G.flow_causal_graph, 'element_label')\n",
    "nx.draw(G.flow_causal_graph, labels=labels, with_labels=True, node_size=1000)\n",
    "\n",
    "expr = []\n",
    "for node in G.flow_causal_graph.nodes:\n",
    "    expr += G.derive_constitutive_laws(node)\n",
    "    \n",
    "print(expr)\n",
    "\n",
    "\n",
    "G.get_energy_storage_elements()\n",
    "# G.get_state_space_matrix()"
   ]
  },
  {
   "cell_type": "code",
   "execution_count": null,
   "metadata": {},
   "outputs": [],
   "source": []
  },
  {
   "cell_type": "code",
   "execution_count": null,
   "metadata": {},
   "outputs": [],
   "source": []
  },
  {
   "cell_type": "code",
   "execution_count": 128,
   "metadata": {},
   "outputs": [
    {
     "data": {
      "text/latex": [
       "$\\displaystyle e_{2:4} = v + 5$"
      ],
      "text/plain": [
       "Eq(e_2:4, v + 5)"
      ]
     },
     "execution_count": 128,
     "metadata": {},
     "output_type": "execute_result"
    }
   ],
   "source": [
    "u = 2\n",
    "v = 4\n",
    "e = Symbol(f\"e_{u}:{v}\")\n",
    "v = Symbol('v')\n",
    "\n",
    "Eq(e, sum((v, 0, 5)))\n"
   ]
  },
  {
   "cell_type": "code",
   "execution_count": 90,
   "metadata": {},
   "outputs": [
    {
     "name": "stdout",
     "output_type": "stream",
     "text": [
      "1 2 3 4 5\n"
     ]
    }
   ],
   "source": [
    "a = [1, 2, 3]\n",
    "b = [4, 5]\n",
    "print(*a, *b)"
   ]
  }
 ],
 "metadata": {
  "kernelspec": {
   "display_name": "bond-graph",
   "language": "python",
   "name": "python3"
  },
  "language_info": {
   "codemirror_mode": {
    "name": "ipython",
    "version": 3
   },
   "file_extension": ".py",
   "mimetype": "text/x-python",
   "name": "python",
   "nbconvert_exporter": "python",
   "pygments_lexer": "ipython3",
   "version": "3.11.6"
  },
  "orig_nbformat": 4
 },
 "nbformat": 4,
 "nbformat_minor": 2
}
