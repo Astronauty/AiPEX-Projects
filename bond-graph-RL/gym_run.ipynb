{
 "cells": [
  {
   "cell_type": "code",
   "execution_count": 36,
   "metadata": {},
   "outputs": [],
   "source": [
    "import gym_bondgraph\n",
    "import gymnasium as gym\n",
    "from bond_graph import *\n",
    "\n",
    "%reload_ext autoreload\n",
    "%autoreload 2"
   ]
  },
  {
   "cell_type": "code",
   "execution_count": 37,
   "metadata": {},
   "outputs": [
    {
     "data": {
      "image/png": "[encoded data removed]",
      "text/plain": [
       "<Figure size 640x480 with 1 Axes>"
      ]
     },
     "metadata": {},
     "output_type": "display_data"
    }
   ],
   "source": [
    "t_span = [0, 10]\n",
    "time_array = np.linspace(t_span[0], t_span[1], 500)\n",
    "\n",
    "s0 = BondGraph(max_nodes=10, max_states=4, time_array=time_array)\n",
    "s0.add_element(EffortSource())\n",
    "s0.add_element(Capacitance(0.1))\n",
    "# s0.add_bond(1, 0, 1)\n",
    "\n",
    "labels = nx.get_node_attributes(s0.flow_causal_graph, 'element_label')\n",
    "nx.draw(s0.flow_causal_graph, labels=labels, with_labels=True, node_size=1000)\n"
   ]
  },
  {
   "cell_type": "code",
   "execution_count": 38,
   "metadata": {},
   "outputs": [],
   "source": [
    "max_nodes = 20\n",
    "default_params = {\n",
    "    'R': 1,\n",
    "    'I': 1,\n",
    "    'C': 1,\n",
    "}\n",
    "env = gym.make('gym_bondgraph/BondGraphEnv-v4',  seed=420, seed_graph=s0, max_nodes=max_nodes, default_params=default_params)"
   ]
  },
  {
   "cell_type": "code",
   "execution_count": 39,
   "metadata": {},
   "outputs": [
    {
     "name": "stdout",
     "output_type": "stream",
     "text": [
      "Causal Adjacency Mask: \n",
      " [[0 0 0 0 0 0 0 0 0 0]\n",
      " [1 0 0 0 0 0 0 0 0 0]\n",
      " [0 0 0 0 0 0 0 0 0 0]\n",
      " [0 0 0 0 0 0 0 0 0 0]\n",
      " [0 0 0 0 0 0 0 0 0 0]\n",
      " [0 0 0 0 0 0 0 0 0 0]\n",
      " [0 0 0 0 0 0 0 0 0 0]\n",
      " [0 0 0 0 0 0 0 0 0 0]\n",
      " [0 0 0 0 0 0 0 0 0 0]\n",
      " [0 0 0 0 0 0 0 0 0 0]]\n",
      "\n",
      "Power Flow Adjacency Mask: \n",
      " [[0 1 1 1 1 1 1 1 1 1]\n",
      " [0 0 0 0 0 0 0 0 0 0]\n",
      " [0 1 0 1 1 1 1 1 1 1]\n",
      " [0 1 1 0 1 1 1 1 1 1]\n",
      " [0 1 1 1 0 1 1 1 1 1]\n",
      " [0 1 1 1 1 0 1 1 1 1]\n",
      " [0 1 1 1 1 1 0 1 1 1]\n",
      " [0 1 1 1 1 1 1 0 1 1]\n",
      " [0 1 1 1 1 1 1 1 0 1]\n",
      " [0 1 1 1 1 1 1 1 1 0]]\n",
      "\n",
      "Action:  {'node_or_bond': 1, 'node_type': 1, 'bond': [1, 0, 0]}\n"
     ]
    },
    {
     "name": "stderr",
     "output_type": "stream",
     "text": [
      "/opt/homebrew/Caskroom/miniconda/base/envs/bond-graph/lib/python3.11/site-packages/gymnasium/utils/passive_env_checker.py:188: UserWarning: \u001b[33mWARN: The obs returned by the `step()` method is not within the observation space.\u001b[0m\n",
      "  logger.warn(f\"{pre} is not within the observation space.\")\n"
     ]
    }
   ],
   "source": [
    "env.reset()\n",
    "# action = env.action_space.sample()\n",
    "action = {\n",
    "    'node_or_bond': 1, # 0 for add node, 1 for add edge\n",
    "    \"node_type\": 1,\n",
    "    \"bond\": [1, 0, 0], # 0 for negative bond sign, 1 for positive\n",
    "    }\n",
    "\n",
    "causal_adjacency_mask, power_flow_adjacency_mask = env.bond_graph.get_bond_addition_mask()\n",
    "\n",
    "print(\"Causal Adjacency Mask: \\n\", causal_adjacency_mask)\n",
    "print()\n",
    "print(\"Power Flow Adjacency Mask: \\n\", power_flow_adjacency_mask)\n",
    "print()\n",
    "\n",
    "print(\"Action: \", action)\n",
    "\n",
    "\n",
    "\n",
    "observation, reward, terminated, terminated, info = env.step(action)\n"
   ]
  },
  {
   "cell_type": "code",
   "execution_count": null,
   "metadata": {},
   "outputs": [],
   "source": []
  },
  {
   "cell_type": "code",
   "execution_count": 40,
   "metadata": {},
   "outputs": [
    {
     "name": "stdout",
     "output_type": "stream",
     "text": [
      "Observation:  {'node_feature_space': array([3, 0]), 'adjacency_matrix_space': array([[0, 0],\n",
      "       [0, 0]], dtype=int32)}\n",
      "Reward:  -100\n"
     ]
    }
   ],
   "source": [
    "print(\"Observation: \", observation)\n",
    "print(\"Reward: \", reward)"
   ]
  },
  {
   "cell_type": "code",
   "execution_count": 41,
   "metadata": {},
   "outputs": [
    {
     "name": "stdout",
     "output_type": "stream",
     "text": [
      "Action:  {'node_or_bond': 0, 'node_type': 1, 'bond': [0, 1, 1]}\n",
      "Observation:  {'node_feature_space': array([3, 0, 1]), 'adjacency_matrix_space': array([[0, 0, 0],\n",
      "       [0, 0, 0],\n",
      "       [0, 0, 0]], dtype=int32)}\n",
      "Reward:  -1\n"
     ]
    }
   ],
   "source": [
    "# action = env.action_space.sample()\n",
    "action = {\n",
    "    'node_or_bond': 0, # 0 for add node, 1 for add edge\n",
    "    \"node_type\": 1,\n",
    "    \"bond\": [0, 1, 1],\n",
    "    }\n",
    "print(\"Action: \", action)\n",
    "\n",
    "observation, reward, terminated, terminated, info = env.step(action)\n",
    "print(\"Observation: \", observation)\n",
    "print(\"Reward: \", reward)"
   ]
  },
  {
   "cell_type": "code",
   "execution_count": 42,
   "metadata": {},
   "outputs": [
    {
     "data": {
      "image/png": "[encoded data removed]",
      "text/plain": [
       "<Figure size 640x480 with 1 Axes>"
      ]
     },
     "metadata": {},
     "output_type": "display_data"
    }
   ],
   "source": [
    "labels = nx.get_node_attributes(env.bond_graph.flow_causal_graph, 'element_label')\n",
    "nx.draw(env.bond_graph.flow_causal_graph, labels=labels, with_labels=True, node_size=1000)"
   ]
  },
  {
   "cell_type": "code",
   "execution_count": null,
   "metadata": {},
   "outputs": [],
   "source": []
  },
  {
   "cell_type": "code",
   "execution_count": null,
   "metadata": {},
   "outputs": [],
   "source": []
  }
 ],
 "metadata": {
  "kernelspec": {
   "display_name": "bond-graph",
   "language": "python",
   "name": "python3"
  },
  "language_info": {
   "codemirror_mode": {
    "name": "ipython",
    "version": 3
   },
   "file_extension": ".py",
   "mimetype": "text/x-python",
   "name": "python",
   "nbconvert_exporter": "python",
   "pygments_lexer": "ipython3",
   "version": "3.11.6"
  }
 },
 "nbformat": 4,
 "nbformat_minor": 2
}
