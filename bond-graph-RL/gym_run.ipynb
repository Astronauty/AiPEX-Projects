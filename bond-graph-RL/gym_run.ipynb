{
 "cells": [
  {
   "cell_type": "code",
   "execution_count": 4,
   "metadata": {},
   "outputs": [],
   "source": [
    "import gym_bondgraph\n",
    "import gymnasium as gym\n",
    "from bond_graph import *\n",
    "\n",
    "%reload_ext autoreload\n",
    "%autoreload 2"
   ]
  },
  {
   "cell_type": "code",
   "execution_count": 5,
   "metadata": {},
   "outputs": [
    {
     "ename": "AssertionError",
     "evalue": "",
     "output_type": "error",
     "traceback": [
      "\u001b[1;31m---------------------------------------------------------------------------\u001b[0m",
      "\u001b[1;31mAssertionError\u001b[0m                            Traceback (most recent call last)",
      "\u001b[1;32mc:\\Users\\Daniel\\Documents\\Python Projects\\AiPEX-Projects\\bond-graph-RL\\gym_run.ipynb Cell 2\u001b[0m line \u001b[0;36m5\n\u001b[0;32m      <a href='vscode-notebook-cell:/c%3A/Users/Daniel/Documents/Python%20Projects/AiPEX-Projects/bond-graph-RL/gym_run.ipynb#W2sZmlsZQ%3D%3D?line=1'>2</a>\u001b[0m time_array \u001b[39m=\u001b[39m np\u001b[39m.\u001b[39mlinspace(t_span[\u001b[39m0\u001b[39m], t_span[\u001b[39m1\u001b[39m], \u001b[39m500\u001b[39m)\n\u001b[0;32m      <a href='vscode-notebook-cell:/c%3A/Users/Daniel/Documents/Python%20Projects/AiPEX-Projects/bond-graph-RL/gym_run.ipynb#W2sZmlsZQ%3D%3D?line=3'>4</a>\u001b[0m s0 \u001b[39m=\u001b[39m BondGraph(max_nodes\u001b[39m=\u001b[39m\u001b[39m20\u001b[39m, num_states\u001b[39m=\u001b[39m\u001b[39m4\u001b[39m, time_array\u001b[39m=\u001b[39mtime_array)\n\u001b[1;32m----> <a href='vscode-notebook-cell:/c%3A/Users/Daniel/Documents/Python%20Projects/AiPEX-Projects/bond-graph-RL/gym_run.ipynb#W2sZmlsZQ%3D%3D?line=4'>5</a>\u001b[0m s0\u001b[39m.\u001b[39;49madd_element(EffortSource())\n\u001b[0;32m      <a href='vscode-notebook-cell:/c%3A/Users/Daniel/Documents/Python%20Projects/AiPEX-Projects/bond-graph-RL/gym_run.ipynb#W2sZmlsZQ%3D%3D?line=5'>6</a>\u001b[0m s0\u001b[39m.\u001b[39madd_element(Capacitance(\u001b[39m0.1\u001b[39m))\n\u001b[0;32m      <a href='vscode-notebook-cell:/c%3A/Users/Daniel/Documents/Python%20Projects/AiPEX-Projects/bond-graph-RL/gym_run.ipynb#W2sZmlsZQ%3D%3D?line=7'>8</a>\u001b[0m labels \u001b[39m=\u001b[39m nx\u001b[39m.\u001b[39mget_node_attributes(s0\u001b[39m.\u001b[39mflow_causal_graph, \u001b[39m'\u001b[39m\u001b[39melement_label\u001b[39m\u001b[39m'\u001b[39m)\n",
      "File \u001b[1;32mc:\\Users\\Daniel\\Documents\\Python Projects\\AiPEX-Projects\\bond-graph-RL\\bond_graph.py:110\u001b[0m, in \u001b[0;36mBondGraph.add_element\u001b[1;34m(self, node)\u001b[0m\n\u001b[0;32m    106\u001b[0m \u001b[39mself\u001b[39m\u001b[39m.\u001b[39mflow_causal_graph\u001b[39m.\u001b[39mnodes[node_index][\u001b[39m'\u001b[39m\u001b[39melement_label\u001b[39m\u001b[39m'\u001b[39m] \u001b[39m=\u001b[39m element_label\n\u001b[0;32m    108\u001b[0m \u001b[39mself\u001b[39m\u001b[39m.\u001b[39mi \u001b[39m+\u001b[39m\u001b[39m=\u001b[39m \u001b[39m1\u001b[39m\n\u001b[1;32m--> 110\u001b[0m \u001b[39mself\u001b[39;49m\u001b[39m.\u001b[39;49mupdate_state_space_matrix(verbose\u001b[39m=\u001b[39;49m\u001b[39mFalse\u001b[39;49;00m)\n\u001b[0;32m    112\u001b[0m \u001b[39mpass\u001b[39;00m\n",
      "File \u001b[1;32mc:\\Users\\Daniel\\Documents\\Python Projects\\AiPEX-Projects\\bond-graph-RL\\bond_graph.py:373\u001b[0m, in \u001b[0;36mBondGraph.update_state_space_matrix\u001b[1;34m(self, verbose)\u001b[0m\n\u001b[0;32m    371\u001b[0m system_equations \u001b[39m=\u001b[39m []\n\u001b[0;32m    372\u001b[0m \u001b[39mfor\u001b[39;00m node \u001b[39min\u001b[39;00m \u001b[39mself\u001b[39m\u001b[39m.\u001b[39mflow_causal_graph\u001b[39m.\u001b[39mnodes:\n\u001b[1;32m--> 373\u001b[0m     system_equations \u001b[39m+\u001b[39m\u001b[39m=\u001b[39m \u001b[39mself\u001b[39;49m\u001b[39m.\u001b[39;49mconstitutive_laws(node)\n\u001b[0;32m    375\u001b[0m energy_storage_nodes \u001b[39m=\u001b[39m \u001b[39mself\u001b[39m\u001b[39m.\u001b[39mget_energy_storage_elements()\n\u001b[0;32m    377\u001b[0m \u001b[39mfor\u001b[39;00m energy_storage_node \u001b[39min\u001b[39;00m energy_storage_nodes:\n",
      "File \u001b[1;32mc:\\Users\\Daniel\\Documents\\Python Projects\\AiPEX-Projects\\bond-graph-RL\\bond_graph.py:312\u001b[0m, in \u001b[0;36mBondGraph.constitutive_laws\u001b[1;34m(self, node_index)\u001b[0m\n\u001b[0;32m    269\u001b[0m num_effort_successors \u001b[39m=\u001b[39m \u001b[39mlen\u001b[39m(effort_successors)\n\u001b[0;32m    273\u001b[0m expr \u001b[39m=\u001b[39m []\n\u001b[0;32m    275\u001b[0m \u001b[39mmatch\u001b[39;00m node[\u001b[39m'\u001b[39m\u001b[39melement_type\u001b[39m\u001b[39m'\u001b[39m]:\n\u001b[0;32m    276\u001b[0m     \u001b[39mcase\u001b[39;00m BondGraphElementTypes\u001b[39m.\u001b[39mCAPACITANCE:\n\u001b[0;32m    277\u001b[0m         \u001b[39massert\u001b[39;00m num_flow_predecessors \u001b[39m==\u001b[39m \u001b[39m1\u001b[39m\n\u001b[0;32m    278\u001b[0m         \n\u001b[0;32m    279\u001b[0m         attached_bond \u001b[39m=\u001b[39m \u001b[39mlist\u001b[39m(\u001b[39mself\u001b[39m\u001b[39m.\u001b[39mflow_causal_graph\u001b[39m.\u001b[39min_edges(node_index, data\u001b[39m=\u001b[39m\u001b[39mTrue\u001b[39;00m))[\u001b[39m0\u001b[39m]\n\u001b[0;32m    280\u001b[0m         \n\u001b[0;32m    281\u001b[0m         \u001b[39m# Contitutive law (integral causality): e = q/C\u001b[39;00m\n\u001b[0;32m    282\u001b[0m         expr\u001b[39m.\u001b[39mappend(Eq(attached_bond[EDGE_ATTRIBUTE_DICTIONARY_INDEX][\u001b[39m'\u001b[39m\u001b[39me\u001b[39m\u001b[39m'\u001b[39m] , node[\u001b[39m'\u001b[39m\u001b[39mq\u001b[39m\u001b[39m'\u001b[39m]\u001b[39m/\u001b[39mnode[\u001b[39m'\u001b[39m\u001b[39mparams\u001b[39m\u001b[39m'\u001b[39m][\u001b[39m'\u001b[39m\u001b[39mC\u001b[39m\u001b[39m'\u001b[39m]))\n\u001b[0;32m    283\u001b[0m         \n\u001b[0;32m    284\u001b[0m         \u001b[39m# Co-energy equality: set the derivative of the displacement equal to the flow attribute of the connecting bond\u001b[39;00m\n\u001b[0;32m    285\u001b[0m         expr\u001b[39m.\u001b[39mappend(Eq(node[\u001b[39m'\u001b[39m\u001b[39mq_dot\u001b[39m\u001b[39m'\u001b[39m], attached_bond[EDGE_ATTRIBUTE_DICTIONARY_INDEX][\u001b[39m'\u001b[39m\u001b[39mf\u001b[39m\u001b[39m'\u001b[39m]))\n\u001b[0;32m    286\u001b[0m \n\u001b[0;32m    287\u001b[0m     \u001b[39mcase\u001b[39;00m BondGraphElementTypes\u001b[39m.\u001b[39mINERTANCE:\n\u001b[0;32m    288\u001b[0m         \u001b[39massert\u001b[39;00m num_effort_predecessors \u001b[39m==\u001b[39m \u001b[39m1\u001b[39m\n\u001b[0;32m    289\u001b[0m         attached_bond \u001b[39m=\u001b[39m \u001b[39mlist\u001b[39m(\u001b[39mself\u001b[39m\u001b[39m.\u001b[39meffort_causal_graph\u001b[39m.\u001b[39min_edges(node_index, data\u001b[39m=\u001b[39m\u001b[39mTrue\u001b[39;00m))[\u001b[39m0\u001b[39m]\n\u001b[0;32m    290\u001b[0m         \n\u001b[0;32m    291\u001b[0m         \u001b[39m# Constitutive law (integral causality): f = p/I\u001b[39;00m\n\u001b[0;32m    292\u001b[0m         expr\u001b[39m.\u001b[39mappend(Eq(attached_bond[\u001b[39m2\u001b[39m][\u001b[39m'\u001b[39m\u001b[39mf\u001b[39m\u001b[39m'\u001b[39m] , node[\u001b[39m'\u001b[39m\u001b[39mp\u001b[39m\u001b[39m'\u001b[39m]\u001b[39m/\u001b[39mnode[\u001b[39m'\u001b[39m\u001b[39mparams\u001b[39m\u001b[39m'\u001b[39m][\u001b[39m'\u001b[39m\u001b[39mI\u001b[39m\u001b[39m'\u001b[39m]))\n\u001b[0;32m    293\u001b[0m         \n\u001b[0;32m    294\u001b[0m         \u001b[39m# Co-energy equality: set the derivative of the momentum equal to the effort attribute of the connecting bond\u001b[39;00m\n\u001b[0;32m    295\u001b[0m         expr\u001b[39m.\u001b[39mappend(Eq(node[\u001b[39m'\u001b[39m\u001b[39mp_dot\u001b[39m\u001b[39m'\u001b[39m], attached_bond[\u001b[39m2\u001b[39m][\u001b[39m'\u001b[39m\u001b[39me\u001b[39m\u001b[39m'\u001b[39m]))\n\u001b[0;32m    296\u001b[0m     \n\u001b[0;32m    297\u001b[0m     \u001b[39mcase\u001b[39;00m BondGraphElementTypes\u001b[39m.\u001b[39mRESISTANCE:\n\u001b[0;32m    298\u001b[0m         \u001b[39massert\u001b[39;00m num_effort_predecessors\u001b[39m==\u001b[39m\u001b[39m1\u001b[39m \u001b[39mor\u001b[39;00m num_flow_predecessors\u001b[39m==\u001b[39m\u001b[39m1\u001b[39m\n\u001b[0;32m    299\u001b[0m         \u001b[39massert\u001b[39;00m num_effort_predecessors \u001b[39m!=\u001b[39m num_flow_predecessors\n\u001b[0;32m    300\u001b[0m         \n\u001b[0;32m    301\u001b[0m         \u001b[39m# Contitutive law (flow causality): e = f*R\u001b[39;00m\n\u001b[0;32m    302\u001b[0m         \u001b[39mif\u001b[39;00m num_flow_predecessors \u001b[39m==\u001b[39m \u001b[39m1\u001b[39m:\n\u001b[0;32m    303\u001b[0m             attached_bond \u001b[39m=\u001b[39m \u001b[39mlist\u001b[39m(\u001b[39mself\u001b[39m\u001b[39m.\u001b[39mflow_causal_graph\u001b[39m.\u001b[39min_edges(node_index, data\u001b[39m=\u001b[39m\u001b[39mTrue\u001b[39;00m))[\u001b[39m0\u001b[39m]\n\u001b[0;32m    304\u001b[0m             expr\u001b[39m.\u001b[39mappend(Eq(attached_bond[EDGE_ATTRIBUTE_DICTIONARY_INDEX][\u001b[39m'\u001b[39m\u001b[39me\u001b[39m\u001b[39m'\u001b[39m] , attached_bond[EDGE_ATTRIBUTE_DICTIONARY_INDEX][\u001b[39m'\u001b[39m\u001b[39mf\u001b[39m\u001b[39m'\u001b[39m]\u001b[39m*\u001b[39mnode[\u001b[39m'\u001b[39m\u001b[39mparams\u001b[39m\u001b[39m'\u001b[39m][\u001b[39m'\u001b[39m\u001b[39mR\u001b[39m\u001b[39m'\u001b[39m]))\n\u001b[0;32m    305\u001b[0m         \n\u001b[0;32m    306\u001b[0m         \u001b[39m# Contitutive law (flow causality): f = e/R\u001b[39;00m\n\u001b[0;32m    307\u001b[0m         \u001b[39melif\u001b[39;00m num_effort_predecessors \u001b[39m==\u001b[39m \u001b[39m1\u001b[39m:\n\u001b[0;32m    308\u001b[0m             attached_bond \u001b[39m=\u001b[39m \u001b[39mlist\u001b[39m(\u001b[39mself\u001b[39m\u001b[39m.\u001b[39meffort_causal_graph\u001b[39m.\u001b[39min_edges(node_index, data\u001b[39m=\u001b[39m\u001b[39mTrue\u001b[39;00m))[\u001b[39m0\u001b[39m]\n\u001b[0;32m    309\u001b[0m             expr\u001b[39m.\u001b[39mappend(Eq(attached_bond[EDGE_ATTRIBUTE_DICTIONARY_INDEX][\u001b[39m'\u001b[39m\u001b[39mf\u001b[39m\u001b[39m'\u001b[39m] , attached_bond[EDGE_ATTRIBUTE_DICTIONARY_INDEX][\u001b[39m'\u001b[39m\u001b[39me\u001b[39m\u001b[39m'\u001b[39m]\u001b[39m/\u001b[39mnode[\u001b[39m'\u001b[39m\u001b[39mparams\u001b[39m\u001b[39m'\u001b[39m][\u001b[39m'\u001b[39m\u001b[39mR\u001b[39m\u001b[39m'\u001b[39m]))\n\u001b[0;32m    310\u001b[0m         \n\u001b[0;32m    311\u001b[0m     \u001b[39mcase\u001b[39;00m BondGraphElementTypes\u001b[39m.\u001b[39mEFFORT_SOURCE:\n\u001b[1;32m--> 312\u001b[0m         \u001b[39massert\u001b[39;00m num_effort_successors \u001b[39m==\u001b[39m \u001b[39m1\u001b[39m\n\u001b[0;32m    313\u001b[0m         attached_bond \u001b[39m=\u001b[39m \u001b[39mlist\u001b[39m(\u001b[39mself\u001b[39m\u001b[39m.\u001b[39meffort_causal_graph\u001b[39m.\u001b[39mout_edges(node_index, data\u001b[39m=\u001b[39m\u001b[39mTrue\u001b[39;00m))[\u001b[39m0\u001b[39m]\n\u001b[0;32m    314\u001b[0m         expr\u001b[39m.\u001b[39mappend(Eq(node[\u001b[39m'\u001b[39m\u001b[39mSe\u001b[39m\u001b[39m'\u001b[39m], attached_bond[EDGE_ATTRIBUTE_DICTIONARY_INDEX][\u001b[39m'\u001b[39m\u001b[39me\u001b[39m\u001b[39m'\u001b[39m]))\n\u001b[0;32m    315\u001b[0m     \n\u001b[0;32m    316\u001b[0m     \u001b[39mcase\u001b[39;00m BondGraphElementTypes\u001b[39m.\u001b[39mFLOW_SOURCE:\n\u001b[0;32m    317\u001b[0m         \u001b[39massert\u001b[39;00m num_flow_successors \u001b[39m==\u001b[39m \u001b[39m1\u001b[39m\n\u001b[0;32m    318\u001b[0m         attached_bond \u001b[39m=\u001b[39m \u001b[39mlist\u001b[39m(\u001b[39mself\u001b[39m\u001b[39m.\u001b[39mflow_causal_graph\u001b[39m.\u001b[39mout_edges(node_index, data\u001b[39m=\u001b[39m\u001b[39mTrue\u001b[39;00m))[\u001b[39m0\u001b[39m]\n\u001b[0;32m    319\u001b[0m         expr\u001b[39m.\u001b[39mappend(Eq(node[\u001b[39m'\u001b[39m\u001b[39mSf\u001b[39m\u001b[39m'\u001b[39m], attached_bond[EDGE_ATTRIBUTE_DICTIONARY_INDEX][\u001b[39m'\u001b[39m\u001b[39mf\u001b[39m\u001b[39m'\u001b[39m]))\n\u001b[0;32m    320\u001b[0m     \n\u001b[0;32m    321\u001b[0m     \u001b[39mcase\u001b[39;00m BondGraphElementTypes\u001b[39m.\u001b[39mZERO_JUNCTION:  \n\u001b[0;32m    322\u001b[0m         effort_in_bonds \u001b[39m=\u001b[39m \u001b[39mlist\u001b[39m(\u001b[39mself\u001b[39m\u001b[39m.\u001b[39meffort_causal_graph\u001b[39m.\u001b[39min_edges(node_index, data\u001b[39m=\u001b[39m\u001b[39mTrue\u001b[39;00m))\n\u001b[0;32m    323\u001b[0m         \u001b[39massert\u001b[39;00m \u001b[39mlen\u001b[39m(effort_in_bonds) \u001b[39m==\u001b[39m \u001b[39m1\u001b[39m \u001b[39m# Make sure there is only one flow causality source\u001b[39;00m\n\u001b[0;32m    324\u001b[0m         \n\u001b[0;32m    325\u001b[0m         effort_out_bonds \u001b[39m=\u001b[39m \u001b[39mlist\u001b[39m(\u001b[39mself\u001b[39m\u001b[39m.\u001b[39meffort_causal_graph\u001b[39m.\u001b[39mout_edges(node_index, data\u001b[39m=\u001b[39m\u001b[39mTrue\u001b[39;00m)) \n\u001b[0;32m    326\u001b[0m \n\u001b[0;32m    327\u001b[0m         \u001b[39m# Power conservation via sum of flows equaling zero\u001b[39;00m\n\u001b[0;32m    328\u001b[0m         expr\u001b[39m.\u001b[39mappend(Eq(effort_in_bonds[\u001b[39m0\u001b[39m][EDGE_ATTRIBUTE_DICTIONARY_INDEX][\u001b[39m'\u001b[39m\u001b[39mf\u001b[39m\u001b[39m'\u001b[39m]\u001b[39m*\u001b[39meffort_in_bonds[\u001b[39m0\u001b[39m][EDGE_ATTRIBUTE_DICTIONARY_INDEX][\u001b[39m'\u001b[39m\u001b[39mpower_sign\u001b[39m\u001b[39m'\u001b[39m], \\\n\u001b[0;32m    329\u001b[0m             \u001b[39msum\u001b[39m(effort_out_bond[EDGE_ATTRIBUTE_DICTIONARY_INDEX][\u001b[39m'\u001b[39m\u001b[39mf\u001b[39m\u001b[39m'\u001b[39m]\u001b[39m*\u001b[39meffort_out_bond[EDGE_ATTRIBUTE_DICTIONARY_INDEX][\u001b[39m'\u001b[39m\u001b[39mpower_sign\u001b[39m\u001b[39m'\u001b[39m] \u001b[39mfor\u001b[39;00m effort_out_bond \u001b[39min\u001b[39;00m flow_out_bonds)))\n\u001b[0;32m    330\u001b[0m         \n\u001b[0;32m    331\u001b[0m         \u001b[39m# All efforts equal each other\u001b[39;00m\n\u001b[0;32m    332\u001b[0m         \u001b[39mfor\u001b[39;00m effort_out_bond \u001b[39min\u001b[39;00m effort_out_bonds:\n\u001b[0;32m    333\u001b[0m             expr\u001b[39m.\u001b[39mappend(Eq(effort_in_bonds[\u001b[39m0\u001b[39m][EDGE_ATTRIBUTE_DICTIONARY_INDEX][\u001b[39m'\u001b[39m\u001b[39me\u001b[39m\u001b[39m'\u001b[39m], effort_out_bond[EDGE_ATTRIBUTE_DICTIONARY_INDEX][\u001b[39m'\u001b[39m\u001b[39me\u001b[39m\u001b[39m'\u001b[39m]))\n\u001b[0;32m    334\u001b[0m     \n\u001b[0;32m    335\u001b[0m     \u001b[39mcase\u001b[39;00m BondGraphElementTypes\u001b[39m.\u001b[39mONE_JUNCTION:\n\u001b[0;32m    336\u001b[0m         \n\u001b[0;32m    337\u001b[0m         flow_in_bonds \u001b[39m=\u001b[39m \u001b[39mlist\u001b[39m(\u001b[39mself\u001b[39m\u001b[39m.\u001b[39mflow_causal_graph\u001b[39m.\u001b[39min_edges(node_index, data\u001b[39m=\u001b[39m\u001b[39mTrue\u001b[39;00m))\n\u001b[0;32m    338\u001b[0m         \u001b[39massert\u001b[39;00m \u001b[39mlen\u001b[39m(flow_in_bonds) \u001b[39m==\u001b[39m \u001b[39m1\u001b[39m \u001b[39m# Make sure there is only one flow causality source\u001b[39;00m\n\u001b[0;32m    339\u001b[0m         \n\u001b[0;32m    340\u001b[0m         flow_out_bonds \u001b[39m=\u001b[39m \u001b[39mlist\u001b[39m(\u001b[39mself\u001b[39m\u001b[39m.\u001b[39mflow_causal_graph\u001b[39m.\u001b[39mout_edges(node_index, data\u001b[39m=\u001b[39m\u001b[39mTrue\u001b[39;00m)) \n\u001b[0;32m    341\u001b[0m \n\u001b[0;32m    342\u001b[0m         \u001b[39m# Power conservation via sum of efforts equaling zero\u001b[39;00m\n\u001b[0;32m    343\u001b[0m         expr\u001b[39m.\u001b[39mappend(Eq(flow_in_bonds[\u001b[39m0\u001b[39m][EDGE_ATTRIBUTE_DICTIONARY_INDEX][\u001b[39m'\u001b[39m\u001b[39me\u001b[39m\u001b[39m'\u001b[39m]\u001b[39m*\u001b[39mflow_in_bonds[\u001b[39m0\u001b[39m][EDGE_ATTRIBUTE_DICTIONARY_INDEX][\u001b[39m'\u001b[39m\u001b[39mpower_sign\u001b[39m\u001b[39m'\u001b[39m], \\\n\u001b[0;32m    344\u001b[0m             \u001b[39msum\u001b[39m(flow_out_bond[EDGE_ATTRIBUTE_DICTIONARY_INDEX][\u001b[39m'\u001b[39m\u001b[39me\u001b[39m\u001b[39m'\u001b[39m]\u001b[39m*\u001b[39mflow_out_bond[EDGE_ATTRIBUTE_DICTIONARY_INDEX][\u001b[39m'\u001b[39m\u001b[39mpower_sign\u001b[39m\u001b[39m'\u001b[39m] \u001b[39mfor\u001b[39;00m flow_out_bond \u001b[39min\u001b[39;00m flow_out_bonds)))\n\u001b[0;32m    345\u001b[0m         \n\u001b[0;32m    346\u001b[0m         \u001b[39m# All flows equal each other\u001b[39;00m\n\u001b[0;32m    347\u001b[0m         \u001b[39mfor\u001b[39;00m flow_out_bond \u001b[39min\u001b[39;00m flow_out_bonds:\n\u001b[0;32m    348\u001b[0m             expr\u001b[39m.\u001b[39mappend(Eq(flow_in_bonds[\u001b[39m0\u001b[39m][EDGE_ATTRIBUTE_DICTIONARY_INDEX][\u001b[39m'\u001b[39m\u001b[39mf\u001b[39m\u001b[39m'\u001b[39m], flow_out_bond[EDGE_ATTRIBUTE_DICTIONARY_INDEX][\u001b[39m'\u001b[39m\u001b[39mf\u001b[39m\u001b[39m'\u001b[39m]))\n\u001b[0;32m    349\u001b[0m \n\u001b[0;32m    350\u001b[0m     \u001b[39m# case BondGraphElementTypes.TRANSFORMER:\u001b[39;00m\n\u001b[0;32m    351\u001b[0m     \u001b[39m#     pass\u001b[39;00m\n\u001b[0;32m    352\u001b[0m     \n\u001b[0;32m    353\u001b[0m     \u001b[39m# case BondGraphElementTypes.GYRATOR:\u001b[39;00m\n\u001b[0;32m    354\u001b[0m     \u001b[39m#     pass\u001b[39;00m\n\u001b[0;32m    355\u001b[0m     \n\u001b[0;32m    356\u001b[0m     \u001b[39mcase\u001b[39;00m\u001b[39m \u001b[39m\u001b[39m_\u001b[39;00m:\n\u001b[0;32m    357\u001b[0m         \u001b[39mreturn\u001b[39;00m\n\u001b[0;32m    358\u001b[0m \u001b[39mreturn\u001b[39;00m expr\n",
      "\u001b[1;31mAssertionError\u001b[0m: "
     ]
    }
   ],
   "source": [
    "t_span = [0, 10]\n",
    "time_array = np.linspace(t_span[0], t_span[1], 500)\n",
    "\n",
    "s0 = BondGraph(max_nodes=20, num_states=4, time_array=time_array)\n",
    "s0.add_element(EffortSource())\n",
    "s0.add_element(Capacitance(0.1))\n",
    "\n",
    "labels = nx.get_node_attributes(s0.flow_causal_graph, 'element_label')\n",
    "nx.draw(s0.flow_causal_graph, labels=labels, with_labels=True, node_size=1000)\n"
   ]
  },
  {
   "cell_type": "code",
   "execution_count": null,
   "metadata": {},
   "outputs": [],
   "source": [
    "max_nodes = 50\n",
    "default_params = {\n",
    "    'R': 1,\n",
    "    'I': 1,\n",
    "    'C': 1,\n",
    "}\n",
    "env = gym.make('gym_bondgraph/BondGraphEnv-v4',  seed=420, seed_graph=s0, max_nodes=max_nodes, default_params=default_params)"
   ]
  },
  {
   "cell_type": "code",
   "execution_count": 6,
   "metadata": {},
   "outputs": [
    {
     "ename": "NameError",
     "evalue": "name 'env' is not defined",
     "output_type": "error",
     "traceback": [
      "\u001b[1;31m---------------------------------------------------------------------------\u001b[0m",
      "\u001b[1;31mNameError\u001b[0m                                 Traceback (most recent call last)",
      "\u001b[1;32mc:\\Users\\Daniel\\Documents\\Python Projects\\AiPEX-Projects\\bond-graph-RL\\gym_run.ipynb Cell 4\u001b[0m line \u001b[0;36m1\n\u001b[1;32m----> <a href='vscode-notebook-cell:/c%3A/Users/Daniel/Documents/Python%20Projects/AiPEX-Projects/bond-graph-RL/gym_run.ipynb#W4sZmlsZQ%3D%3D?line=0'>1</a>\u001b[0m env\u001b[39m.\u001b[39mreset()\n\u001b[0;32m      <a href='vscode-notebook-cell:/c%3A/Users/Daniel/Documents/Python%20Projects/AiPEX-Projects/bond-graph-RL/gym_run.ipynb#W4sZmlsZQ%3D%3D?line=1'>2</a>\u001b[0m env\u001b[39m.\u001b[39mstep(BondGraphElementTypes\u001b[39m.\u001b[39mCAPACITANCE)\n",
      "\u001b[1;31mNameError\u001b[0m: name 'env' is not defined"
     ]
    }
   ],
   "source": [
    "env.reset()\n",
    "env.step(BondGraphElementTypes.CAPACITANCE)"
   ]
  }
 ],
 "metadata": {
  "kernelspec": {
   "display_name": "bond-graph",
   "language": "python",
   "name": "python3"
  },
  "language_info": {
   "codemirror_mode": {
    "name": "ipython",
    "version": 3
   },
   "file_extension": ".py",
   "mimetype": "text/x-python",
   "name": "python",
   "nbconvert_exporter": "python",
   "pygments_lexer": "ipython3",
   "version": "3.10.13"
  }
 },
 "nbformat": 4,
 "nbformat_minor": 2
}
