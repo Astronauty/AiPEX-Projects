{
 "cells": [
  {
   "cell_type": "code",
   "execution_count": 87,
   "metadata": {},
   "outputs": [],
   "source": [
    "\n",
    "import numpy as np\n",
    "import pygame\n",
    "import gymnasium as gym\n",
    "from gymnasium import spaces\n",
    "import math\n",
    "from bond_graph import *\n",
    "from bond_graph_nodes import*\n",
    "from itertools import permutations\n",
    "import random\n",
    "import copy\n",
    "from gymnasium.envs.registration import register\n",
    "from collections import *"
   ]
  },
  {
   "cell_type": "code",
   "execution_count": 99,
   "metadata": {},
   "outputs": [
    {
     "name": "stdout",
     "output_type": "stream",
     "text": [
      "Action Space:  Dict('bond': MultiDiscrete([8 8 2]), 'node_or_bond': Discrete(2), 'node_param': Discrete(10, start=1), 'node_type': Discrete(3, start=3))\n",
      "<class 'gymnasium.spaces.dict.Dict'>\n",
      "Flattened Action Space:  Box(0, 1, (33,), int64)\n",
      "<class 'gymnasium.spaces.box.Box'>\n",
      "Obs:  OrderedDict([('bond', array([0, 2, 1], dtype=int64)), ('node_or_bond', 0), ('node_param', 8), ('node_type', 4)])\n",
      "Flat Obs:  [1 0 0 0 0 0 0 0 0 0 1 0 0 0 0 0 0 1 1 0 0 0 0 0 0 0 0 1 0 0 0 1 0]\n",
      "OrderedDict([('bond', array([0, 2, 1], dtype=int64)), ('node_or_bond', 0), ('node_param', 8), ('node_type', 4)])\n"
     ]
    },
    {
     "ename": "TypeError",
     "evalue": "'builtin_function_or_method' object is not subscriptable",
     "output_type": "error",
     "traceback": [
      "\u001b[1;31m---------------------------------------------------------------------------\u001b[0m",
      "\u001b[1;31mTypeError\u001b[0m                                 Traceback (most recent call last)",
      "Cell \u001b[1;32mIn[99], line 36\u001b[0m\n\u001b[0;32m     32\u001b[0m unflattened_obs \u001b[38;5;241m=\u001b[39m spaces\u001b[38;5;241m.\u001b[39mutils\u001b[38;5;241m.\u001b[39munflatten(action_space, flat_obs)\n\u001b[0;32m     33\u001b[0m \u001b[38;5;28mprint\u001b[39m(unflattened_obs)\n\u001b[1;32m---> 36\u001b[0m guh \u001b[38;5;241m=\u001b[39m OrderedDict([(\u001b[38;5;124m'\u001b[39m\u001b[38;5;124mbond\u001b[39m\u001b[38;5;124m'\u001b[39m, \u001b[43mnp\u001b[49m\u001b[38;5;241;43m.\u001b[39;49m\u001b[43marray\u001b[49m\u001b[43m[\u001b[49m\u001b[38;5;241;43m2\u001b[39;49m\u001b[43m,\u001b[49m\u001b[43m \u001b[49m\u001b[38;5;241;43m0\u001b[39;49m\u001b[43m,\u001b[49m\u001b[43m \u001b[49m\u001b[38;5;241;43m0\u001b[39;49m\u001b[43m]\u001b[49m), (\u001b[38;5;124m'\u001b[39m\u001b[38;5;124mnode_or_bond\u001b[39m\u001b[38;5;124m'\u001b[39m, \u001b[38;5;241m0\u001b[39m), (\u001b[38;5;124m'\u001b[39m\u001b[38;5;124mnode_param\u001b[39m\u001b[38;5;124m'\u001b[39m, \u001b[38;5;241m8\u001b[39m), (\u001b[38;5;124m'\u001b[39m\u001b[38;5;124mnode_type\u001b[39m\u001b[38;5;124m'\u001b[39m, \u001b[38;5;241m3\u001b[39m)])\n\u001b[0;32m     37\u001b[0m \u001b[38;5;28mprint\u001b[39m(guh)\n",
      "\u001b[1;31mTypeError\u001b[0m: 'builtin_function_or_method' object is not subscriptable"
     ]
    }
   ],
   "source": [
    "seed = None\n",
    "MAX_PARAM_VAL = 10\n",
    "num_node_types = 6\n",
    "max_nodes = 8\n",
    "\n",
    "add_node_space = spaces.Discrete(num_node_types-3, start=3, seed=seed) # node additions correspond to choosing what type you want, don't include the NONE type for adding\n",
    "add_edge_space = spaces.MultiDiscrete([max_nodes, max_nodes, 2], seed=seed) # edge additions sample space\n",
    "\n",
    "action_space = spaces.Dict(\n",
    "    {\n",
    "        'node_or_bond': spaces.Discrete(2, start=0, seed=seed),\n",
    "        'node_param': spaces.Discrete(MAX_PARAM_VAL, start=1, seed=seed),\n",
    "        \"node_type\": add_node_space,\n",
    "        \"bond\": add_edge_space,\n",
    "    }\n",
    ")\n",
    "\n",
    "print(\"Action Space: \", action_space)\n",
    "print(type(action_space))\n",
    "\n",
    "flattened_action_space = spaces.utils.flatten_space(action_space)\n",
    "print(\"Flattened Action Space: \", flattened_action_space)\n",
    "print(type(flattened_action_space))\n",
    "\n",
    "\n",
    "obs = action_space.sample()\n",
    "print(\"Obs: \", obs)\n",
    "\n",
    "flat_obs = spaces.utils.flatten(action_space, obs)\n",
    "print(\"Flat Obs: \", flat_obs)\n",
    "\n",
    "unflattened_obs = spaces.utils.unflatten(action_space, flat_obs)\n",
    "print(unflattened_obs)\n",
    "\n",
    "\n",
    "# guh = OrderedDict([('bond', np.array[2, 0, 0]), ('node_or_bond', 0), ('node_param', 8), ('node_type', 3)])\n",
    "# print(guh)\n",
    "# flattened_guh = spaces.utils.flatten(action_space, guh)"
   ]
  },
  {
   "cell_type": "code",
   "execution_count": 28,
   "metadata": {},
   "outputs": [
    {
     "name": "stdout",
     "output_type": "stream",
     "text": [
      "OrderedDict([('position', 0), ('velocity', array([[0.7972299 , 0.27445236],\n",
      "       [0.9572579 , 0.88732606]], dtype=float32))])\n",
      "(6,)\n",
      "[1.         0.         0.79722989 0.27445236 0.95725793 0.88732606]\n"
     ]
    }
   ],
   "source": [
    "# from gymnasium.spaces import Dict, Discrete, Box\n",
    "space = spaces.Dict(\n",
    "    {\n",
    "        \"position\": spaces.Discrete(2), \n",
    "        \"velocity\": spaces.Box(0, 1, shape=(2, 2))\n",
    "    }\n",
    ") \n",
    "obs = space.sample()\n",
    "print(obs)\n",
    "\n",
    "flat_space = spaces.utils.flatten_space(space) \n",
    "print(flat_space.shape)\n",
    "flat_obs = spaces.utils.flatten(space, obs)\n",
    "print(flat_obs)\n"
   ]
  }
 ],
 "metadata": {
  "kernelspec": {
   "display_name": "bond-graph",
   "language": "python",
   "name": "python3"
  },
  "language_info": {
   "codemirror_mode": {
    "name": "ipython",
    "version": 3
   },
   "file_extension": ".py",
   "mimetype": "text/x-python",
   "name": "python",
   "nbconvert_exporter": "python",
   "pygments_lexer": "ipython3",
   "version": "3.10.13"
  }
 },
 "nbformat": 4,
 "nbformat_minor": 2
}
