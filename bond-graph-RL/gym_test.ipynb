{
 "cells": [
  {
   "cell_type": "code",
   "execution_count": 1,
   "metadata": {},
   "outputs": [
    {
     "name": "stdout",
     "output_type": "stream",
     "text": [
      "pygame 2.5.2 (SDL 2.30.2, Python 3.12.3)\n",
      "Hello from the pygame community. https://www.pygame.org/contribute.html\n"
     ]
    },
    {
     "name": "stderr",
     "output_type": "stream",
     "text": [
      "<frozen importlib._bootstrap>:488: RuntimeWarning: Your system is avx2 capable but pygame was not built with support for it. The performance of some of your blits could be adversely affected. Consider enabling compile time detection with environment variables like PYGAME_DETECT_AVX2=1 if you are compiling without cross compilation.\n"
     ]
    }
   ],
   "source": [
    "import numpy as np\n",
    "import pygame\n",
    "import gymnasium as gym\n",
    "from gymnasium import spaces\n",
    "import math\n",
    "from bond_graph import *\n",
    "from bond_graph_nodes import*\n",
    "from itertools import permutations\n",
    "import random\n",
    "import copy\n",
    "from gymnasium.envs.registration import register"
   ]
  },
  {
   "cell_type": "code",
   "execution_count": 52,
   "metadata": {},
   "outputs": [
    {
     "name": "stdout",
     "output_type": "stream",
     "text": [
      "3\n",
      "Flattened Action Space:  Box(0, 1, (33,), int64)\n",
      "[0 1 1 1 1 0 0 0 1 0 0 0 1 1 0 0 1 0 1 0 1 0 0 0 1 0 1 0 1 1 0 0 1]\n"
     ]
    }
   ],
   "source": [
    "seed = None\n",
    "MAX_PARAM_VAL = 10\n",
    "num_node_types = 6\n",
    "max_nodes = 8\n",
    "\n",
    "add_node_space = spaces.Discrete(num_node_types-3, start=3, seed=seed) # node additions correspond to choosing what type you want, don't include the NONE type for adding\n",
    "add_edge_space = spaces.MultiDiscrete([max_nodes, max_nodes, 2], seed=seed) # edge additions sample space\n",
    "\n",
    "action_space = spaces.Dict(\n",
    "    {\n",
    "        'node_or_bond': spaces.Discrete(2, start=0, seed=seed),\n",
    "        'node_param': spaces.Discrete(MAX_PARAM_VAL, start=1, seed=seed),\n",
    "        \"node_type\": add_node_space,\n",
    "        \"bond\": add_edge_space,\n",
    "    }\n",
    ")\n",
    "\n",
    "print(add_node_space.sample())\n",
    "\n",
    "# print(\"Action Space: \", action_space)\n",
    "\n",
    "flattened_action_space = spaces.utils.flatten_space(action_space)\n",
    "print(\"Flattened Action Space: \", flattened_action_space)\n",
    "print(flattened_action_space.sample())\n",
    "\n",
    "# obs = action_space.sample()\n",
    "# flat_obs = spaces.utils.flatten(action_space, obs)\n",
    "# print(\"Obs: \", obs)\n",
    "# print(\"Flat Obs: \", flat_obs)\n",
    "# print(flat_obs.shape)\n",
    "\n",
    "# unflattened_obs = spaces.utils.unflatten(action_space, flat_obs)\n",
    "# print(unflattened_obs)\n"
   ]
  },
  {
   "cell_type": "code",
   "execution_count": 11,
   "metadata": {},
   "outputs": [
    {
     "name": "stdout",
     "output_type": "stream",
     "text": [
      "OrderedDict({'position': 0, 'velocity': array([[0.1838431, 0.8598087],\n",
      "       [0.660587 , 0.7158184]], dtype=float32)})\n",
      "(6,)\n",
      "[1.         0.         0.18384311 0.85980868 0.66058701 0.71581841]\n"
     ]
    }
   ],
   "source": [
    "# from gymnasium.spaces import Dict, Discrete, Box\n",
    "space = spaces.Dict(\n",
    "    {\n",
    "        \"position\": spaces.Discrete(2), \n",
    "        \"velocity\": spaces.Box(0, 1, shape=(2, 2))\n",
    "    }\n",
    ") \n",
    "obs = space.sample()\n",
    "print(obs)\n",
    "\n",
    "flat_space = spaces.utils.flatten_space(space) \n",
    "print(flat_space.shape)\n",
    "flat_obs = spaces.utils.flatten(space, obs)\n",
    "print(flat_obs)\n"
   ]
  },
  {
   "cell_type": "code",
   "execution_count": 47,
   "metadata": {},
   "outputs": [
    {
     "name": "stdout",
     "output_type": "stream",
     "text": [
      "Dict('adjacency_matrix_space': Box(0, 1, (8, 8), int64), 'node_param_space': MultiDiscrete([5 5 5 5 5 5 5 5 5 5]), 'node_type_space': MultiDiscrete([3 3 3 3 3 3 3 3 3 3]))\n",
      "OrderedDict({'adjacency_matrix_space': array([[0, 0, 1, 0, 0, 0, 0, 1],\n",
      "       [1, 0, 0, 0, 0, 0, 1, 1],\n",
      "       [1, 1, 1, 1, 1, 0, 0, 0],\n",
      "       [0, 1, 0, 0, 1, 1, 1, 0],\n",
      "       [0, 0, 0, 0, 0, 1, 0, 0],\n",
      "       [0, 0, 1, 1, 0, 1, 0, 0],\n",
      "       [0, 1, 0, 1, 0, 1, 1, 1],\n",
      "       [1, 1, 1, 0, 0, 1, 0, 0]]), 'node_param_space': array([4, 3, 4, 2, 0, 1, 2, 0, 2, 1]), 'node_type_space': array([1, 0, 1, 0, 1, 0, 2, 2, 2, 1])})\n",
      "\n",
      "Box(0, 1, (144,), int64)\n",
      "[1 1 1 1 0 0 1 1 1 1 1 0 0 1 1 0 1 0 1 1 0 1 1 1 0 0 1 1 1 0 1 1 0 0 1 0 0\n",
      " 1 1 0 0 1 0 1 0 1 1 1 0 1 0 1 1 0 1 1 1 1 1 1 0 1 0 1 1 1 0 0 0 1 0 0 1 0\n",
      " 1 1 1 1 1 1 1 0 1 0 1 0 1 1 1 1 1 1 1 0 1 1 1 1 1 0 0 1 0 1 0 0 1 0 0 0 1\n",
      " 1 0 1 0 0 1 1 0 0 0 0 0 1 1 1 0 1 0 1 0 1 0 1 0 0 1 1 0 1 0 0 1 1]\n"
     ]
    }
   ],
   "source": [
    "adjacency_matrix_space = spaces.Box(low=0, high=1, shape=(max_nodes, max_nodes), dtype=np.int64) # represents the flow-causal adacency matrix\n",
    "node_type_space = spaces.MultiDiscrete([3]*10, seed=seed) # look at up to the number of max_nodes\n",
    "node_parameter_space = spaces.MultiDiscrete([5]*10, seed=seed)\n",
    "\n",
    "## Dictionary\n",
    "observation_space = spaces.Dict(\n",
    "    {\n",
    "        \"adjacency_matrix_space\": adjacency_matrix_space,\n",
    "        \"node_type_space\": node_type_space,\n",
    "        \"node_param_space\": node_parameter_space\n",
    "    }\n",
    ")\n",
    "\n",
    "print(observation_space)\n",
    "print(observation_space.sample())\n",
    "print()\n",
    "\n",
    "## Tuple\n",
    "# observation_space = spaces.Tuple((adjacency_matrix_space, node_type_space, node_parameter_space))\n",
    "# print(observation_space)\n",
    "# print(observation_space.sample())\n",
    "# print()\n",
    "\n",
    "n_observations = env.flattened_observation_space.shape[0]"
   ]
  },
  {
   "cell_type": "markdown",
   "metadata": {},
   "source": [
    "### Test manual mapping of integer to composite action space"
   ]
  },
  {
   "cell_type": "code",
   "execution_count": 82,
   "metadata": {},
   "outputs": [
    {
     "name": "stdout",
     "output_type": "stream",
     "text": [
      "[0, 1, 3, 0, 1]\n",
      "959616\n"
     ]
    }
   ],
   "source": [
    "action_space_indices = []\n",
    "MIN_PARAM_VAL = 1\n",
    "MAX_PARAM_VAL = 2500\n",
    "num_node_types = 3\n",
    "for node_or_bond in range(2):\n",
    "    for node_param in range(MIN_PARAM_VAL, MAX_PARAM_VAL):\n",
    "        for node_type in range(3, 3+num_node_types):\n",
    "            for bond1 in range(max_nodes):\n",
    "                for bond2 in range(max_nodes):\n",
    "                    action_index = [node_or_bond, node_param, node_type, bond1, bond2]\n",
    "                    action_space_indices.append(action_index)\n",
    "\n",
    "print(action_space_indices[1])\n",
    "print(len(action_space_indices))\n"
   ]
  }
 ],
 "metadata": {
  "kernelspec": {
   "display_name": "bond-graph",
   "language": "python",
   "name": "python3"
  },
  "language_info": {
   "codemirror_mode": {
    "name": "ipython",
    "version": 3
   },
   "file_extension": ".py",
   "mimetype": "text/x-python",
   "name": "python",
   "nbconvert_exporter": "python",
   "pygments_lexer": "ipython3",
   "version": "3.12.3"
  }
 },
 "nbformat": 4,
 "nbformat_minor": 2
}
