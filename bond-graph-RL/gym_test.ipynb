{
 "cells": [
  {
   "cell_type": "code",
   "execution_count": 1,
   "metadata": {},
   "outputs": [
    {
     "name": "stdout",
     "output_type": "stream",
     "text": [
      "pygame 2.5.2 (SDL 2.30.2, Python 3.12.3)\n",
      "Hello from the pygame community. https://www.pygame.org/contribute.html\n"
     ]
    },
    {
     "name": "stderr",
     "output_type": "stream",
     "text": [
      "<frozen importlib._bootstrap>:488: RuntimeWarning: Your system is avx2 capable but pygame was not built with support for it. The performance of some of your blits could be adversely affected. Consider enabling compile time detection with environment variables like PYGAME_DETECT_AVX2=1 if you are compiling without cross compilation.\n"
     ]
    }
   ],
   "source": [
    "import numpy as np\n",
    "import pygame\n",
    "import gymnasium as gym\n",
    "from gymnasium import spaces\n",
    "import math\n",
    "from bond_graph import *\n",
    "from bond_graph_nodes import*\n",
    "from itertools import permutations\n",
    "import random\n",
    "import copy\n",
    "from gymnasium.envs.registration import register"
   ]
  },
  {
   "cell_type": "code",
   "execution_count": 10,
   "metadata": {},
   "outputs": [
    {
     "name": "stdout",
     "output_type": "stream",
     "text": [
      "4\n"
     ]
    }
   ],
   "source": [
    "seed = None\n",
    "MAX_PARAM_VAL = 10\n",
    "num_node_types = 6\n",
    "max_nodes = 8\n",
    "\n",
    "add_node_space = spaces.Discrete(num_node_types-3, start=3, seed=seed) # node additions correspond to choosing what type you want, don't include the NONE type for adding\n",
    "add_edge_space = spaces.MultiDiscrete([max_nodes, max_nodes, 2], seed=seed) # edge additions sample space\n",
    "\n",
    "action_space = spaces.Dict(\n",
    "    {\n",
    "        'node_or_bond': spaces.Discrete(2, start=0, seed=seed),\n",
    "        'node_param': spaces.Discrete(MAX_PARAM_VAL, start=1, seed=seed),\n",
    "        \"node_type\": add_node_space,\n",
    "        \"bond\": add_edge_space,\n",
    "    }\n",
    ")\n",
    "\n",
    "print(add_node_space.sample())\n",
    "\n",
    "# print(\"Action Space: \", action_space)\n",
    "\n",
    "# flattened_action_space = spaces.utils.flatten_space(action_space)\n",
    "# print(\"Flattened Action Space: \", flattened_action_space)\n",
    "# print(flattened_action_space.shape)\n",
    "\n",
    "# obs = action_space.sample()\n",
    "# flat_obs = spaces.utils.flatten(action_space, obs)\n",
    "# print(\"Obs: \", obs)\n",
    "# print(\"Flat Obs: \", flat_obs)\n",
    "# print(flat_obs.shape)\n",
    "\n",
    "# unflattened_obs = spaces.utils.unflatten(action_space, flat_obs)\n",
    "# print(unflattened_obs)\n"
   ]
  },
  {
   "cell_type": "code",
   "execution_count": 3,
   "metadata": {},
   "outputs": [
    {
     "name": "stdout",
     "output_type": "stream",
     "text": [
      "OrderedDict({'position': 1, 'velocity': array([[0.6317108 , 0.9872838 ],\n",
      "       [0.4180581 , 0.32717404]], dtype=float32)})\n",
      "(6,)\n",
      "[0.         1.         0.63171083 0.98728383 0.4180581  0.32717404]\n"
     ]
    }
   ],
   "source": [
    "# from gymnasium.spaces import Dict, Discrete, Box\n",
    "space = spaces.Dict(\n",
    "    {\n",
    "        \"position\": spaces.Discrete(2), \n",
    "        \"velocity\": spaces.Box(0, 1, shape=(2, 2))\n",
    "    }\n",
    ") \n",
    "obs = space.sample()\n",
    "print(obs)\n",
    "\n",
    "flat_space = spaces.utils.flatten_space(space) \n",
    "print(flat_space.shape)\n",
    "flat_obs = spaces.utils.flatten(space, obs)\n",
    "print(flat_obs)\n"
   ]
  }
 ],
 "metadata": {
  "kernelspec": {
   "display_name": "bond-graph",
   "language": "python",
   "name": "python3"
  },
  "language_info": {
   "codemirror_mode": {
    "name": "ipython",
    "version": 3
   },
   "file_extension": ".py",
   "mimetype": "text/x-python",
   "name": "python",
   "nbconvert_exporter": "python",
   "pygments_lexer": "ipython3",
   "version": "3.12.3"
  }
 },
 "nbformat": 4,
 "nbformat_minor": 2
}
